{
  "cells": [
    {
      "cell_type": "markdown",
      "metadata": {
        "id": "view-in-github",
        "colab_type": "text"
      },
      "source": [
        "<a href=\"https://colab.research.google.com/github/Labani4321/Data-Science/blob/main/Alternate_Solution_credit_card_fraud_detection.ipynb\" target=\"_parent\"><img src=\"https://colab.research.google.com/assets/colab-badge.svg\" alt=\"Open In Colab\"/></a>"
      ]
    },
    {
      "cell_type": "markdown",
      "id": "0e610a5d",
      "metadata": {
        "id": "0e610a5d"
      },
      "source": [
        "### Credit Card Fraud Detection\n",
        "This project is related to building a Machine Learning module that can effectively detect Fraudlent Credit Card transactions and hence save money for the client Bank."
      ]
    },
    {
      "cell_type": "code",
      "execution_count": 9,
      "id": "3eae902b",
      "metadata": {
        "id": "3eae902b"
      },
      "outputs": [],
      "source": [
        "#from google.colab import drive\n",
        "#drive.mount('/content/gdrive')"
      ]
    },
    {
      "cell_type": "code",
      "execution_count": 10,
      "id": "e38aa2a4",
      "metadata": {
        "id": "e38aa2a4"
      },
      "outputs": [],
      "source": [
        "import warnings\n",
        "warnings.filterwarnings('ignore')"
      ]
    },
    {
      "cell_type": "code",
      "execution_count": 11,
      "id": "b2763fe2",
      "metadata": {
        "id": "b2763fe2"
      },
      "outputs": [],
      "source": [
        "import pandas as pd\n",
        "import numpy as np\n",
        "import matplotlib.pyplot as plt\n",
        "import seaborn as sns"
      ]
    },
    {
      "cell_type": "markdown",
      "id": "c1a72dc6",
      "metadata": {
        "id": "c1a72dc6"
      },
      "source": [
        "There are two datasets hosted by kaggle named test and train. Lets examine both the datasets to decide if they needs to be merged or if it is a good idea to keep the test dataset seperate for final evaluation."
      ]
    },
    {
      "cell_type": "code",
      "execution_count": 12,
      "id": "5f6f4a17",
      "metadata": {
        "id": "5f6f4a17"
      },
      "outputs": [],
      "source": [
        "# Importing both the datasets provided by kaggle\n",
        "#fraud = pd.read_csv('gdrive/My Drive/Capstone Project/fraudTrain.csv')\n",
        "#fraud_test = pd.read_csv('gdrive/My Drive/Capstone Project/fraudTest.csv')\n",
        "fraud = pd.read_csv('fraudTrain.csv')\n",
        "fraud_test = pd.read_csv('fraudTest.csv')"
      ]
    },
    {
      "cell_type": "markdown",
      "id": "25a8a357",
      "metadata": {
        "id": "25a8a357"
      },
      "source": [
        "### Exploratory Data Analysis\n",
        "- Univariate Analysis\n",
        "- Bivariate Analysis\n",
        "- Data Cleaning\n",
        "- Outlier Treatment\n",
        "- Variable Transformation"
      ]
    },
    {
      "cell_type": "code",
      "execution_count": 13,
      "id": "9b46789b",
      "metadata": {
        "colab": {
          "base_uri": "https://localhost:8080/",
          "height": 551
        },
        "id": "9b46789b",
        "outputId": "a43f3ddd-e965-4376-fc75-8a04dfc5b6cd"
      },
      "outputs": [
        {
          "output_type": "execute_result",
          "data": {
            "text/plain": [
              "   Unnamed: 0 trans_date_trans_time            cc_num  \\\n",
              "0           0   2019-01-01 00:00:18  2703186189652095   \n",
              "1           1   2019-01-01 00:00:44      630423337322   \n",
              "2           2   2019-01-01 00:00:51    38859492057661   \n",
              "3           3   2019-01-01 00:01:16  3534093764340240   \n",
              "4           4   2019-01-01 00:03:06   375534208663984   \n",
              "\n",
              "                             merchant       category     amt      first  \\\n",
              "0          fraud_Rippin, Kub and Mann       misc_net    4.97   Jennifer   \n",
              "1     fraud_Heller, Gutmann and Zieme    grocery_pos  107.23  Stephanie   \n",
              "2                fraud_Lind-Buckridge  entertainment  220.11     Edward   \n",
              "3  fraud_Kutch, Hermiston and Farrell  gas_transport   45.00     Jeremy   \n",
              "4                 fraud_Keeling-Crist       misc_pos   41.96      Tyler   \n",
              "\n",
              "      last gender                        street  ...      lat      long  \\\n",
              "0    Banks      F                561 Perry Cove  ...  36.0788  -81.1781   \n",
              "1     Gill      F  43039 Riley Greens Suite 393  ...  48.8878 -118.2105   \n",
              "2  Sanchez      M      594 White Dale Suite 530  ...  42.1808 -112.2620   \n",
              "3    White      M   9443 Cynthia Court Apt. 038  ...  46.2306 -112.1138   \n",
              "4   Garcia      M              408 Bradley Rest  ...  38.4207  -79.4629   \n",
              "\n",
              "   city_pop                                job         dob  \\\n",
              "0      3495          Psychologist, counselling  1988-03-09   \n",
              "1       149  Special educational needs teacher  1978-06-21   \n",
              "2      4154        Nature conservation officer  1962-01-19   \n",
              "3      1939                    Patent attorney  1967-01-12   \n",
              "4        99     Dance movement psychotherapist  1986-03-28   \n",
              "\n",
              "                          trans_num   unix_time  merch_lat  merch_long  \\\n",
              "0  0b242abb623afc578575680df30655b9  1325376018  36.011293  -82.048315   \n",
              "1  1f76529f8574734946361c461b024d99  1325376044  49.159047 -118.186462   \n",
              "2  a1a22d70485983eac12b5b88dad1cf95  1325376051  43.150704 -112.154481   \n",
              "3  6b849c168bdad6f867558c3793159a81  1325376076  47.034331 -112.561071   \n",
              "4  a41d7549acf90789359a9aa5346dcb46  1325376186  38.674999  -78.632459   \n",
              "\n",
              "   is_fraud  \n",
              "0       0.0  \n",
              "1       0.0  \n",
              "2       0.0  \n",
              "3       0.0  \n",
              "4       0.0  \n",
              "\n",
              "[5 rows x 23 columns]"
            ],
            "text/html": [
              "\n",
              "  <div id=\"df-50fd5ec4-5c32-4ca3-bddb-27c01c189992\" class=\"colab-df-container\">\n",
              "    <div>\n",
              "<style scoped>\n",
              "    .dataframe tbody tr th:only-of-type {\n",
              "        vertical-align: middle;\n",
              "    }\n",
              "\n",
              "    .dataframe tbody tr th {\n",
              "        vertical-align: top;\n",
              "    }\n",
              "\n",
              "    .dataframe thead th {\n",
              "        text-align: right;\n",
              "    }\n",
              "</style>\n",
              "<table border=\"1\" class=\"dataframe\">\n",
              "  <thead>\n",
              "    <tr style=\"text-align: right;\">\n",
              "      <th></th>\n",
              "      <th>Unnamed: 0</th>\n",
              "      <th>trans_date_trans_time</th>\n",
              "      <th>cc_num</th>\n",
              "      <th>merchant</th>\n",
              "      <th>category</th>\n",
              "      <th>amt</th>\n",
              "      <th>first</th>\n",
              "      <th>last</th>\n",
              "      <th>gender</th>\n",
              "      <th>street</th>\n",
              "      <th>...</th>\n",
              "      <th>lat</th>\n",
              "      <th>long</th>\n",
              "      <th>city_pop</th>\n",
              "      <th>job</th>\n",
              "      <th>dob</th>\n",
              "      <th>trans_num</th>\n",
              "      <th>unix_time</th>\n",
              "      <th>merch_lat</th>\n",
              "      <th>merch_long</th>\n",
              "      <th>is_fraud</th>\n",
              "    </tr>\n",
              "  </thead>\n",
              "  <tbody>\n",
              "    <tr>\n",
              "      <th>0</th>\n",
              "      <td>0</td>\n",
              "      <td>2019-01-01 00:00:18</td>\n",
              "      <td>2703186189652095</td>\n",
              "      <td>fraud_Rippin, Kub and Mann</td>\n",
              "      <td>misc_net</td>\n",
              "      <td>4.97</td>\n",
              "      <td>Jennifer</td>\n",
              "      <td>Banks</td>\n",
              "      <td>F</td>\n",
              "      <td>561 Perry Cove</td>\n",
              "      <td>...</td>\n",
              "      <td>36.0788</td>\n",
              "      <td>-81.1781</td>\n",
              "      <td>3495</td>\n",
              "      <td>Psychologist, counselling</td>\n",
              "      <td>1988-03-09</td>\n",
              "      <td>0b242abb623afc578575680df30655b9</td>\n",
              "      <td>1325376018</td>\n",
              "      <td>36.011293</td>\n",
              "      <td>-82.048315</td>\n",
              "      <td>0.0</td>\n",
              "    </tr>\n",
              "    <tr>\n",
              "      <th>1</th>\n",
              "      <td>1</td>\n",
              "      <td>2019-01-01 00:00:44</td>\n",
              "      <td>630423337322</td>\n",
              "      <td>fraud_Heller, Gutmann and Zieme</td>\n",
              "      <td>grocery_pos</td>\n",
              "      <td>107.23</td>\n",
              "      <td>Stephanie</td>\n",
              "      <td>Gill</td>\n",
              "      <td>F</td>\n",
              "      <td>43039 Riley Greens Suite 393</td>\n",
              "      <td>...</td>\n",
              "      <td>48.8878</td>\n",
              "      <td>-118.2105</td>\n",
              "      <td>149</td>\n",
              "      <td>Special educational needs teacher</td>\n",
              "      <td>1978-06-21</td>\n",
              "      <td>1f76529f8574734946361c461b024d99</td>\n",
              "      <td>1325376044</td>\n",
              "      <td>49.159047</td>\n",
              "      <td>-118.186462</td>\n",
              "      <td>0.0</td>\n",
              "    </tr>\n",
              "    <tr>\n",
              "      <th>2</th>\n",
              "      <td>2</td>\n",
              "      <td>2019-01-01 00:00:51</td>\n",
              "      <td>38859492057661</td>\n",
              "      <td>fraud_Lind-Buckridge</td>\n",
              "      <td>entertainment</td>\n",
              "      <td>220.11</td>\n",
              "      <td>Edward</td>\n",
              "      <td>Sanchez</td>\n",
              "      <td>M</td>\n",
              "      <td>594 White Dale Suite 530</td>\n",
              "      <td>...</td>\n",
              "      <td>42.1808</td>\n",
              "      <td>-112.2620</td>\n",
              "      <td>4154</td>\n",
              "      <td>Nature conservation officer</td>\n",
              "      <td>1962-01-19</td>\n",
              "      <td>a1a22d70485983eac12b5b88dad1cf95</td>\n",
              "      <td>1325376051</td>\n",
              "      <td>43.150704</td>\n",
              "      <td>-112.154481</td>\n",
              "      <td>0.0</td>\n",
              "    </tr>\n",
              "    <tr>\n",
              "      <th>3</th>\n",
              "      <td>3</td>\n",
              "      <td>2019-01-01 00:01:16</td>\n",
              "      <td>3534093764340240</td>\n",
              "      <td>fraud_Kutch, Hermiston and Farrell</td>\n",
              "      <td>gas_transport</td>\n",
              "      <td>45.00</td>\n",
              "      <td>Jeremy</td>\n",
              "      <td>White</td>\n",
              "      <td>M</td>\n",
              "      <td>9443 Cynthia Court Apt. 038</td>\n",
              "      <td>...</td>\n",
              "      <td>46.2306</td>\n",
              "      <td>-112.1138</td>\n",
              "      <td>1939</td>\n",
              "      <td>Patent attorney</td>\n",
              "      <td>1967-01-12</td>\n",
              "      <td>6b849c168bdad6f867558c3793159a81</td>\n",
              "      <td>1325376076</td>\n",
              "      <td>47.034331</td>\n",
              "      <td>-112.561071</td>\n",
              "      <td>0.0</td>\n",
              "    </tr>\n",
              "    <tr>\n",
              "      <th>4</th>\n",
              "      <td>4</td>\n",
              "      <td>2019-01-01 00:03:06</td>\n",
              "      <td>375534208663984</td>\n",
              "      <td>fraud_Keeling-Crist</td>\n",
              "      <td>misc_pos</td>\n",
              "      <td>41.96</td>\n",
              "      <td>Tyler</td>\n",
              "      <td>Garcia</td>\n",
              "      <td>M</td>\n",
              "      <td>408 Bradley Rest</td>\n",
              "      <td>...</td>\n",
              "      <td>38.4207</td>\n",
              "      <td>-79.4629</td>\n",
              "      <td>99</td>\n",
              "      <td>Dance movement psychotherapist</td>\n",
              "      <td>1986-03-28</td>\n",
              "      <td>a41d7549acf90789359a9aa5346dcb46</td>\n",
              "      <td>1325376186</td>\n",
              "      <td>38.674999</td>\n",
              "      <td>-78.632459</td>\n",
              "      <td>0.0</td>\n",
              "    </tr>\n",
              "  </tbody>\n",
              "</table>\n",
              "<p>5 rows × 23 columns</p>\n",
              "</div>\n",
              "    <div class=\"colab-df-buttons\">\n",
              "\n",
              "  <div class=\"colab-df-container\">\n",
              "    <button class=\"colab-df-convert\" onclick=\"convertToInteractive('df-50fd5ec4-5c32-4ca3-bddb-27c01c189992')\"\n",
              "            title=\"Convert this dataframe to an interactive table.\"\n",
              "            style=\"display:none;\">\n",
              "\n",
              "  <svg xmlns=\"http://www.w3.org/2000/svg\" height=\"24px\" viewBox=\"0 -960 960 960\">\n",
              "    <path d=\"M120-120v-720h720v720H120Zm60-500h600v-160H180v160Zm220 220h160v-160H400v160Zm0 220h160v-160H400v160ZM180-400h160v-160H180v160Zm440 0h160v-160H620v160ZM180-180h160v-160H180v160Zm440 0h160v-160H620v160Z\"/>\n",
              "  </svg>\n",
              "    </button>\n",
              "\n",
              "  <style>\n",
              "    .colab-df-container {\n",
              "      display:flex;\n",
              "      gap: 12px;\n",
              "    }\n",
              "\n",
              "    .colab-df-convert {\n",
              "      background-color: #E8F0FE;\n",
              "      border: none;\n",
              "      border-radius: 50%;\n",
              "      cursor: pointer;\n",
              "      display: none;\n",
              "      fill: #1967D2;\n",
              "      height: 32px;\n",
              "      padding: 0 0 0 0;\n",
              "      width: 32px;\n",
              "    }\n",
              "\n",
              "    .colab-df-convert:hover {\n",
              "      background-color: #E2EBFA;\n",
              "      box-shadow: 0px 1px 2px rgba(60, 64, 67, 0.3), 0px 1px 3px 1px rgba(60, 64, 67, 0.15);\n",
              "      fill: #174EA6;\n",
              "    }\n",
              "\n",
              "    .colab-df-buttons div {\n",
              "      margin-bottom: 4px;\n",
              "    }\n",
              "\n",
              "    [theme=dark] .colab-df-convert {\n",
              "      background-color: #3B4455;\n",
              "      fill: #D2E3FC;\n",
              "    }\n",
              "\n",
              "    [theme=dark] .colab-df-convert:hover {\n",
              "      background-color: #434B5C;\n",
              "      box-shadow: 0px 1px 3px 1px rgba(0, 0, 0, 0.15);\n",
              "      filter: drop-shadow(0px 1px 2px rgba(0, 0, 0, 0.3));\n",
              "      fill: #FFFFFF;\n",
              "    }\n",
              "  </style>\n",
              "\n",
              "    <script>\n",
              "      const buttonEl =\n",
              "        document.querySelector('#df-50fd5ec4-5c32-4ca3-bddb-27c01c189992 button.colab-df-convert');\n",
              "      buttonEl.style.display =\n",
              "        google.colab.kernel.accessAllowed ? 'block' : 'none';\n",
              "\n",
              "      async function convertToInteractive(key) {\n",
              "        const element = document.querySelector('#df-50fd5ec4-5c32-4ca3-bddb-27c01c189992');\n",
              "        const dataTable =\n",
              "          await google.colab.kernel.invokeFunction('convertToInteractive',\n",
              "                                                    [key], {});\n",
              "        if (!dataTable) return;\n",
              "\n",
              "        const docLinkHtml = 'Like what you see? Visit the ' +\n",
              "          '<a target=\"_blank\" href=https://colab.research.google.com/notebooks/data_table.ipynb>data table notebook</a>'\n",
              "          + ' to learn more about interactive tables.';\n",
              "        element.innerHTML = '';\n",
              "        dataTable['output_type'] = 'display_data';\n",
              "        await google.colab.output.renderOutput(dataTable, element);\n",
              "        const docLink = document.createElement('div');\n",
              "        docLink.innerHTML = docLinkHtml;\n",
              "        element.appendChild(docLink);\n",
              "      }\n",
              "    </script>\n",
              "  </div>\n",
              "\n",
              "\n",
              "<div id=\"df-c3a55c60-7d12-43cb-b46e-74c92f7e85e2\">\n",
              "  <button class=\"colab-df-quickchart\" onclick=\"quickchart('df-c3a55c60-7d12-43cb-b46e-74c92f7e85e2')\"\n",
              "            title=\"Suggest charts\"\n",
              "            style=\"display:none;\">\n",
              "\n",
              "<svg xmlns=\"http://www.w3.org/2000/svg\" height=\"24px\"viewBox=\"0 0 24 24\"\n",
              "     width=\"24px\">\n",
              "    <g>\n",
              "        <path d=\"M19 3H5c-1.1 0-2 .9-2 2v14c0 1.1.9 2 2 2h14c1.1 0 2-.9 2-2V5c0-1.1-.9-2-2-2zM9 17H7v-7h2v7zm4 0h-2V7h2v10zm4 0h-2v-4h2v4z\"/>\n",
              "    </g>\n",
              "</svg>\n",
              "  </button>\n",
              "\n",
              "<style>\n",
              "  .colab-df-quickchart {\n",
              "      --bg-color: #E8F0FE;\n",
              "      --fill-color: #1967D2;\n",
              "      --hover-bg-color: #E2EBFA;\n",
              "      --hover-fill-color: #174EA6;\n",
              "      --disabled-fill-color: #AAA;\n",
              "      --disabled-bg-color: #DDD;\n",
              "  }\n",
              "\n",
              "  [theme=dark] .colab-df-quickchart {\n",
              "      --bg-color: #3B4455;\n",
              "      --fill-color: #D2E3FC;\n",
              "      --hover-bg-color: #434B5C;\n",
              "      --hover-fill-color: #FFFFFF;\n",
              "      --disabled-bg-color: #3B4455;\n",
              "      --disabled-fill-color: #666;\n",
              "  }\n",
              "\n",
              "  .colab-df-quickchart {\n",
              "    background-color: var(--bg-color);\n",
              "    border: none;\n",
              "    border-radius: 50%;\n",
              "    cursor: pointer;\n",
              "    display: none;\n",
              "    fill: var(--fill-color);\n",
              "    height: 32px;\n",
              "    padding: 0;\n",
              "    width: 32px;\n",
              "  }\n",
              "\n",
              "  .colab-df-quickchart:hover {\n",
              "    background-color: var(--hover-bg-color);\n",
              "    box-shadow: 0 1px 2px rgba(60, 64, 67, 0.3), 0 1px 3px 1px rgba(60, 64, 67, 0.15);\n",
              "    fill: var(--button-hover-fill-color);\n",
              "  }\n",
              "\n",
              "  .colab-df-quickchart-complete:disabled,\n",
              "  .colab-df-quickchart-complete:disabled:hover {\n",
              "    background-color: var(--disabled-bg-color);\n",
              "    fill: var(--disabled-fill-color);\n",
              "    box-shadow: none;\n",
              "  }\n",
              "\n",
              "  .colab-df-spinner {\n",
              "    border: 2px solid var(--fill-color);\n",
              "    border-color: transparent;\n",
              "    border-bottom-color: var(--fill-color);\n",
              "    animation:\n",
              "      spin 1s steps(1) infinite;\n",
              "  }\n",
              "\n",
              "  @keyframes spin {\n",
              "    0% {\n",
              "      border-color: transparent;\n",
              "      border-bottom-color: var(--fill-color);\n",
              "      border-left-color: var(--fill-color);\n",
              "    }\n",
              "    20% {\n",
              "      border-color: transparent;\n",
              "      border-left-color: var(--fill-color);\n",
              "      border-top-color: var(--fill-color);\n",
              "    }\n",
              "    30% {\n",
              "      border-color: transparent;\n",
              "      border-left-color: var(--fill-color);\n",
              "      border-top-color: var(--fill-color);\n",
              "      border-right-color: var(--fill-color);\n",
              "    }\n",
              "    40% {\n",
              "      border-color: transparent;\n",
              "      border-right-color: var(--fill-color);\n",
              "      border-top-color: var(--fill-color);\n",
              "    }\n",
              "    60% {\n",
              "      border-color: transparent;\n",
              "      border-right-color: var(--fill-color);\n",
              "    }\n",
              "    80% {\n",
              "      border-color: transparent;\n",
              "      border-right-color: var(--fill-color);\n",
              "      border-bottom-color: var(--fill-color);\n",
              "    }\n",
              "    90% {\n",
              "      border-color: transparent;\n",
              "      border-bottom-color: var(--fill-color);\n",
              "    }\n",
              "  }\n",
              "</style>\n",
              "\n",
              "  <script>\n",
              "    async function quickchart(key) {\n",
              "      const quickchartButtonEl =\n",
              "        document.querySelector('#' + key + ' button');\n",
              "      quickchartButtonEl.disabled = true;  // To prevent multiple clicks.\n",
              "      quickchartButtonEl.classList.add('colab-df-spinner');\n",
              "      try {\n",
              "        const charts = await google.colab.kernel.invokeFunction(\n",
              "            'suggestCharts', [key], {});\n",
              "      } catch (error) {\n",
              "        console.error('Error during call to suggestCharts:', error);\n",
              "      }\n",
              "      quickchartButtonEl.classList.remove('colab-df-spinner');\n",
              "      quickchartButtonEl.classList.add('colab-df-quickchart-complete');\n",
              "    }\n",
              "    (() => {\n",
              "      let quickchartButtonEl =\n",
              "        document.querySelector('#df-c3a55c60-7d12-43cb-b46e-74c92f7e85e2 button');\n",
              "      quickchartButtonEl.style.display =\n",
              "        google.colab.kernel.accessAllowed ? 'block' : 'none';\n",
              "    })();\n",
              "  </script>\n",
              "</div>\n",
              "\n",
              "    </div>\n",
              "  </div>\n"
            ],
            "application/vnd.google.colaboratory.intrinsic+json": {
              "type": "dataframe",
              "variable_name": "fraud"
            }
          },
          "metadata": {},
          "execution_count": 13
        }
      ],
      "source": [
        "# check for the main (training) dataset\n",
        "fraud.head()"
      ]
    },
    {
      "cell_type": "code",
      "execution_count": 14,
      "id": "a21231d4",
      "metadata": {
        "colab": {
          "base_uri": "https://localhost:8080/"
        },
        "id": "a21231d4",
        "outputId": "bb08ad1e-4293-4990-ebfe-063ad37063d4"
      },
      "outputs": [
        {
          "output_type": "stream",
          "name": "stdout",
          "text": [
            "<class 'pandas.core.frame.DataFrame'>\n",
            "RangeIndex: 35041 entries, 0 to 35040\n",
            "Data columns (total 23 columns):\n",
            " #   Column                 Non-Null Count  Dtype  \n",
            "---  ------                 --------------  -----  \n",
            " 0   Unnamed: 0             35041 non-null  int64  \n",
            " 1   trans_date_trans_time  35041 non-null  object \n",
            " 2   cc_num                 35041 non-null  int64  \n",
            " 3   merchant               35041 non-null  object \n",
            " 4   category               35041 non-null  object \n",
            " 5   amt                    35041 non-null  float64\n",
            " 6   first                  35041 non-null  object \n",
            " 7   last                   35041 non-null  object \n",
            " 8   gender                 35041 non-null  object \n",
            " 9   street                 35041 non-null  object \n",
            " 10  city                   35041 non-null  object \n",
            " 11  state                  35041 non-null  object \n",
            " 12  zip                    35041 non-null  int64  \n",
            " 13  lat                    35041 non-null  float64\n",
            " 14  long                   35041 non-null  float64\n",
            " 15  city_pop               35041 non-null  int64  \n",
            " 16  job                    35041 non-null  object \n",
            " 17  dob                    35041 non-null  object \n",
            " 18  trans_num              35041 non-null  object \n",
            " 19  unix_time              35041 non-null  int64  \n",
            " 20  merch_lat              35041 non-null  float64\n",
            " 21  merch_long             35041 non-null  float64\n",
            " 22  is_fraud               35040 non-null  float64\n",
            "dtypes: float64(6), int64(5), object(12)\n",
            "memory usage: 6.1+ MB\n"
          ]
        }
      ],
      "source": [
        "# checking for various columns and nulls in the dataset\n",
        "fraud.info()"
      ]
    },
    {
      "cell_type": "code",
      "execution_count": 15,
      "id": "e864d6c4",
      "metadata": {
        "colab": {
          "base_uri": "https://localhost:8080/"
        },
        "id": "e864d6c4",
        "outputId": "9cc8a7d4-5b1b-45c2-e01e-b6ccce9bc64a"
      },
      "outputs": [
        {
          "output_type": "stream",
          "name": "stdout",
          "text": [
            "<class 'pandas.core.frame.DataFrame'>\n",
            "RangeIndex: 42783 entries, 0 to 42782\n",
            "Data columns (total 23 columns):\n",
            " #   Column                 Non-Null Count  Dtype  \n",
            "---  ------                 --------------  -----  \n",
            " 0   Unnamed: 0             42783 non-null  int64  \n",
            " 1   trans_date_trans_time  42783 non-null  object \n",
            " 2   cc_num                 42783 non-null  int64  \n",
            " 3   merchant               42783 non-null  object \n",
            " 4   category               42783 non-null  object \n",
            " 5   amt                    42783 non-null  float64\n",
            " 6   first                  42783 non-null  object \n",
            " 7   last                   42783 non-null  object \n",
            " 8   gender                 42783 non-null  object \n",
            " 9   street                 42783 non-null  object \n",
            " 10  city                   42783 non-null  object \n",
            " 11  state                  42783 non-null  object \n",
            " 12  zip                    42783 non-null  int64  \n",
            " 13  lat                    42783 non-null  float64\n",
            " 14  long                   42783 non-null  float64\n",
            " 15  city_pop               42783 non-null  int64  \n",
            " 16  job                    42783 non-null  object \n",
            " 17  dob                    42783 non-null  object \n",
            " 18  trans_num              42782 non-null  object \n",
            " 19  unix_time              42782 non-null  float64\n",
            " 20  merch_lat              42782 non-null  float64\n",
            " 21  merch_long             42782 non-null  float64\n",
            " 22  is_fraud               42782 non-null  float64\n",
            "dtypes: float64(7), int64(4), object(12)\n",
            "memory usage: 7.5+ MB\n"
          ]
        }
      ],
      "source": [
        "# basic inspection of the test dataset\n",
        "fraud_test.info()"
      ]
    },
    {
      "cell_type": "code",
      "execution_count": 16,
      "id": "8297e032",
      "metadata": {
        "colab": {
          "base_uri": "https://localhost:8080/"
        },
        "id": "8297e032",
        "outputId": "0ae11c8d-5972-4e54-bbba-dcc847eebe1e"
      },
      "outputs": [
        {
          "output_type": "execute_result",
          "data": {
            "text/plain": [
              "69.99995681264353"
            ]
          },
          "metadata": {},
          "execution_count": 16
        }
      ],
      "source": [
        "# checking % of data provided by Kaggle in the train & test\n",
        "1296675 * 100 / (1296675 + 555719)"
      ]
    },
    {
      "cell_type": "markdown",
      "id": "993d91e7",
      "metadata": {
        "id": "993d91e7"
      },
      "source": [
        "- 70% data is present in the train dataset and remaining 30% in the test dataset.\n",
        "- No null values in either of the files"
      ]
    },
    {
      "cell_type": "code",
      "execution_count": 17,
      "id": "b77fb8e5",
      "metadata": {
        "colab": {
          "base_uri": "https://localhost:8080/",
          "height": 178
        },
        "id": "b77fb8e5",
        "outputId": "c4546f03-66b2-4afa-a1ef-cd9706b27b84"
      },
      "outputs": [
        {
          "output_type": "execute_result",
          "data": {
            "text/plain": [
              "is_fraud\n",
              "0.0    0.989926\n",
              "1.0    0.010074\n",
              "Name: proportion, dtype: float64"
            ],
            "text/html": [
              "<div>\n",
              "<style scoped>\n",
              "    .dataframe tbody tr th:only-of-type {\n",
              "        vertical-align: middle;\n",
              "    }\n",
              "\n",
              "    .dataframe tbody tr th {\n",
              "        vertical-align: top;\n",
              "    }\n",
              "\n",
              "    .dataframe thead th {\n",
              "        text-align: right;\n",
              "    }\n",
              "</style>\n",
              "<table border=\"1\" class=\"dataframe\">\n",
              "  <thead>\n",
              "    <tr style=\"text-align: right;\">\n",
              "      <th></th>\n",
              "      <th>proportion</th>\n",
              "    </tr>\n",
              "    <tr>\n",
              "      <th>is_fraud</th>\n",
              "      <th></th>\n",
              "    </tr>\n",
              "  </thead>\n",
              "  <tbody>\n",
              "    <tr>\n",
              "      <th>0.0</th>\n",
              "      <td>0.989926</td>\n",
              "    </tr>\n",
              "    <tr>\n",
              "      <th>1.0</th>\n",
              "      <td>0.010074</td>\n",
              "    </tr>\n",
              "  </tbody>\n",
              "</table>\n",
              "</div><br><label><b>dtype:</b> float64</label>"
            ]
          },
          "metadata": {},
          "execution_count": 17
        }
      ],
      "source": [
        "# Check for imbalance on target variable in the train dataset\n",
        "fraud.is_fraud.value_counts(normalize=True)"
      ]
    },
    {
      "cell_type": "code",
      "execution_count": 18,
      "id": "c6f772f3",
      "metadata": {
        "colab": {
          "base_uri": "https://localhost:8080/",
          "height": 564
        },
        "id": "c6f772f3",
        "outputId": "5c53cc83-da30-464d-85ac-fcd7f00a0348"
      },
      "outputs": [
        {
          "output_type": "stream",
          "name": "stdout",
          "text": [
            "Fraud Distribution\n",
            "is_fraud\n",
            "0.0    0.989926\n",
            "1.0    0.010074\n",
            "Name: proportion, dtype: float64\n"
          ]
        },
        {
          "output_type": "display_data",
          "data": {
            "text/plain": [
              "<Figure size 640x480 with 1 Axes>"
            ],
            "image/png": "[encoded data removed]"
          },
          "metadata": {}
        }
      ],
      "source": [
        "# Check for imbalance on target variable in the main dataset\n",
        "print ('Fraud Distribution')\n",
        "print (fraud.is_fraud.value_counts(normalize=True))\n",
        "plt.title('Transaction Distribution by Fraud', fontsize= 10, color = 'Red', fontweight = 100)\n",
        "fraud.is_fraud.value_counts(normalize=True).plot.bar()\n",
        "plt.show()"
      ]
    },
    {
      "cell_type": "code",
      "execution_count": 19,
      "id": "82b1b08e",
      "metadata": {
        "colab": {
          "base_uri": "https://localhost:8080/",
          "height": 178
        },
        "id": "82b1b08e",
        "outputId": "3be55885-f34c-4f54-c865-162466b9eef9"
      },
      "outputs": [
        {
          "output_type": "execute_result",
          "data": {
            "text/plain": [
              "is_fraud\n",
              "0.0    0.995699\n",
              "1.0    0.004301\n",
              "Name: proportion, dtype: float64"
            ],
            "text/html": [
              "<div>\n",
              "<style scoped>\n",
              "    .dataframe tbody tr th:only-of-type {\n",
              "        vertical-align: middle;\n",
              "    }\n",
              "\n",
              "    .dataframe tbody tr th {\n",
              "        vertical-align: top;\n",
              "    }\n",
              "\n",
              "    .dataframe thead th {\n",
              "        text-align: right;\n",
              "    }\n",
              "</style>\n",
              "<table border=\"1\" class=\"dataframe\">\n",
              "  <thead>\n",
              "    <tr style=\"text-align: right;\">\n",
              "      <th></th>\n",
              "      <th>proportion</th>\n",
              "    </tr>\n",
              "    <tr>\n",
              "      <th>is_fraud</th>\n",
              "      <th></th>\n",
              "    </tr>\n",
              "  </thead>\n",
              "  <tbody>\n",
              "    <tr>\n",
              "      <th>0.0</th>\n",
              "      <td>0.995699</td>\n",
              "    </tr>\n",
              "    <tr>\n",
              "      <th>1.0</th>\n",
              "      <td>0.004301</td>\n",
              "    </tr>\n",
              "  </tbody>\n",
              "</table>\n",
              "</div><br><label><b>dtype:</b> float64</label>"
            ]
          },
          "metadata": {},
          "execution_count": 19
        }
      ],
      "source": [
        "# Check for imbalance on target variable in the test dataset\n",
        "fraud_test.is_fraud.value_counts(normalize=True)"
      ]
    },
    {
      "cell_type": "markdown",
      "id": "a810b2b9",
      "metadata": {
        "id": "a810b2b9"
      },
      "source": [
        "Both the datasets have high imbalnce of the target variable with the test dataset having slightly higher imbalance. At this point, lets keep the test data seperate. We will be building the model on the train dataset. If required, a validation dataset will be carved from it. The final evaluation will be done on the test dataset."
      ]
    },
    {
      "cell_type": "markdown",
      "id": "9226ec6b",
      "metadata": {
        "id": "9226ec6b"
      },
      "source": [
        "### Univariate Analysis\n",
        "The following columns seems of very less/ no significance in determining a fraud case. Primary reason being no model can be created based on person's name or his PII or some unique ID/ S.no. assigned. Hence, dropping them:-\n",
        "- cc_num\n",
        "- first\n",
        "- last\n",
        "- street\n",
        "- trans_num"
      ]
    },
    {
      "cell_type": "code",
      "execution_count": 20,
      "id": "f6d9d2f7",
      "metadata": {
        "id": "f6d9d2f7"
      },
      "outputs": [],
      "source": [
        "# Dropping the unwanted columns from both datasets\n",
        "fraud.drop(['cc_num', 'first', 'last', 'street', 'trans_num'], axis=1, inplace=True)\n",
        "fraud.drop(fraud.iloc[:,[0]], axis=1, inplace=True)\n",
        "fraud_test.drop(['cc_num', 'first', 'last', 'street', 'trans_num'], axis=1, inplace=True)\n",
        "fraud_test.drop(fraud_test.iloc[:,[0]], axis=1, inplace=True)"
      ]
    },
    {
      "cell_type": "code",
      "execution_count": 21,
      "id": "ed4902f3",
      "metadata": {
        "colab": {
          "base_uri": "https://localhost:8080/",
          "height": 382
        },
        "id": "ed4902f3",
        "outputId": "f3380926-aea1-410e-e891-c7f9aedc3f91"
      },
      "outputs": [
        {
          "output_type": "execute_result",
          "data": {
            "text/plain": [
              "  trans_date_trans_time                            merchant       category  \\\n",
              "0   2019-01-01 00:00:18          fraud_Rippin, Kub and Mann       misc_net   \n",
              "1   2019-01-01 00:00:44     fraud_Heller, Gutmann and Zieme    grocery_pos   \n",
              "2   2019-01-01 00:00:51                fraud_Lind-Buckridge  entertainment   \n",
              "3   2019-01-01 00:01:16  fraud_Kutch, Hermiston and Farrell  gas_transport   \n",
              "4   2019-01-01 00:03:06                 fraud_Keeling-Crist       misc_pos   \n",
              "\n",
              "      amt gender            city state    zip      lat      long  city_pop  \\\n",
              "0    4.97      F  Moravian Falls    NC  28654  36.0788  -81.1781      3495   \n",
              "1  107.23      F          Orient    WA  99160  48.8878 -118.2105       149   \n",
              "2  220.11      M      Malad City    ID  83252  42.1808 -112.2620      4154   \n",
              "3   45.00      M         Boulder    MT  59632  46.2306 -112.1138      1939   \n",
              "4   41.96      M        Doe Hill    VA  24433  38.4207  -79.4629        99   \n",
              "\n",
              "                                 job         dob   unix_time  merch_lat  \\\n",
              "0          Psychologist, counselling  1988-03-09  1325376018  36.011293   \n",
              "1  Special educational needs teacher  1978-06-21  1325376044  49.159047   \n",
              "2        Nature conservation officer  1962-01-19  1325376051  43.150704   \n",
              "3                    Patent attorney  1967-01-12  1325376076  47.034331   \n",
              "4     Dance movement psychotherapist  1986-03-28  1325376186  38.674999   \n",
              "\n",
              "   merch_long  is_fraud  \n",
              "0  -82.048315       0.0  \n",
              "1 -118.186462       0.0  \n",
              "2 -112.154481       0.0  \n",
              "3 -112.561071       0.0  \n",
              "4  -78.632459       0.0  "
            ],
            "text/html": [
              "\n",
              "  <div id=\"df-9192bd89-3719-4db6-adfb-8679dfecddc9\" class=\"colab-df-container\">\n",
              "    <div>\n",
              "<style scoped>\n",
              "    .dataframe tbody tr th:only-of-type {\n",
              "        vertical-align: middle;\n",
              "    }\n",
              "\n",
              "    .dataframe tbody tr th {\n",
              "        vertical-align: top;\n",
              "    }\n",
              "\n",
              "    .dataframe thead th {\n",
              "        text-align: right;\n",
              "    }\n",
              "</style>\n",
              "<table border=\"1\" class=\"dataframe\">\n",
              "  <thead>\n",
              "    <tr style=\"text-align: right;\">\n",
              "      <th></th>\n",
              "      <th>trans_date_trans_time</th>\n",
              "      <th>merchant</th>\n",
              "      <th>category</th>\n",
              "      <th>amt</th>\n",
              "      <th>gender</th>\n",
              "      <th>city</th>\n",
              "      <th>state</th>\n",
              "      <th>zip</th>\n",
              "      <th>lat</th>\n",
              "      <th>long</th>\n",
              "      <th>city_pop</th>\n",
              "      <th>job</th>\n",
              "      <th>dob</th>\n",
              "      <th>unix_time</th>\n",
              "      <th>merch_lat</th>\n",
              "      <th>merch_long</th>\n",
              "      <th>is_fraud</th>\n",
              "    </tr>\n",
              "  </thead>\n",
              "  <tbody>\n",
              "    <tr>\n",
              "      <th>0</th>\n",
              "      <td>2019-01-01 00:00:18</td>\n",
              "      <td>fraud_Rippin, Kub and Mann</td>\n",
              "      <td>misc_net</td>\n",
              "      <td>4.97</td>\n",
              "      <td>F</td>\n",
              "      <td>Moravian Falls</td>\n",
              "      <td>NC</td>\n",
              "      <td>28654</td>\n",
              "      <td>36.0788</td>\n",
              "      <td>-81.1781</td>\n",
              "      <td>3495</td>\n",
              "      <td>Psychologist, counselling</td>\n",
              "      <td>1988-03-09</td>\n",
              "      <td>1325376018</td>\n",
              "      <td>36.011293</td>\n",
              "      <td>-82.048315</td>\n",
              "      <td>0.0</td>\n",
              "    </tr>\n",
              "    <tr>\n",
              "      <th>1</th>\n",
              "      <td>2019-01-01 00:00:44</td>\n",
              "      <td>fraud_Heller, Gutmann and Zieme</td>\n",
              "      <td>grocery_pos</td>\n",
              "      <td>107.23</td>\n",
              "      <td>F</td>\n",
              "      <td>Orient</td>\n",
              "      <td>WA</td>\n",
              "      <td>99160</td>\n",
              "      <td>48.8878</td>\n",
              "      <td>-118.2105</td>\n",
              "      <td>149</td>\n",
              "      <td>Special educational needs teacher</td>\n",
              "      <td>1978-06-21</td>\n",
              "      <td>1325376044</td>\n",
              "      <td>49.159047</td>\n",
              "      <td>-118.186462</td>\n",
              "      <td>0.0</td>\n",
              "    </tr>\n",
              "    <tr>\n",
              "      <th>2</th>\n",
              "      <td>2019-01-01 00:00:51</td>\n",
              "      <td>fraud_Lind-Buckridge</td>\n",
              "      <td>entertainment</td>\n",
              "      <td>220.11</td>\n",
              "      <td>M</td>\n",
              "      <td>Malad City</td>\n",
              "      <td>ID</td>\n",
              "      <td>83252</td>\n",
              "      <td>42.1808</td>\n",
              "      <td>-112.2620</td>\n",
              "      <td>4154</td>\n",
              "      <td>Nature conservation officer</td>\n",
              "      <td>1962-01-19</td>\n",
              "      <td>1325376051</td>\n",
              "      <td>43.150704</td>\n",
              "      <td>-112.154481</td>\n",
              "      <td>0.0</td>\n",
              "    </tr>\n",
              "    <tr>\n",
              "      <th>3</th>\n",
              "      <td>2019-01-01 00:01:16</td>\n",
              "      <td>fraud_Kutch, Hermiston and Farrell</td>\n",
              "      <td>gas_transport</td>\n",
              "      <td>45.00</td>\n",
              "      <td>M</td>\n",
              "      <td>Boulder</td>\n",
              "      <td>MT</td>\n",
              "      <td>59632</td>\n",
              "      <td>46.2306</td>\n",
              "      <td>-112.1138</td>\n",
              "      <td>1939</td>\n",
              "      <td>Patent attorney</td>\n",
              "      <td>1967-01-12</td>\n",
              "      <td>1325376076</td>\n",
              "      <td>47.034331</td>\n",
              "      <td>-112.561071</td>\n",
              "      <td>0.0</td>\n",
              "    </tr>\n",
              "    <tr>\n",
              "      <th>4</th>\n",
              "      <td>2019-01-01 00:03:06</td>\n",
              "      <td>fraud_Keeling-Crist</td>\n",
              "      <td>misc_pos</td>\n",
              "      <td>41.96</td>\n",
              "      <td>M</td>\n",
              "      <td>Doe Hill</td>\n",
              "      <td>VA</td>\n",
              "      <td>24433</td>\n",
              "      <td>38.4207</td>\n",
              "      <td>-79.4629</td>\n",
              "      <td>99</td>\n",
              "      <td>Dance movement psychotherapist</td>\n",
              "      <td>1986-03-28</td>\n",
              "      <td>1325376186</td>\n",
              "      <td>38.674999</td>\n",
              "      <td>-78.632459</td>\n",
              "      <td>0.0</td>\n",
              "    </tr>\n",
              "  </tbody>\n",
              "</table>\n",
              "</div>\n",
              "    <div class=\"colab-df-buttons\">\n",
              "\n",
              "  <div class=\"colab-df-container\">\n",
              "    <button class=\"colab-df-convert\" onclick=\"convertToInteractive('df-9192bd89-3719-4db6-adfb-8679dfecddc9')\"\n",
              "            title=\"Convert this dataframe to an interactive table.\"\n",
              "            style=\"display:none;\">\n",
              "\n",
              "  <svg xmlns=\"http://www.w3.org/2000/svg\" height=\"24px\" viewBox=\"0 -960 960 960\">\n",
              "    <path d=\"M120-120v-720h720v720H120Zm60-500h600v-160H180v160Zm220 220h160v-160H400v160Zm0 220h160v-160H400v160ZM180-400h160v-160H180v160Zm440 0h160v-160H620v160ZM180-180h160v-160H180v160Zm440 0h160v-160H620v160Z\"/>\n",
              "  </svg>\n",
              "    </button>\n",
              "\n",
              "  <style>\n",
              "    .colab-df-container {\n",
              "      display:flex;\n",
              "      gap: 12px;\n",
              "    }\n",
              "\n",
              "    .colab-df-convert {\n",
              "      background-color: #E8F0FE;\n",
              "      border: none;\n",
              "      border-radius: 50%;\n",
              "      cursor: pointer;\n",
              "      display: none;\n",
              "      fill: #1967D2;\n",
              "      height: 32px;\n",
              "      padding: 0 0 0 0;\n",
              "      width: 32px;\n",
              "    }\n",
              "\n",
              "    .colab-df-convert:hover {\n",
              "      background-color: #E2EBFA;\n",
              "      box-shadow: 0px 1px 2px rgba(60, 64, 67, 0.3), 0px 1px 3px 1px rgba(60, 64, 67, 0.15);\n",
              "      fill: #174EA6;\n",
              "    }\n",
              "\n",
              "    .colab-df-buttons div {\n",
              "      margin-bottom: 4px;\n",
              "    }\n",
              "\n",
              "    [theme=dark] .colab-df-convert {\n",
              "      background-color: #3B4455;\n",
              "      fill: #D2E3FC;\n",
              "    }\n",
              "\n",
              "    [theme=dark] .colab-df-convert:hover {\n",
              "      background-color: #434B5C;\n",
              "      box-shadow: 0px 1px 3px 1px rgba(0, 0, 0, 0.15);\n",
              "      filter: drop-shadow(0px 1px 2px rgba(0, 0, 0, 0.3));\n",
              "      fill: #FFFFFF;\n",
              "    }\n",
              "  </style>\n",
              "\n",
              "    <script>\n",
              "      const buttonEl =\n",
              "        document.querySelector('#df-9192bd89-3719-4db6-adfb-8679dfecddc9 button.colab-df-convert');\n",
              "      buttonEl.style.display =\n",
              "        google.colab.kernel.accessAllowed ? 'block' : 'none';\n",
              "\n",
              "      async function convertToInteractive(key) {\n",
              "        const element = document.querySelector('#df-9192bd89-3719-4db6-adfb-8679dfecddc9');\n",
              "        const dataTable =\n",
              "          await google.colab.kernel.invokeFunction('convertToInteractive',\n",
              "                                                    [key], {});\n",
              "        if (!dataTable) return;\n",
              "\n",
              "        const docLinkHtml = 'Like what you see? Visit the ' +\n",
              "          '<a target=\"_blank\" href=https://colab.research.google.com/notebooks/data_table.ipynb>data table notebook</a>'\n",
              "          + ' to learn more about interactive tables.';\n",
              "        element.innerHTML = '';\n",
              "        dataTable['output_type'] = 'display_data';\n",
              "        await google.colab.output.renderOutput(dataTable, element);\n",
              "        const docLink = document.createElement('div');\n",
              "        docLink.innerHTML = docLinkHtml;\n",
              "        element.appendChild(docLink);\n",
              "      }\n",
              "    </script>\n",
              "  </div>\n",
              "\n",
              "\n",
              "<div id=\"df-95fb9963-2405-458a-9bc3-de5fdccfde67\">\n",
              "  <button class=\"colab-df-quickchart\" onclick=\"quickchart('df-95fb9963-2405-458a-9bc3-de5fdccfde67')\"\n",
              "            title=\"Suggest charts\"\n",
              "            style=\"display:none;\">\n",
              "\n",
              "<svg xmlns=\"http://www.w3.org/2000/svg\" height=\"24px\"viewBox=\"0 0 24 24\"\n",
              "     width=\"24px\">\n",
              "    <g>\n",
              "        <path d=\"M19 3H5c-1.1 0-2 .9-2 2v14c0 1.1.9 2 2 2h14c1.1 0 2-.9 2-2V5c0-1.1-.9-2-2-2zM9 17H7v-7h2v7zm4 0h-2V7h2v10zm4 0h-2v-4h2v4z\"/>\n",
              "    </g>\n",
              "</svg>\n",
              "  </button>\n",
              "\n",
              "<style>\n",
              "  .colab-df-quickchart {\n",
              "      --bg-color: #E8F0FE;\n",
              "      --fill-color: #1967D2;\n",
              "      --hover-bg-color: #E2EBFA;\n",
              "      --hover-fill-color: #174EA6;\n",
              "      --disabled-fill-color: #AAA;\n",
              "      --disabled-bg-color: #DDD;\n",
              "  }\n",
              "\n",
              "  [theme=dark] .colab-df-quickchart {\n",
              "      --bg-color: #3B4455;\n",
              "      --fill-color: #D2E3FC;\n",
              "      --hover-bg-color: #434B5C;\n",
              "      --hover-fill-color: #FFFFFF;\n",
              "      --disabled-bg-color: #3B4455;\n",
              "      --disabled-fill-color: #666;\n",
              "  }\n",
              "\n",
              "  .colab-df-quickchart {\n",
              "    background-color: var(--bg-color);\n",
              "    border: none;\n",
              "    border-radius: 50%;\n",
              "    cursor: pointer;\n",
              "    display: none;\n",
              "    fill: var(--fill-color);\n",
              "    height: 32px;\n",
              "    padding: 0;\n",
              "    width: 32px;\n",
              "  }\n",
              "\n",
              "  .colab-df-quickchart:hover {\n",
              "    background-color: var(--hover-bg-color);\n",
              "    box-shadow: 0 1px 2px rgba(60, 64, 67, 0.3), 0 1px 3px 1px rgba(60, 64, 67, 0.15);\n",
              "    fill: var(--button-hover-fill-color);\n",
              "  }\n",
              "\n",
              "  .colab-df-quickchart-complete:disabled,\n",
              "  .colab-df-quickchart-complete:disabled:hover {\n",
              "    background-color: var(--disabled-bg-color);\n",
              "    fill: var(--disabled-fill-color);\n",
              "    box-shadow: none;\n",
              "  }\n",
              "\n",
              "  .colab-df-spinner {\n",
              "    border: 2px solid var(--fill-color);\n",
              "    border-color: transparent;\n",
              "    border-bottom-color: var(--fill-color);\n",
              "    animation:\n",
              "      spin 1s steps(1) infinite;\n",
              "  }\n",
              "\n",
              "  @keyframes spin {\n",
              "    0% {\n",
              "      border-color: transparent;\n",
              "      border-bottom-color: var(--fill-color);\n",
              "      border-left-color: var(--fill-color);\n",
              "    }\n",
              "    20% {\n",
              "      border-color: transparent;\n",
              "      border-left-color: var(--fill-color);\n",
              "      border-top-color: var(--fill-color);\n",
              "    }\n",
              "    30% {\n",
              "      border-color: transparent;\n",
              "      border-left-color: var(--fill-color);\n",
              "      border-top-color: var(--fill-color);\n",
              "      border-right-color: var(--fill-color);\n",
              "    }\n",
              "    40% {\n",
              "      border-color: transparent;\n",
              "      border-right-color: var(--fill-color);\n",
              "      border-top-color: var(--fill-color);\n",
              "    }\n",
              "    60% {\n",
              "      border-color: transparent;\n",
              "      border-right-color: var(--fill-color);\n",
              "    }\n",
              "    80% {\n",
              "      border-color: transparent;\n",
              "      border-right-color: var(--fill-color);\n",
              "      border-bottom-color: var(--fill-color);\n",
              "    }\n",
              "    90% {\n",
              "      border-color: transparent;\n",
              "      border-bottom-color: var(--fill-color);\n",
              "    }\n",
              "  }\n",
              "</style>\n",
              "\n",
              "  <script>\n",
              "    async function quickchart(key) {\n",
              "      const quickchartButtonEl =\n",
              "        document.querySelector('#' + key + ' button');\n",
              "      quickchartButtonEl.disabled = true;  // To prevent multiple clicks.\n",
              "      quickchartButtonEl.classList.add('colab-df-spinner');\n",
              "      try {\n",
              "        const charts = await google.colab.kernel.invokeFunction(\n",
              "            'suggestCharts', [key], {});\n",
              "      } catch (error) {\n",
              "        console.error('Error during call to suggestCharts:', error);\n",
              "      }\n",
              "      quickchartButtonEl.classList.remove('colab-df-spinner');\n",
              "      quickchartButtonEl.classList.add('colab-df-quickchart-complete');\n",
              "    }\n",
              "    (() => {\n",
              "      let quickchartButtonEl =\n",
              "        document.querySelector('#df-95fb9963-2405-458a-9bc3-de5fdccfde67 button');\n",
              "      quickchartButtonEl.style.display =\n",
              "        google.colab.kernel.accessAllowed ? 'block' : 'none';\n",
              "    })();\n",
              "  </script>\n",
              "</div>\n",
              "\n",
              "    </div>\n",
              "  </div>\n"
            ],
            "application/vnd.google.colaboratory.intrinsic+json": {
              "type": "dataframe",
              "variable_name": "fraud",
              "summary": "{\n  \"name\": \"fraud\",\n  \"rows\": 35041,\n  \"fields\": [\n    {\n      \"column\": \"trans_date_trans_time\",\n      \"properties\": {\n        \"dtype\": \"object\",\n        \"num_unique_values\": 34630,\n        \"samples\": [\n          \"2019-01-07 12:05:06\",\n          \"2019-01-11 01:53:20\",\n          \"2019-01-14 23:19:40\"\n        ],\n        \"semantic_type\": \"\",\n        \"description\": \"\"\n      }\n    },\n    {\n      \"column\": \"merchant\",\n      \"properties\": {\n        \"dtype\": \"category\",\n        \"num_unique_values\": 693,\n        \"samples\": [\n          \"fraud_Eichmann-Kilback\",\n          \"fraud_Swaniawski, Bahringer and Ledner\",\n          \"fraud_Moen, Reinger and Murphy\"\n        ],\n        \"semantic_type\": \"\",\n        \"description\": \"\"\n      }\n    },\n    {\n      \"column\": \"category\",\n      \"properties\": {\n        \"dtype\": \"category\",\n        \"num_unique_values\": 14,\n        \"samples\": [\n          \"personal_care\",\n          \"travel\",\n          \"misc_net\"\n        ],\n        \"semantic_type\": \"\",\n        \"description\": \"\"\n      }\n    },\n    {\n      \"column\": \"amt\",\n      \"properties\": {\n        \"dtype\": \"number\",\n        \"std\": 145.81883500689688,\n        \"min\": 1.0,\n        \"max\": 11872.21,\n        \"num_unique_values\": 13949,\n        \"samples\": [\n          86.75,\n          75.62,\n          8.51\n        ],\n        \"semantic_type\": \"\",\n        \"description\": \"\"\n      }\n    },\n    {\n      \"column\": \"gender\",\n      \"properties\": {\n        \"dtype\": \"category\",\n        \"num_unique_values\": 2,\n        \"samples\": [\n          \"M\",\n          \"F\"\n        ],\n        \"semantic_type\": \"\",\n        \"description\": \"\"\n      }\n    },\n    {\n      \"column\": \"city\",\n      \"properties\": {\n        \"dtype\": \"category\",\n        \"num_unique_values\": 836,\n        \"samples\": [\n          \"Cecilton\",\n          \"Greenville\"\n        ],\n        \"semantic_type\": \"\",\n        \"description\": \"\"\n      }\n    },\n    {\n      \"column\": \"state\",\n      \"properties\": {\n        \"dtype\": \"category\",\n        \"num_unique_values\": 50,\n        \"samples\": [\n          \"NJ\",\n          \"VT\"\n        ],\n        \"semantic_type\": \"\",\n        \"description\": \"\"\n      }\n    },\n    {\n      \"column\": \"zip\",\n      \"properties\": {\n        \"dtype\": \"number\",\n        \"std\": 26986,\n        \"min\": 1257,\n        \"max\": 99783,\n        \"num_unique_values\": 898,\n        \"samples\": [\n          14586,\n          17051\n        ],\n        \"semantic_type\": \"\",\n        \"description\": \"\"\n      }\n    },\n    {\n      \"column\": \"lat\",\n      \"properties\": {\n        \"dtype\": \"number\",\n        \"std\": 5.098211507637438,\n        \"min\": 20.0271,\n        \"max\": 65.6899,\n        \"num_unique_values\": 896,\n        \"samples\": [\n          42.4048,\n          40.9661\n        ],\n        \"semantic_type\": \"\",\n        \"description\": \"\"\n      }\n    },\n    {\n      \"column\": \"long\",\n      \"properties\": {\n        \"dtype\": \"number\",\n        \"std\": 13.927507330832244,\n        \"min\": -165.6723,\n        \"max\": -67.9503,\n        \"num_unique_values\": 897,\n        \"samples\": [\n          -77.6871,\n          -98.0837\n        ],\n        \"semantic_type\": \"\",\n        \"description\": \"\"\n      }\n    },\n    {\n      \"column\": \"city_pop\",\n      \"properties\": {\n        \"dtype\": \"number\",\n        \"std\": 297228,\n        \"min\": 23,\n        \"max\": 2906700,\n        \"num_unique_values\": 822,\n        \"samples\": [\n          4603,\n          1196\n        ],\n        \"semantic_type\": \"\",\n        \"description\": \"\"\n      }\n    },\n    {\n      \"column\": \"job\",\n      \"properties\": {\n        \"dtype\": \"category\",\n        \"num_unique_values\": 475,\n        \"samples\": [\n          \"Press photographer\",\n          \"Geophysicist/field seismologist\"\n        ],\n        \"semantic_type\": \"\",\n        \"description\": \"\"\n      }\n    },\n    {\n      \"column\": \"dob\",\n      \"properties\": {\n        \"dtype\": \"object\",\n        \"num_unique_values\": 895,\n        \"samples\": [\n          \"1953-04-13\",\n          \"1985-08-29\"\n        ],\n        \"semantic_type\": \"\",\n        \"description\": \"\"\n      }\n    },\n    {\n      \"column\": \"unix_time\",\n      \"properties\": {\n        \"dtype\": \"number\",\n        \"std\": 514873,\n        \"min\": 1325376018,\n        \"max\": 1327160856,\n        \"num_unique_values\": 34630,\n        \"samples\": [\n          1325937906,\n          1326246800\n        ],\n        \"semantic_type\": \"\",\n        \"description\": \"\"\n      }\n    },\n    {\n      \"column\": \"merch_lat\",\n      \"properties\": {\n        \"dtype\": \"number\",\n        \"std\": 5.127883422196929,\n        \"min\": 19.040141,\n        \"max\": 66.659242,\n        \"num_unique_values\": 34999,\n        \"samples\": [\n          33.767262,\n          33.509170000000005\n        ],\n        \"semantic_type\": \"\",\n        \"description\": \"\"\n      }\n    },\n    {\n      \"column\": \"merch_long\",\n      \"properties\": {\n        \"dtype\": \"number\",\n        \"std\": 13.943915638893113,\n        \"min\": -166.629875,\n        \"max\": -66.967742,\n        \"num_unique_values\": 35025,\n        \"samples\": [\n          -97.952649,\n          -88.107383\n        ],\n        \"semantic_type\": \"\",\n        \"description\": \"\"\n      }\n    },\n    {\n      \"column\": \"is_fraud\",\n      \"properties\": {\n        \"dtype\": \"number\",\n        \"std\": 0.09986488875807509,\n        \"min\": 0.0,\n        \"max\": 1.0,\n        \"num_unique_values\": 2,\n        \"samples\": [\n          1.0,\n          0.0\n        ],\n        \"semantic_type\": \"\",\n        \"description\": \"\"\n      }\n    }\n  ]\n}"
            }
          },
          "metadata": {},
          "execution_count": 21
        }
      ],
      "source": [
        "# Inspecting the fraud dataset\n",
        "fraud.head()"
      ]
    },
    {
      "cell_type": "code",
      "execution_count": 26,
      "id": "3048a824",
      "metadata": {
        "colab": {
          "base_uri": "https://localhost:8080/",
          "height": 348
        },
        "id": "3048a824",
        "outputId": "0049f1e9-2fab-440c-dd0a-0cec6acb9157"
      },
      "outputs": [
        {
          "output_type": "execute_result",
          "data": {
            "text/plain": [
              "  trans_date_trans_time                              merchant        category  \\\n",
              "0   2020-06-21 12:14:25                 fraud_Kirlin and Sons   personal_care   \n",
              "1   2020-06-21 12:14:33                  fraud_Sporer-Keebler   personal_care   \n",
              "2   2020-06-21 12:14:53  fraud_Swaniawski, Nitzsche and Welch  health_fitness   \n",
              "3   2020-06-21 12:15:15                     fraud_Haley Group        misc_pos   \n",
              "4   2020-06-21 12:15:17                 fraud_Johnston-Casper          travel   \n",
              "\n",
              "     amt gender        city state    zip      lat      long  city_pop  \\\n",
              "0   2.86      M    Columbia    SC  29209  33.9659  -80.9355    333497   \n",
              "1  29.84      F     Altonah    UT  84002  40.3207 -110.4360       302   \n",
              "2  41.28      F    Bellmore    NY  11710  40.6729  -73.5365     34496   \n",
              "3  60.05      M  Titusville    FL  32780  28.5697  -80.8191     54767   \n",
              "4   3.19      M    Falmouth    MI  49632  44.2529  -85.0170      1126   \n",
              "\n",
              "                      job         dob     unix_time  merch_lat  merch_long  \\\n",
              "0     Mechanical engineer  1968-03-19  1.371817e+09  33.986391  -81.200714   \n",
              "1  Sales professional, IT  1990-01-17  1.371817e+09  39.450498 -109.960431   \n",
              "2       Librarian, public  1970-10-21  1.371817e+09  40.495810  -74.196111   \n",
              "3            Set designer  1987-07-25  1.371817e+09  28.812398  -80.883061   \n",
              "4      Furniture designer  1955-07-06  1.371817e+09  44.959148  -85.884734   \n",
              "\n",
              "   is_fraud  \n",
              "0       0.0  \n",
              "1       0.0  \n",
              "2       0.0  \n",
              "3       0.0  \n",
              "4       0.0  "
            ],
            "text/html": [
              "\n",
              "  <div id=\"df-204e76e2-f2d5-4e1d-98eb-d5bd2816935d\" class=\"colab-df-container\">\n",
              "    <div>\n",
              "<style scoped>\n",
              "    .dataframe tbody tr th:only-of-type {\n",
              "        vertical-align: middle;\n",
              "    }\n",
              "\n",
              "    .dataframe tbody tr th {\n",
              "        vertical-align: top;\n",
              "    }\n",
              "\n",
              "    .dataframe thead th {\n",
              "        text-align: right;\n",
              "    }\n",
              "</style>\n",
              "<table border=\"1\" class=\"dataframe\">\n",
              "  <thead>\n",
              "    <tr style=\"text-align: right;\">\n",
              "      <th></th>\n",
              "      <th>trans_date_trans_time</th>\n",
              "      <th>merchant</th>\n",
              "      <th>category</th>\n",
              "      <th>amt</th>\n",
              "      <th>gender</th>\n",
              "      <th>city</th>\n",
              "      <th>state</th>\n",
              "      <th>zip</th>\n",
              "      <th>lat</th>\n",
              "      <th>long</th>\n",
              "      <th>city_pop</th>\n",
              "      <th>job</th>\n",
              "      <th>dob</th>\n",
              "      <th>unix_time</th>\n",
              "      <th>merch_lat</th>\n",
              "      <th>merch_long</th>\n",
              "      <th>is_fraud</th>\n",
              "    </tr>\n",
              "  </thead>\n",
              "  <tbody>\n",
              "    <tr>\n",
              "      <th>0</th>\n",
              "      <td>2020-06-21 12:14:25</td>\n",
              "      <td>fraud_Kirlin and Sons</td>\n",
              "      <td>personal_care</td>\n",
              "      <td>2.86</td>\n",
              "      <td>M</td>\n",
              "      <td>Columbia</td>\n",
              "      <td>SC</td>\n",
              "      <td>29209</td>\n",
              "      <td>33.9659</td>\n",
              "      <td>-80.9355</td>\n",
              "      <td>333497</td>\n",
              "      <td>Mechanical engineer</td>\n",
              "      <td>1968-03-19</td>\n",
              "      <td>1.371817e+09</td>\n",
              "      <td>33.986391</td>\n",
              "      <td>-81.200714</td>\n",
              "      <td>0.0</td>\n",
              "    </tr>\n",
              "    <tr>\n",
              "      <th>1</th>\n",
              "      <td>2020-06-21 12:14:33</td>\n",
              "      <td>fraud_Sporer-Keebler</td>\n",
              "      <td>personal_care</td>\n",
              "      <td>29.84</td>\n",
              "      <td>F</td>\n",
              "      <td>Altonah</td>\n",
              "      <td>UT</td>\n",
              "      <td>84002</td>\n",
              "      <td>40.3207</td>\n",
              "      <td>-110.4360</td>\n",
              "      <td>302</td>\n",
              "      <td>Sales professional, IT</td>\n",
              "      <td>1990-01-17</td>\n",
              "      <td>1.371817e+09</td>\n",
              "      <td>39.450498</td>\n",
              "      <td>-109.960431</td>\n",
              "      <td>0.0</td>\n",
              "    </tr>\n",
              "    <tr>\n",
              "      <th>2</th>\n",
              "      <td>2020-06-21 12:14:53</td>\n",
              "      <td>fraud_Swaniawski, Nitzsche and Welch</td>\n",
              "      <td>health_fitness</td>\n",
              "      <td>41.28</td>\n",
              "      <td>F</td>\n",
              "      <td>Bellmore</td>\n",
              "      <td>NY</td>\n",
              "      <td>11710</td>\n",
              "      <td>40.6729</td>\n",
              "      <td>-73.5365</td>\n",
              "      <td>34496</td>\n",
              "      <td>Librarian, public</td>\n",
              "      <td>1970-10-21</td>\n",
              "      <td>1.371817e+09</td>\n",
              "      <td>40.495810</td>\n",
              "      <td>-74.196111</td>\n",
              "      <td>0.0</td>\n",
              "    </tr>\n",
              "    <tr>\n",
              "      <th>3</th>\n",
              "      <td>2020-06-21 12:15:15</td>\n",
              "      <td>fraud_Haley Group</td>\n",
              "      <td>misc_pos</td>\n",
              "      <td>60.05</td>\n",
              "      <td>M</td>\n",
              "      <td>Titusville</td>\n",
              "      <td>FL</td>\n",
              "      <td>32780</td>\n",
              "      <td>28.5697</td>\n",
              "      <td>-80.8191</td>\n",
              "      <td>54767</td>\n",
              "      <td>Set designer</td>\n",
              "      <td>1987-07-25</td>\n",
              "      <td>1.371817e+09</td>\n",
              "      <td>28.812398</td>\n",
              "      <td>-80.883061</td>\n",
              "      <td>0.0</td>\n",
              "    </tr>\n",
              "    <tr>\n",
              "      <th>4</th>\n",
              "      <td>2020-06-21 12:15:17</td>\n",
              "      <td>fraud_Johnston-Casper</td>\n",
              "      <td>travel</td>\n",
              "      <td>3.19</td>\n",
              "      <td>M</td>\n",
              "      <td>Falmouth</td>\n",
              "      <td>MI</td>\n",
              "      <td>49632</td>\n",
              "      <td>44.2529</td>\n",
              "      <td>-85.0170</td>\n",
              "      <td>1126</td>\n",
              "      <td>Furniture designer</td>\n",
              "      <td>1955-07-06</td>\n",
              "      <td>1.371817e+09</td>\n",
              "      <td>44.959148</td>\n",
              "      <td>-85.884734</td>\n",
              "      <td>0.0</td>\n",
              "    </tr>\n",
              "  </tbody>\n",
              "</table>\n",
              "</div>\n",
              "    <div class=\"colab-df-buttons\">\n",
              "\n",
              "  <div class=\"colab-df-container\">\n",
              "    <button class=\"colab-df-convert\" onclick=\"convertToInteractive('df-204e76e2-f2d5-4e1d-98eb-d5bd2816935d')\"\n",
              "            title=\"Convert this dataframe to an interactive table.\"\n",
              "            style=\"display:none;\">\n",
              "\n",
              "  <svg xmlns=\"http://www.w3.org/2000/svg\" height=\"24px\" viewBox=\"0 -960 960 960\">\n",
              "    <path d=\"M120-120v-720h720v720H120Zm60-500h600v-160H180v160Zm220 220h160v-160H400v160Zm0 220h160v-160H400v160ZM180-400h160v-160H180v160Zm440 0h160v-160H620v160ZM180-180h160v-160H180v160Zm440 0h160v-160H620v160Z\"/>\n",
              "  </svg>\n",
              "    </button>\n",
              "\n",
              "  <style>\n",
              "    .colab-df-container {\n",
              "      display:flex;\n",
              "      gap: 12px;\n",
              "    }\n",
              "\n",
              "    .colab-df-convert {\n",
              "      background-color: #E8F0FE;\n",
              "      border: none;\n",
              "      border-radius: 50%;\n",
              "      cursor: pointer;\n",
              "      display: none;\n",
              "      fill: #1967D2;\n",
              "      height: 32px;\n",
              "      padding: 0 0 0 0;\n",
              "      width: 32px;\n",
              "    }\n",
              "\n",
              "    .colab-df-convert:hover {\n",
              "      background-color: #E2EBFA;\n",
              "      box-shadow: 0px 1px 2px rgba(60, 64, 67, 0.3), 0px 1px 3px 1px rgba(60, 64, 67, 0.15);\n",
              "      fill: #174EA6;\n",
              "    }\n",
              "\n",
              "    .colab-df-buttons div {\n",
              "      margin-bottom: 4px;\n",
              "    }\n",
              "\n",
              "    [theme=dark] .colab-df-convert {\n",
              "      background-color: #3B4455;\n",
              "      fill: #D2E3FC;\n",
              "    }\n",
              "\n",
              "    [theme=dark] .colab-df-convert:hover {\n",
              "      background-color: #434B5C;\n",
              "      box-shadow: 0px 1px 3px 1px rgba(0, 0, 0, 0.15);\n",
              "      filter: drop-shadow(0px 1px 2px rgba(0, 0, 0, 0.3));\n",
              "      fill: #FFFFFF;\n",
              "    }\n",
              "  </style>\n",
              "\n",
              "    <script>\n",
              "      const buttonEl =\n",
              "        document.querySelector('#df-204e76e2-f2d5-4e1d-98eb-d5bd2816935d button.colab-df-convert');\n",
              "      buttonEl.style.display =\n",
              "        google.colab.kernel.accessAllowed ? 'block' : 'none';\n",
              "\n",
              "      async function convertToInteractive(key) {\n",
              "        const element = document.querySelector('#df-204e76e2-f2d5-4e1d-98eb-d5bd2816935d');\n",
              "        const dataTable =\n",
              "          await google.colab.kernel.invokeFunction('convertToInteractive',\n",
              "                                                    [key], {});\n",
              "        if (!dataTable) return;\n",
              "\n",
              "        const docLinkHtml = 'Like what you see? Visit the ' +\n",
              "          '<a target=\"_blank\" href=https://colab.research.google.com/notebooks/data_table.ipynb>data table notebook</a>'\n",
              "          + ' to learn more about interactive tables.';\n",
              "        element.innerHTML = '';\n",
              "        dataTable['output_type'] = 'display_data';\n",
              "        await google.colab.output.renderOutput(dataTable, element);\n",
              "        const docLink = document.createElement('div');\n",
              "        docLink.innerHTML = docLinkHtml;\n",
              "        element.appendChild(docLink);\n",
              "      }\n",
              "    </script>\n",
              "  </div>\n",
              "\n",
              "\n",
              "<div id=\"df-dedaad94-80cd-422e-bcd6-83562ca3e1ac\">\n",
              "  <button class=\"colab-df-quickchart\" onclick=\"quickchart('df-dedaad94-80cd-422e-bcd6-83562ca3e1ac')\"\n",
              "            title=\"Suggest charts\"\n",
              "            style=\"display:none;\">\n",
              "\n",
              "<svg xmlns=\"http://www.w3.org/2000/svg\" height=\"24px\"viewBox=\"0 0 24 24\"\n",
              "     width=\"24px\">\n",
              "    <g>\n",
              "        <path d=\"M19 3H5c-1.1 0-2 .9-2 2v14c0 1.1.9 2 2 2h14c1.1 0 2-.9 2-2V5c0-1.1-.9-2-2-2zM9 17H7v-7h2v7zm4 0h-2V7h2v10zm4 0h-2v-4h2v4z\"/>\n",
              "    </g>\n",
              "</svg>\n",
              "  </button>\n",
              "\n",
              "<style>\n",
              "  .colab-df-quickchart {\n",
              "      --bg-color: #E8F0FE;\n",
              "      --fill-color: #1967D2;\n",
              "      --hover-bg-color: #E2EBFA;\n",
              "      --hover-fill-color: #174EA6;\n",
              "      --disabled-fill-color: #AAA;\n",
              "      --disabled-bg-color: #DDD;\n",
              "  }\n",
              "\n",
              "  [theme=dark] .colab-df-quickchart {\n",
              "      --bg-color: #3B4455;\n",
              "      --fill-color: #D2E3FC;\n",
              "      --hover-bg-color: #434B5C;\n",
              "      --hover-fill-color: #FFFFFF;\n",
              "      --disabled-bg-color: #3B4455;\n",
              "      --disabled-fill-color: #666;\n",
              "  }\n",
              "\n",
              "  .colab-df-quickchart {\n",
              "    background-color: var(--bg-color);\n",
              "    border: none;\n",
              "    border-radius: 50%;\n",
              "    cursor: pointer;\n",
              "    display: none;\n",
              "    fill: var(--fill-color);\n",
              "    height: 32px;\n",
              "    padding: 0;\n",
              "    width: 32px;\n",
              "  }\n",
              "\n",
              "  .colab-df-quickchart:hover {\n",
              "    background-color: var(--hover-bg-color);\n",
              "    box-shadow: 0 1px 2px rgba(60, 64, 67, 0.3), 0 1px 3px 1px rgba(60, 64, 67, 0.15);\n",
              "    fill: var(--button-hover-fill-color);\n",
              "  }\n",
              "\n",
              "  .colab-df-quickchart-complete:disabled,\n",
              "  .colab-df-quickchart-complete:disabled:hover {\n",
              "    background-color: var(--disabled-bg-color);\n",
              "    fill: var(--disabled-fill-color);\n",
              "    box-shadow: none;\n",
              "  }\n",
              "\n",
              "  .colab-df-spinner {\n",
              "    border: 2px solid var(--fill-color);\n",
              "    border-color: transparent;\n",
              "    border-bottom-color: var(--fill-color);\n",
              "    animation:\n",
              "      spin 1s steps(1) infinite;\n",
              "  }\n",
              "\n",
              "  @keyframes spin {\n",
              "    0% {\n",
              "      border-color: transparent;\n",
              "      border-bottom-color: var(--fill-color);\n",
              "      border-left-color: var(--fill-color);\n",
              "    }\n",
              "    20% {\n",
              "      border-color: transparent;\n",
              "      border-left-color: var(--fill-color);\n",
              "      border-top-color: var(--fill-color);\n",
              "    }\n",
              "    30% {\n",
              "      border-color: transparent;\n",
              "      border-left-color: var(--fill-color);\n",
              "      border-top-color: var(--fill-color);\n",
              "      border-right-color: var(--fill-color);\n",
              "    }\n",
              "    40% {\n",
              "      border-color: transparent;\n",
              "      border-right-color: var(--fill-color);\n",
              "      border-top-color: var(--fill-color);\n",
              "    }\n",
              "    60% {\n",
              "      border-color: transparent;\n",
              "      border-right-color: var(--fill-color);\n",
              "    }\n",
              "    80% {\n",
              "      border-color: transparent;\n",
              "      border-right-color: var(--fill-color);\n",
              "      border-bottom-color: var(--fill-color);\n",
              "    }\n",
              "    90% {\n",
              "      border-color: transparent;\n",
              "      border-bottom-color: var(--fill-color);\n",
              "    }\n",
              "  }\n",
              "</style>\n",
              "\n",
              "  <script>\n",
              "    async function quickchart(key) {\n",
              "      const quickchartButtonEl =\n",
              "        document.querySelector('#' + key + ' button');\n",
              "      quickchartButtonEl.disabled = true;  // To prevent multiple clicks.\n",
              "      quickchartButtonEl.classList.add('colab-df-spinner');\n",
              "      try {\n",
              "        const charts = await google.colab.kernel.invokeFunction(\n",
              "            'suggestCharts', [key], {});\n",
              "      } catch (error) {\n",
              "        console.error('Error during call to suggestCharts:', error);\n",
              "      }\n",
              "      quickchartButtonEl.classList.remove('colab-df-spinner');\n",
              "      quickchartButtonEl.classList.add('colab-df-quickchart-complete');\n",
              "    }\n",
              "    (() => {\n",
              "      let quickchartButtonEl =\n",
              "        document.querySelector('#df-dedaad94-80cd-422e-bcd6-83562ca3e1ac button');\n",
              "      quickchartButtonEl.style.display =\n",
              "        google.colab.kernel.accessAllowed ? 'block' : 'none';\n",
              "    })();\n",
              "  </script>\n",
              "</div>\n",
              "\n",
              "    </div>\n",
              "  </div>\n"
            ],
            "application/vnd.google.colaboratory.intrinsic+json": {
              "type": "dataframe",
              "variable_name": "fraud_test",
              "summary": "{\n  \"name\": \"fraud_test\",\n  \"rows\": 42783,\n  \"fields\": [\n    {\n      \"column\": \"trans_date_trans_time\",\n      \"properties\": {\n        \"dtype\": \"object\",\n        \"num_unique_values\": 41976,\n        \"samples\": [\n          \"2020-06-22 08:30:10\",\n          \"2020-07-05 20:54:16\",\n          \"2020-07-01 09:28:50\"\n        ],\n        \"semantic_type\": \"\",\n        \"description\": \"\"\n      }\n    },\n    {\n      \"column\": \"merchant\",\n      \"properties\": {\n        \"dtype\": \"category\",\n        \"num_unique_values\": 693,\n        \"samples\": [\n          \"fraud_Dibbert and Sons\",\n          \"fraud_Kris-Weimann\",\n          \"fraud_Gleason-Macejkovic\"\n        ],\n        \"semantic_type\": \"\",\n        \"description\": \"\"\n      }\n    },\n    {\n      \"column\": \"category\",\n      \"properties\": {\n        \"dtype\": \"category\",\n        \"num_unique_values\": 14,\n        \"samples\": [\n          \"shopping_net\",\n          \"grocery_pos\",\n          \"personal_care\"\n        ],\n        \"semantic_type\": \"\",\n        \"description\": \"\"\n      }\n    },\n    {\n      \"column\": \"amt\",\n      \"properties\": {\n        \"dtype\": \"number\",\n        \"std\": 147.14569968267273,\n        \"min\": 1.0,\n        \"max\": 13149.15,\n        \"num_unique_values\": 15092,\n        \"samples\": [\n          27.68,\n          168.48,\n          105.25\n        ],\n        \"semantic_type\": \"\",\n        \"description\": \"\"\n      }\n    },\n    {\n      \"column\": \"gender\",\n      \"properties\": {\n        \"dtype\": \"category\",\n        \"num_unique_values\": 2,\n        \"samples\": [\n          \"F\",\n          \"M\"\n        ],\n        \"semantic_type\": \"\",\n        \"description\": \"\"\n      }\n    },\n    {\n      \"column\": \"city\",\n      \"properties\": {\n        \"dtype\": \"category\",\n        \"num_unique_values\": 838,\n        \"samples\": [\n          \"Zavalla\",\n          \"Jordan Valley\"\n        ],\n        \"semantic_type\": \"\",\n        \"description\": \"\"\n      }\n    },\n    {\n      \"column\": \"state\",\n      \"properties\": {\n        \"dtype\": \"category\",\n        \"num_unique_values\": 50,\n        \"samples\": [\n          \"GA\",\n          \"ID\"\n        ],\n        \"semantic_type\": \"\",\n        \"description\": \"\"\n      }\n    },\n    {\n      \"column\": \"zip\",\n      \"properties\": {\n        \"dtype\": \"number\",\n        \"std\": 26785,\n        \"min\": 1257,\n        \"max\": 99783,\n        \"num_unique_values\": 899,\n        \"samples\": [\n          54559,\n          76905\n        ],\n        \"semantic_type\": \"\",\n        \"description\": \"\"\n      }\n    },\n    {\n      \"column\": \"lat\",\n      \"properties\": {\n        \"dtype\": \"number\",\n        \"std\": 5.061374648941025,\n        \"min\": 20.0271,\n        \"max\": 65.6899,\n        \"num_unique_values\": 897,\n        \"samples\": [\n          32.2768,\n          47.7068\n        ],\n        \"semantic_type\": \"\",\n        \"description\": \"\"\n      }\n    },\n    {\n      \"column\": \"long\",\n      \"properties\": {\n        \"dtype\": \"number\",\n        \"std\": 13.617445129539592,\n        \"min\": -165.6723,\n        \"max\": -67.9503,\n        \"num_unique_values\": 897,\n        \"samples\": [\n          -95.3031,\n          -122.6847\n        ],\n        \"semantic_type\": \"\",\n        \"description\": \"\"\n      }\n    },\n    {\n      \"column\": \"city_pop\",\n      \"properties\": {\n        \"dtype\": \"number\",\n        \"std\": 304147,\n        \"min\": 23,\n        \"max\": 2906700,\n        \"num_unique_values\": 824,\n        \"samples\": [\n          301,\n          20478\n        ],\n        \"semantic_type\": \"\",\n        \"description\": \"\"\n      }\n    },\n    {\n      \"column\": \"job\",\n      \"properties\": {\n        \"dtype\": \"category\",\n        \"num_unique_values\": 476,\n        \"samples\": [\n          \"Hydrogeologist\",\n          \"Risk analyst\"\n        ],\n        \"semantic_type\": \"\",\n        \"description\": \"\"\n      }\n    },\n    {\n      \"column\": \"dob\",\n      \"properties\": {\n        \"dtype\": \"object\",\n        \"num_unique_values\": 896,\n        \"samples\": [\n          \"1968-06-24\",\n          \"1981-07-05\"\n        ],\n        \"semantic_type\": \"\",\n        \"description\": \"\"\n      }\n    },\n    {\n      \"column\": \"unix_time\",\n      \"properties\": {\n        \"dtype\": \"number\",\n        \"std\": 379009.54276017303,\n        \"min\": 1371816865.0,\n        \"max\": 1373088422.0,\n        \"num_unique_values\": 41975,\n        \"samples\": [\n          1371889810.0,\n          1372959317.0\n        ],\n        \"semantic_type\": \"\",\n        \"description\": \"\"\n      }\n    },\n    {\n      \"column\": \"merch_lat\",\n      \"properties\": {\n        \"dtype\": \"number\",\n        \"std\": 5.097628515721314,\n        \"min\": 19.057104,\n        \"max\": 66.66935600000001,\n        \"num_unique_values\": 42729,\n        \"samples\": [\n          44.009872,\n          38.656252\n        ],\n        \"semantic_type\": \"\",\n        \"description\": \"\"\n      }\n    },\n    {\n      \"column\": \"merch_long\",\n      \"properties\": {\n        \"dtype\": \"number\",\n        \"std\": 13.629012085153096,\n        \"min\": -166.646251,\n        \"max\": -66.955602,\n        \"num_unique_values\": 42747,\n        \"samples\": [\n          -73.832167,\n          -80.582394\n        ],\n        \"semantic_type\": \"\",\n        \"description\": \"\"\n      }\n    },\n    {\n      \"column\": \"is_fraud\",\n      \"properties\": {\n        \"dtype\": \"number\",\n        \"std\": 0.06544063554488123,\n        \"min\": 0.0,\n        \"max\": 1.0,\n        \"num_unique_values\": 2,\n        \"samples\": [\n          1.0,\n          0.0\n        ],\n        \"semantic_type\": \"\",\n        \"description\": \"\"\n      }\n    }\n  ]\n}"
            }
          },
          "metadata": {},
          "execution_count": 26
        }
      ],
      "source": [
        "# Inspecting the fraud test dataset\n",
        "fraud_test.head()"
      ]
    },
    {
      "cell_type": "code",
      "execution_count": 27,
      "id": "b2ce3f87",
      "metadata": {
        "colab": {
          "base_uri": "https://localhost:8080/",
          "height": 408
        },
        "id": "b2ce3f87",
        "outputId": "89c6ffb2-fc51-4998-a295-412f4e166341"
      },
      "outputs": [
        {
          "output_type": "error",
          "ename": "ValueError",
          "evalue": "Unit Y is not supported. Only unambiguous timedelta values durations are supported. Allowed units are 'W', 'D', 'h', 'm', 's', 'ms', 'us', 'ns'",
          "traceback": [
            "\u001b[0;31m---------------------------------------------------------------------------\u001b[0m",
            "\u001b[0;31mValueError\u001b[0m                                Traceback (most recent call last)",
            "\u001b[0;32m<ipython-input-27-a63f6660d996>\u001b[0m in \u001b[0;36m<cell line: 4>\u001b[0;34m()\u001b[0m\n\u001b[1;32m      2\u001b[0m \u001b[0;32mfrom\u001b[0m \u001b[0mdatetime\u001b[0m \u001b[0;32mimport\u001b[0m \u001b[0mdate\u001b[0m\u001b[0;34m\u001b[0m\u001b[0;34m\u001b[0m\u001b[0m\n\u001b[1;32m      3\u001b[0m \u001b[0mfraud\u001b[0m\u001b[0;34m[\u001b[0m\u001b[0;34m'dob'\u001b[0m\u001b[0;34m]\u001b[0m \u001b[0;34m=\u001b[0m \u001b[0mpd\u001b[0m\u001b[0;34m.\u001b[0m\u001b[0mto_datetime\u001b[0m\u001b[0;34m(\u001b[0m\u001b[0mfraud\u001b[0m\u001b[0;34m[\u001b[0m\u001b[0;34m'dob'\u001b[0m\u001b[0;34m]\u001b[0m\u001b[0;34m)\u001b[0m\u001b[0;34m\u001b[0m\u001b[0;34m\u001b[0m\u001b[0m\n\u001b[0;32m----> 4\u001b[0;31m \u001b[0mfraud\u001b[0m\u001b[0;34m[\u001b[0m\u001b[0;34m'age'\u001b[0m\u001b[0;34m]\u001b[0m \u001b[0;34m=\u001b[0m \u001b[0;34m(\u001b[0m\u001b[0mpd\u001b[0m\u001b[0;34m.\u001b[0m\u001b[0mto_datetime\u001b[0m\u001b[0;34m(\u001b[0m\u001b[0;34m'now'\u001b[0m\u001b[0;34m)\u001b[0m \u001b[0;34m-\u001b[0m \u001b[0mfraud\u001b[0m\u001b[0;34m[\u001b[0m\u001b[0;34m'dob'\u001b[0m\u001b[0;34m]\u001b[0m\u001b[0;34m)\u001b[0m\u001b[0;34m/\u001b[0m \u001b[0mnp\u001b[0m\u001b[0;34m.\u001b[0m\u001b[0mtimedelta64\u001b[0m\u001b[0;34m(\u001b[0m\u001b[0;36m1\u001b[0m\u001b[0;34m,\u001b[0m \u001b[0;34m'Y'\u001b[0m\u001b[0;34m)\u001b[0m\u001b[0;34m\u001b[0m\u001b[0;34m\u001b[0m\u001b[0m\n\u001b[0m\u001b[1;32m      5\u001b[0m \u001b[0;34m\u001b[0m\u001b[0m\n\u001b[1;32m      6\u001b[0m \u001b[0mfraud\u001b[0m\u001b[0;34m.\u001b[0m\u001b[0mdrop\u001b[0m\u001b[0;34m(\u001b[0m\u001b[0;34m[\u001b[0m\u001b[0;34m'dob'\u001b[0m\u001b[0;34m]\u001b[0m\u001b[0;34m,\u001b[0m \u001b[0maxis\u001b[0m\u001b[0;34m=\u001b[0m\u001b[0;36m1\u001b[0m\u001b[0;34m,\u001b[0m \u001b[0minplace\u001b[0m\u001b[0;34m=\u001b[0m\u001b[0;32mTrue\u001b[0m\u001b[0;34m)\u001b[0m\u001b[0;34m\u001b[0m\u001b[0;34m\u001b[0m\u001b[0m\n",
            "\u001b[0;32m/usr/local/lib/python3.10/dist-packages/pandas/core/ops/common.py\u001b[0m in \u001b[0;36mnew_method\u001b[0;34m(self, other)\u001b[0m\n\u001b[1;32m     74\u001b[0m         \u001b[0mother\u001b[0m \u001b[0;34m=\u001b[0m \u001b[0mitem_from_zerodim\u001b[0m\u001b[0;34m(\u001b[0m\u001b[0mother\u001b[0m\u001b[0;34m)\u001b[0m\u001b[0;34m\u001b[0m\u001b[0;34m\u001b[0m\u001b[0m\n\u001b[1;32m     75\u001b[0m \u001b[0;34m\u001b[0m\u001b[0m\n\u001b[0;32m---> 76\u001b[0;31m         \u001b[0;32mreturn\u001b[0m \u001b[0mmethod\u001b[0m\u001b[0;34m(\u001b[0m\u001b[0mself\u001b[0m\u001b[0;34m,\u001b[0m \u001b[0mother\u001b[0m\u001b[0;34m)\u001b[0m\u001b[0;34m\u001b[0m\u001b[0;34m\u001b[0m\u001b[0m\n\u001b[0m\u001b[1;32m     77\u001b[0m \u001b[0;34m\u001b[0m\u001b[0m\n\u001b[1;32m     78\u001b[0m     \u001b[0;32mreturn\u001b[0m \u001b[0mnew_method\u001b[0m\u001b[0;34m\u001b[0m\u001b[0;34m\u001b[0m\u001b[0m\n",
            "\u001b[0;32m/usr/local/lib/python3.10/dist-packages/pandas/core/arraylike.py\u001b[0m in \u001b[0;36m__truediv__\u001b[0;34m(self, other)\u001b[0m\n\u001b[1;32m    208\u001b[0m     \u001b[0;34m@\u001b[0m\u001b[0munpack_zerodim_and_defer\u001b[0m\u001b[0;34m(\u001b[0m\u001b[0;34m\"__truediv__\"\u001b[0m\u001b[0;34m)\u001b[0m\u001b[0;34m\u001b[0m\u001b[0;34m\u001b[0m\u001b[0m\n\u001b[1;32m    209\u001b[0m     \u001b[0;32mdef\u001b[0m \u001b[0m__truediv__\u001b[0m\u001b[0;34m(\u001b[0m\u001b[0mself\u001b[0m\u001b[0;34m,\u001b[0m \u001b[0mother\u001b[0m\u001b[0;34m)\u001b[0m\u001b[0;34m:\u001b[0m\u001b[0;34m\u001b[0m\u001b[0;34m\u001b[0m\u001b[0m\n\u001b[0;32m--> 210\u001b[0;31m         \u001b[0;32mreturn\u001b[0m \u001b[0mself\u001b[0m\u001b[0;34m.\u001b[0m\u001b[0m_arith_method\u001b[0m\u001b[0;34m(\u001b[0m\u001b[0mother\u001b[0m\u001b[0;34m,\u001b[0m \u001b[0moperator\u001b[0m\u001b[0;34m.\u001b[0m\u001b[0mtruediv\u001b[0m\u001b[0;34m)\u001b[0m\u001b[0;34m\u001b[0m\u001b[0;34m\u001b[0m\u001b[0m\n\u001b[0m\u001b[1;32m    211\u001b[0m \u001b[0;34m\u001b[0m\u001b[0m\n\u001b[1;32m    212\u001b[0m     \u001b[0;34m@\u001b[0m\u001b[0munpack_zerodim_and_defer\u001b[0m\u001b[0;34m(\u001b[0m\u001b[0;34m\"__rtruediv__\"\u001b[0m\u001b[0;34m)\u001b[0m\u001b[0;34m\u001b[0m\u001b[0;34m\u001b[0m\u001b[0m\n",
            "\u001b[0;32m/usr/local/lib/python3.10/dist-packages/pandas/core/series.py\u001b[0m in \u001b[0;36m_arith_method\u001b[0;34m(self, other, op)\u001b[0m\n\u001b[1;32m   6133\u001b[0m     \u001b[0;32mdef\u001b[0m \u001b[0m_arith_method\u001b[0m\u001b[0;34m(\u001b[0m\u001b[0mself\u001b[0m\u001b[0;34m,\u001b[0m \u001b[0mother\u001b[0m\u001b[0;34m,\u001b[0m \u001b[0mop\u001b[0m\u001b[0;34m)\u001b[0m\u001b[0;34m:\u001b[0m\u001b[0;34m\u001b[0m\u001b[0;34m\u001b[0m\u001b[0m\n\u001b[1;32m   6134\u001b[0m         \u001b[0mself\u001b[0m\u001b[0;34m,\u001b[0m \u001b[0mother\u001b[0m \u001b[0;34m=\u001b[0m \u001b[0mself\u001b[0m\u001b[0;34m.\u001b[0m\u001b[0m_align_for_op\u001b[0m\u001b[0;34m(\u001b[0m\u001b[0mother\u001b[0m\u001b[0;34m)\u001b[0m\u001b[0;34m\u001b[0m\u001b[0;34m\u001b[0m\u001b[0m\n\u001b[0;32m-> 6135\u001b[0;31m         \u001b[0;32mreturn\u001b[0m \u001b[0mbase\u001b[0m\u001b[0;34m.\u001b[0m\u001b[0mIndexOpsMixin\u001b[0m\u001b[0;34m.\u001b[0m\u001b[0m_arith_method\u001b[0m\u001b[0;34m(\u001b[0m\u001b[0mself\u001b[0m\u001b[0;34m,\u001b[0m \u001b[0mother\u001b[0m\u001b[0;34m,\u001b[0m \u001b[0mop\u001b[0m\u001b[0;34m)\u001b[0m\u001b[0;34m\u001b[0m\u001b[0;34m\u001b[0m\u001b[0m\n\u001b[0m\u001b[1;32m   6136\u001b[0m \u001b[0;34m\u001b[0m\u001b[0m\n\u001b[1;32m   6137\u001b[0m     \u001b[0;32mdef\u001b[0m \u001b[0m_align_for_op\u001b[0m\u001b[0;34m(\u001b[0m\u001b[0mself\u001b[0m\u001b[0;34m,\u001b[0m \u001b[0mright\u001b[0m\u001b[0;34m,\u001b[0m \u001b[0malign_asobject\u001b[0m\u001b[0;34m:\u001b[0m \u001b[0mbool\u001b[0m \u001b[0;34m=\u001b[0m \u001b[0;32mFalse\u001b[0m\u001b[0;34m)\u001b[0m\u001b[0;34m:\u001b[0m\u001b[0;34m\u001b[0m\u001b[0;34m\u001b[0m\u001b[0m\n",
            "\u001b[0;32m/usr/local/lib/python3.10/dist-packages/pandas/core/base.py\u001b[0m in \u001b[0;36m_arith_method\u001b[0;34m(self, other, op)\u001b[0m\n\u001b[1;32m   1374\u001b[0m         \u001b[0mlvalues\u001b[0m \u001b[0;34m=\u001b[0m \u001b[0mself\u001b[0m\u001b[0;34m.\u001b[0m\u001b[0m_values\u001b[0m\u001b[0;34m\u001b[0m\u001b[0;34m\u001b[0m\u001b[0m\n\u001b[1;32m   1375\u001b[0m         \u001b[0mrvalues\u001b[0m \u001b[0;34m=\u001b[0m \u001b[0mextract_array\u001b[0m\u001b[0;34m(\u001b[0m\u001b[0mother\u001b[0m\u001b[0;34m,\u001b[0m \u001b[0mextract_numpy\u001b[0m\u001b[0;34m=\u001b[0m\u001b[0;32mTrue\u001b[0m\u001b[0;34m,\u001b[0m \u001b[0mextract_range\u001b[0m\u001b[0;34m=\u001b[0m\u001b[0;32mTrue\u001b[0m\u001b[0;34m)\u001b[0m\u001b[0;34m\u001b[0m\u001b[0;34m\u001b[0m\u001b[0m\n\u001b[0;32m-> 1376\u001b[0;31m         \u001b[0mrvalues\u001b[0m \u001b[0;34m=\u001b[0m \u001b[0mops\u001b[0m\u001b[0;34m.\u001b[0m\u001b[0mmaybe_prepare_scalar_for_op\u001b[0m\u001b[0;34m(\u001b[0m\u001b[0mrvalues\u001b[0m\u001b[0;34m,\u001b[0m \u001b[0mlvalues\u001b[0m\u001b[0;34m.\u001b[0m\u001b[0mshape\u001b[0m\u001b[0;34m)\u001b[0m\u001b[0;34m\u001b[0m\u001b[0;34m\u001b[0m\u001b[0m\n\u001b[0m\u001b[1;32m   1377\u001b[0m         \u001b[0mrvalues\u001b[0m \u001b[0;34m=\u001b[0m \u001b[0mensure_wrapped_if_datetimelike\u001b[0m\u001b[0;34m(\u001b[0m\u001b[0mrvalues\u001b[0m\u001b[0;34m)\u001b[0m\u001b[0;34m\u001b[0m\u001b[0;34m\u001b[0m\u001b[0m\n\u001b[1;32m   1378\u001b[0m         \u001b[0;32mif\u001b[0m \u001b[0misinstance\u001b[0m\u001b[0;34m(\u001b[0m\u001b[0mrvalues\u001b[0m\u001b[0;34m,\u001b[0m \u001b[0mrange\u001b[0m\u001b[0;34m)\u001b[0m\u001b[0;34m:\u001b[0m\u001b[0;34m\u001b[0m\u001b[0;34m\u001b[0m\u001b[0m\n",
            "\u001b[0;32m/usr/local/lib/python3.10/dist-packages/pandas/core/ops/array_ops.py\u001b[0m in \u001b[0;36mmaybe_prepare_scalar_for_op\u001b[0;34m(obj, shape)\u001b[0m\n\u001b[1;32m    569\u001b[0m         \u001b[0;31m#  nanoseconds, or else we get undesired behavior like\u001b[0m\u001b[0;34m\u001b[0m\u001b[0;34m\u001b[0m\u001b[0m\n\u001b[1;32m    570\u001b[0m         \u001b[0;31m#  np.timedelta64(3, 'D') / 2 == np.timedelta64(1, 'D')\u001b[0m\u001b[0;34m\u001b[0m\u001b[0;34m\u001b[0m\u001b[0m\n\u001b[0;32m--> 571\u001b[0;31m         \u001b[0;32mreturn\u001b[0m \u001b[0mTimedelta\u001b[0m\u001b[0;34m(\u001b[0m\u001b[0mobj\u001b[0m\u001b[0;34m)\u001b[0m\u001b[0;34m\u001b[0m\u001b[0;34m\u001b[0m\u001b[0m\n\u001b[0m\u001b[1;32m    572\u001b[0m \u001b[0;34m\u001b[0m\u001b[0m\n\u001b[1;32m    573\u001b[0m     \u001b[0;31m# We want NumPy numeric scalars to behave like Python scalars\u001b[0m\u001b[0;34m\u001b[0m\u001b[0;34m\u001b[0m\u001b[0m\n",
            "\u001b[0;32mtimedeltas.pyx\u001b[0m in \u001b[0;36mpandas._libs.tslibs.timedeltas.Timedelta.__new__\u001b[0;34m()\u001b[0m\n",
            "\u001b[0;31mValueError\u001b[0m: Unit Y is not supported. Only unambiguous timedelta values durations are supported. Allowed units are 'W', 'D', 'h', 'm', 's', 'ms', 'us', 'ns'"
          ]
        }
      ],
      "source": [
        "# Converting dob to age\n",
        "from datetime import date\n",
        "fraud['dob'] = pd.to_datetime(fraud['dob'])\n",
        "fraud['age'] = (pd.to_datetime('now') - fraud['dob'])/ np.timedelta64(1, 'Y')\n",
        "\n",
        "fraud.drop(['dob'], axis=1, inplace=True)\n",
        "fraud.head()"
      ]
    },
    {
      "cell_type": "code",
      "execution_count": null,
      "id": "e487556d",
      "metadata": {
        "id": "e487556d"
      },
      "outputs": [],
      "source": [
        "# Same change on the test dataset\n",
        "fraud_test['dob'] = pd.to_datetime(fraud_test['dob'])\n",
        "fraud_test['age'] = (pd.to_datetime('now') - fraud_test['dob'])/ np.timedelta64(1, 'Y')\n",
        "\n",
        "fraud_test.drop(['dob'], axis=1, inplace=True)\n",
        "fraud_test.head()"
      ]
    },
    {
      "cell_type": "code",
      "execution_count": null,
      "id": "17203bbb",
      "metadata": {
        "id": "17203bbb"
      },
      "outputs": [],
      "source": [
        "# Seggregating data and time from trans_date_trans_time field\n",
        "fraud['trans_date'] = pd.DatetimeIndex(fraud['trans_date_trans_time']).date\n",
        "fraud['trans_time'] = pd.DatetimeIndex(fraud['trans_date_trans_time']).time\n",
        "fraud.drop(['trans_date_trans_time'], axis=1, inplace=True)\n",
        "fraud.head()"
      ]
    },
    {
      "cell_type": "code",
      "execution_count": null,
      "id": "cf590928",
      "metadata": {
        "id": "cf590928"
      },
      "outputs": [],
      "source": [
        "# Same changes on test dataset\n",
        "fraud_test['trans_date'] = pd.DatetimeIndex(fraud_test['trans_date_trans_time']).date\n",
        "fraud_test['trans_time'] = pd.DatetimeIndex(fraud_test['trans_date_trans_time']).time\n",
        "fraud_test.drop(['trans_date_trans_time'], axis=1, inplace=True)\n",
        "fraud_test.head()"
      ]
    },
    {
      "cell_type": "code",
      "execution_count": null,
      "id": "5e4565ed",
      "metadata": {
        "id": "5e4565ed"
      },
      "outputs": [],
      "source": [
        "# Check on numeric columns for outliers\n",
        "fraud.describe()"
      ]
    },
    {
      "cell_type": "code",
      "execution_count": null,
      "id": "126f43e1",
      "metadata": {
        "id": "126f43e1"
      },
      "outputs": [],
      "source": [
        "# Further checking distribution of continuous variables - amt, city_pop and age columns to see if there are any valid outliers\n",
        "plt.boxplot(fraud.amt)\n",
        "plt.show()\n",
        "plt.boxplot(fraud.city_pop)\n",
        "plt.show()\n",
        "plt.boxplot(fraud.age)\n",
        "plt.show()"
      ]
    },
    {
      "cell_type": "markdown",
      "id": "3922f0db",
      "metadata": {
        "id": "3922f0db"
      },
      "source": [
        "The age column has no outliers while amt and city_pop stastically shows outliers. However, both amount and city population can vary drastically and none of them seems very high or very low. Hence, we will consider it as valid data."
      ]
    },
    {
      "cell_type": "code",
      "execution_count": null,
      "id": "32e83605",
      "metadata": {
        "id": "32e83605"
      },
      "outputs": [],
      "source": [
        "# Identifying all the Numeric and non numeric columns\n",
        "num = []\n",
        "obj = []\n",
        "for i in range (0,13):\n",
        "    if fraud.iloc[:,i].dtype != 'O':\n",
        "        num.append(i)\n",
        "    else:\n",
        "        obj.append(i)\n",
        "print(num)\n",
        "print(obj)\n",
        "col_names = fraud.columns\n",
        "print(col_names)"
      ]
    },
    {
      "cell_type": "code",
      "execution_count": null,
      "id": "d4a49e85",
      "metadata": {
        "id": "d4a49e85"
      },
      "outputs": [],
      "source": [
        "# Checking the distribution of object variables\n",
        "for i in obj:\n",
        "    print (col_names[i])\n",
        "    print (fraud.iloc[:,i].value_counts(normalize=True))\n",
        "    print ('*' * 50)"
      ]
    },
    {
      "cell_type": "code",
      "execution_count": null,
      "id": "b78d4994",
      "metadata": {
        "id": "b78d4994"
      },
      "outputs": [],
      "source": [
        "# Lets check the transaction distribution by Category, Gender and State variables\n",
        "plt.figure(figsize = (7,5))\n",
        "plt.title('Transaction distribution by Category', fontsize= 10, color = 'Red', fontweight = 100)\n",
        "fraud.category.value_counts(normalize=True).plot.bar()\n",
        "plt.show()\n",
        "\n",
        "plt.figure(figsize = (7,5))\n",
        "plt.title('Transaction distribution by gender', fontsize= 10, color = 'Red', fontweight = 100)\n",
        "fraud.gender.value_counts(normalize=True).plot.bar()\n",
        "plt.show()\n",
        "\n",
        "plt.figure(figsize = (17,5))\n",
        "plt.title('Transaction distribution by state', fontsize= 10, color = 'Red', fontweight = 100)\n",
        "fraud.state.value_counts(normalize=True).plot.bar()\n",
        "plt.show()"
      ]
    },
    {
      "cell_type": "markdown",
      "id": "73170bfd",
      "metadata": {
        "id": "73170bfd"
      },
      "source": [
        "### Bi-Variate Analysis\n",
        "Check for the behaviour of various columns against the is_fraud column"
      ]
    },
    {
      "cell_type": "code",
      "execution_count": null,
      "id": "4e09c830",
      "metadata": {
        "id": "4e09c830"
      },
      "outputs": [],
      "source": [
        "fraud.info()"
      ]
    },
    {
      "cell_type": "code",
      "execution_count": null,
      "id": "f5089d80",
      "metadata": {
        "id": "f5089d80"
      },
      "outputs": [],
      "source": []
    },
    {
      "cell_type": "code",
      "execution_count": null,
      "id": "ca01641e",
      "metadata": {
        "id": "ca01641e"
      },
      "outputs": [],
      "source": [
        "# Fraud Vs Amount\n",
        "plt.figure(figsize=[15,5])\n",
        "plt.subplot(1,2,1)\n",
        "plt.title('Fraud Vs Transaction Amount', fontsize= 10, color = 'Red', fontweight = 100)\n",
        "plt.scatter(fraud.amt, fraud.is_fraud)\n",
        "plt.subplot(1,2,2)\n",
        "#fraud.groupby('is_fraud')['amt'].mean().plot.bar()\n",
        "#plt.xticks((0,1),['Not Fraud', 'Fraud'])\n",
        "#plt.xticks(rotation=0)\n",
        "temp = fraud[fraud.is_fraud == 1]\n",
        "plt.title('Distribution of Fraud Amount', fontsize= 10, color = 'Red', fontweight = 100)\n",
        "plt.hist(temp.amt, edgecolor='Black')\n",
        "plt.xticks(np.arange(0, 1300, step=100))\n",
        "\n",
        "plt.show()"
      ]
    },
    {
      "cell_type": "markdown",
      "id": "95c8fe9d",
      "metadata": {
        "id": "95c8fe9d"
      },
      "source": [
        "As can be seen from above, frauds are happening in transactions with lower amount hence indicating there is a relation in them."
      ]
    },
    {
      "cell_type": "code",
      "execution_count": null,
      "id": "2862ae92",
      "metadata": {
        "id": "2862ae92"
      },
      "outputs": [],
      "source": [
        "# Fraud transactions Vs merchant\n",
        "# Total number of transactions per merchant\n",
        "merch_tran_total = fraud.sort_values('merchant').groupby('merchant').count()['is_fraud']\n",
        "merch_tran_total.head()"
      ]
    },
    {
      "cell_type": "code",
      "execution_count": null,
      "id": "c3464243",
      "metadata": {
        "id": "c3464243"
      },
      "outputs": [],
      "source": [
        "# Total fraud transactions per merchant\n",
        "merch_tran_fraud = fraud[fraud.is_fraud == 1]['merchant'].value_counts()\n",
        "merch_tran_fraud.head()"
      ]
    },
    {
      "cell_type": "code",
      "execution_count": null,
      "id": "2f6e1ccd",
      "metadata": {
        "id": "2f6e1ccd"
      },
      "outputs": [],
      "source": [
        "# Percent of fraud transactions per merchant\n",
        "fraud_perc = merch_tran_fraud/ merch_tran_total * 100\n",
        "fraud_perc.sort_values(ascending=False)"
      ]
    },
    {
      "cell_type": "markdown",
      "id": "b8ffc222",
      "metadata": {
        "id": "b8ffc222"
      },
      "source": [
        "Baring a few merchants, most of them have equal distribution of transactions and hence this field may play important role in the model. Changing the alphabetic values to numeric as models expects numeric data."
      ]
    },
    {
      "cell_type": "code",
      "execution_count": null,
      "id": "3e6f28af",
      "metadata": {
        "id": "3e6f28af"
      },
      "outputs": [],
      "source": [
        "# variable transformation - merchant\n",
        "from sklearn.preprocessing import LabelEncoder\n",
        "label_encoder = LabelEncoder()\n",
        "fraud.merchant = label_encoder.fit_transform(fraud.merchant)\n",
        "fraud_test.merchant = label_encoder.fit_transform(fraud_test.merchant)"
      ]
    },
    {
      "cell_type": "code",
      "execution_count": null,
      "id": "2222942d",
      "metadata": {
        "id": "2222942d"
      },
      "outputs": [],
      "source": [
        "# Fraud transactions Vs City\n",
        "# Percent distribution of fraud based on city\n",
        "city_tran_total = fraud.sort_values('city').groupby('city').count()['is_fraud']\n",
        "city_tran_fraud = fraud[fraud.is_fraud == 1]['city'].value_counts()\n",
        "fraud_perc = city_tran_fraud/ city_tran_total * 100\n",
        "fraud_perc.sort_values(ascending=False).head()"
      ]
    },
    {
      "cell_type": "markdown",
      "id": "3d602abb",
      "metadata": {
        "id": "3d602abb"
      },
      "source": [
        "As can be seen, few cities have all transactions as fraud. All these cities have low transaction rate. There are 58 such cities."
      ]
    },
    {
      "cell_type": "code",
      "execution_count": null,
      "id": "f0dd178b",
      "metadata": {
        "id": "f0dd178b"
      },
      "outputs": [],
      "source": [
        "# Transforming alphabetic city data into numeric to be processed by the model\n",
        "fraud.city = label_encoder.fit_transform(fraud.city)\n",
        "fraud_test.city = label_encoder.fit_transform(fraud_test.city)"
      ]
    },
    {
      "cell_type": "code",
      "execution_count": null,
      "id": "5954f3ec",
      "metadata": {
        "id": "5954f3ec"
      },
      "outputs": [],
      "source": [
        "# category Vs fraud\n",
        "# Percent distribution of fraud based on transaction category\n",
        "cat_tran_total = fraud.sort_values('category').groupby('category').count()['is_fraud']\n",
        "cat_tran_fraud = fraud[fraud.is_fraud == 1]['category'].value_counts()\n",
        "fraud_perc = cat_tran_fraud/ cat_tran_total * 100\n",
        "plt.title('Category wise fraud transactions', fontsize= 10, color = 'Red', fontweight = 100)\n",
        "plt.ylabel('% Fraud Transactions', fontdict = {'fontsize': 10, 'color': 'Blue', 'fontweight' : '300'})\n",
        "fraud_perc.sort_values().plot.bar()\n",
        "plt.show()"
      ]
    },
    {
      "cell_type": "code",
      "execution_count": null,
      "id": "a6397f68",
      "metadata": {
        "id": "a6397f68"
      },
      "outputs": [],
      "source": [
        "# Transforming alphabetic category data into numeric to be processed by the model\n",
        "fraud.category = label_encoder.fit_transform(fraud.category)\n",
        "fraud_test.category = label_encoder.fit_transform(fraud_test.category)"
      ]
    },
    {
      "cell_type": "code",
      "execution_count": null,
      "id": "0071d65c",
      "metadata": {
        "id": "0071d65c"
      },
      "outputs": [],
      "source": [
        "# Gender Vs Fraud\n",
        "# Percent distribution of fraud based on Gender\n",
        "gen_tran_total = fraud.sort_values('gender').groupby('gender').count()['is_fraud']\n",
        "gen_tran_fraud = fraud[fraud.is_fraud == 1]['gender'].value_counts()\n",
        "fraud_perc = gen_tran_fraud/ gen_tran_total * 100\n",
        "plt.title('Gender wise Fraud Transactions', fontsize= 10, color = 'Red', fontweight = 100)\n",
        "fraud_perc.sort_values().plot.bar()\n",
        "plt.show()"
      ]
    },
    {
      "cell_type": "code",
      "execution_count": null,
      "id": "7675408a",
      "metadata": {
        "id": "7675408a"
      },
      "outputs": [],
      "source": [
        "# Transforming alphabetic gender data into numeric to be processed by the model\n",
        "fraud.gender = fraud.gender.map({'M': 1, \"F\": 0})\n",
        "fraud_test.gender = fraud_test.gender.map({'M': 1, \"F\": 0})"
      ]
    },
    {
      "cell_type": "code",
      "execution_count": null,
      "id": "0ee9ef19",
      "metadata": {
        "id": "0ee9ef19"
      },
      "outputs": [],
      "source": [
        "# state Vs fraud\n",
        "# Percent distribution of fraud based on State\n",
        "plt.figure(figsize = (17,5))\n",
        "state_tran_total = fraud.sort_values('state').groupby('state').count()['is_fraud']\n",
        "state_tran_fraud = fraud[fraud.is_fraud == 1]['state'].value_counts()\n",
        "fraud_perc = state_tran_fraud/ state_tran_total * 100\n",
        "plt.title('state wise Fraud Transactions', fontsize= 10, color = 'Red', fontweight = 100)\n",
        "plt.ylabel('% Fraud Transactions', fontdict = {'fontsize': 10, 'color': 'Blue', 'fontweight' : '300'})\n",
        "fraud_perc.sort_values(ascending=False).plot.bar()\n",
        "plt.show()"
      ]
    },
    {
      "cell_type": "code",
      "execution_count": null,
      "id": "8c6d67fd",
      "metadata": {
        "id": "8c6d67fd"
      },
      "outputs": [],
      "source": [
        "fraud_perc.sort_values(ascending=False).head()"
      ]
    },
    {
      "cell_type": "markdown",
      "id": "4ff06964",
      "metadata": {
        "id": "4ff06964"
      },
      "source": [
        "This is very significant. While the number of transactions in DE is very less, all of them are fraud transaction. Rest all the states have very low fraud transaction."
      ]
    },
    {
      "cell_type": "code",
      "execution_count": null,
      "id": "3ac45435",
      "metadata": {
        "id": "3ac45435"
      },
      "outputs": [],
      "source": [
        "# Transforming alphabetic state data into numeric to be processed by the model\n",
        "fraud.state = label_encoder.fit_transform(fraud.state)\n",
        "fraud_test.state = label_encoder.fit_transform(fraud_test.state)"
      ]
    },
    {
      "cell_type": "code",
      "execution_count": null,
      "id": "8f617fc6",
      "metadata": {
        "id": "8f617fc6"
      },
      "outputs": [],
      "source": [
        "# Job Vs Fraud\n",
        "# Percent distribution of fraud based on Job\n",
        "job_tran_total = fraud.sort_values('job').groupby('job').count()['is_fraud']\n",
        "job_tran_fraud = fraud[fraud.is_fraud == 1]['job'].value_counts()\n",
        "fraud_perc = job_tran_fraud/ job_tran_total * 100\n",
        "fraud_perc.sort_values(ascending=False).head(20)"
      ]
    },
    {
      "cell_type": "markdown",
      "id": "81d39c58",
      "metadata": {
        "id": "81d39c58"
      },
      "source": [
        "There seems certain jobs that have real high % of fraud transactions."
      ]
    },
    {
      "cell_type": "code",
      "execution_count": null,
      "id": "5b0aa40a",
      "metadata": {
        "id": "5b0aa40a"
      },
      "outputs": [],
      "source": [
        "# Transforming alphabetic job data into numeric to be processed by the model\n",
        "fraud.job = label_encoder.fit_transform(fraud.job)\n",
        "fraud_test.job = label_encoder.fit_transform(fraud_test.job)"
      ]
    },
    {
      "cell_type": "code",
      "execution_count": null,
      "id": "4befe602",
      "metadata": {
        "id": "4befe602"
      },
      "outputs": [],
      "source": [
        "# Fraud Vs City Population\n",
        "plt.figure(figsize=[15,6])\n",
        "temp = fraud[fraud.is_fraud == 1]\n",
        "plt.title('Distribution of City Population on Fraud Transaction', fontsize= 10, color = 'Red', fontweight = 100)\n",
        "plt.hist(temp.city_pop, edgecolor='Black')\n",
        "plt.xticks(np.arange(10000, 3000000, step=300000))\n",
        "plt.show()"
      ]
    },
    {
      "cell_type": "markdown",
      "id": "1006d76f",
      "metadata": {
        "id": "1006d76f"
      },
      "source": [
        "Cities with less population, tends to have more fraud cases."
      ]
    },
    {
      "cell_type": "code",
      "execution_count": null,
      "id": "c7a69bfa",
      "metadata": {
        "id": "c7a69bfa"
      },
      "outputs": [],
      "source": [
        "# Fraud Vs Unix Time\n",
        "plt.title('Fraud Vs unix_time', fontsize= 10, color = 'Red', fontweight = 100)\n",
        "plt.scatter(fraud.unix_time, fraud.is_fraud)\n",
        "plt.show()"
      ]
    },
    {
      "cell_type": "code",
      "execution_count": null,
      "id": "1a201e09",
      "metadata": {
        "id": "1a201e09"
      },
      "outputs": [],
      "source": [
        "# Fraud Vs Age\n",
        "temp = fraud[fraud.is_fraud == 1]\n",
        "plt.title('Distribution of Age', fontsize= 10, color = 'Red', fontweight = 100)\n",
        "plt.hist(temp.age, edgecolor='Black')\n",
        "plt.xticks(np.arange(10, 100, step=10))\n",
        "plt.show()"
      ]
    },
    {
      "cell_type": "markdown",
      "id": "2efd0c58",
      "metadata": {
        "id": "2efd0c58"
      },
      "source": [
        "So, people in age group 50 to 60 tends to be slightly more victims of fraud."
      ]
    },
    {
      "cell_type": "code",
      "execution_count": null,
      "id": "b73f9bc2",
      "metadata": {
        "id": "b73f9bc2"
      },
      "outputs": [],
      "source": [
        "# Fraud Vs Zip\n",
        "zip_tran_total = fraud.sort_values('zip').groupby('zip').count()['is_fraud']\n",
        "zip_tran_fraud = fraud[fraud.is_fraud == 1]['zip'].value_counts()\n",
        "fraud_perc = zip_tran_fraud/ zip_tran_total * 100\n",
        "fraud_perc.sort_values(ascending=False).head(25)"
      ]
    },
    {
      "cell_type": "markdown",
      "id": "453bfe87",
      "metadata": {
        "id": "453bfe87"
      },
      "source": [
        "As is evident from above stats, there are perticular ZIP codes that have 100% frauds."
      ]
    },
    {
      "cell_type": "code",
      "execution_count": null,
      "id": "75ff5275",
      "metadata": {
        "id": "75ff5275"
      },
      "outputs": [],
      "source": [
        "# Fraud Vs lat\n",
        "lat_tran_total = fraud.sort_values('lat').groupby('lat').count()['is_fraud']\n",
        "lat_tran_fraud = fraud[fraud.is_fraud == 1]['lat'].value_counts()\n",
        "fraud_perc = lat_tran_fraud/ lat_tran_total * 100\n",
        "fraud_perc.sort_values(ascending=False).head()"
      ]
    },
    {
      "cell_type": "markdown",
      "id": "c426ba8b",
      "metadata": {
        "id": "c426ba8b"
      },
      "source": [
        "As is evident from above stats, there are perticular latitudes codes that have 100% frauds."
      ]
    },
    {
      "cell_type": "code",
      "execution_count": null,
      "id": "72e733de",
      "metadata": {
        "id": "72e733de"
      },
      "outputs": [],
      "source": [
        "# Fraud Vs long\n",
        "long_tran_total = fraud.sort_values('long').groupby('long').count()['is_fraud']\n",
        "long_tran_fraud = fraud[fraud.is_fraud == 1]['long'].value_counts()\n",
        "fraud_perc = long_tran_fraud/ long_tran_total * 100\n",
        "fraud_perc.sort_values(ascending=False).head()"
      ]
    },
    {
      "cell_type": "code",
      "execution_count": null,
      "id": "24f2e042",
      "metadata": {
        "id": "24f2e042"
      },
      "outputs": [],
      "source": [
        "# Fraud Vs merch_lat\n",
        "lat_tran_total = fraud.sort_values('merch_lat').groupby('merch_lat').count()['is_fraud']\n",
        "lat_tran_fraud = fraud[fraud.is_fraud == 1]['merch_lat'].value_counts()\n",
        "fraud_perc = lat_tran_fraud/ lat_tran_total * 100\n",
        "fraud_perc.sort_values(ascending=False).head()"
      ]
    },
    {
      "cell_type": "code",
      "execution_count": null,
      "id": "485941ea",
      "metadata": {
        "id": "485941ea"
      },
      "outputs": [],
      "source": [
        "# Fraud Vs merch_long\n",
        "long_tran_total = fraud.sort_values('merch_long').groupby('merch_long').count()['is_fraud']\n",
        "long_tran_fraud = fraud[fraud.is_fraud == 1]['merch_long'].value_counts()\n",
        "fraud_perc = long_tran_fraud/ long_tran_total * 100\n",
        "fraud_perc.sort_values(ascending=False).head()"
      ]
    },
    {
      "cell_type": "markdown",
      "id": "921cd473",
      "metadata": {
        "id": "921cd473"
      },
      "source": [
        "- There are multiple demographies - Zip, City, States, Latitudes, Longitudes and Job types that have only Fraud transactions.\n",
        "- Even though they have 100% frauds, the number of transactions is very low. For Example State DE had only 9 transactions in 2 years. Hence, it is very less likely to impact the model."
      ]
    },
    {
      "cell_type": "code",
      "execution_count": null,
      "id": "3edb5d3d",
      "metadata": {
        "id": "3edb5d3d"
      },
      "outputs": [],
      "source": [
        "# Fraud Vs trans_date\n",
        "fraud['trans_date'] =  pd.to_datetime(fraud['trans_date'])\n",
        "plt.figure(figsize=[15,5])\n",
        "fraud.groupby(['trans_date'])['is_fraud'].sum().plot()\n",
        "plt.show()"
      ]
    },
    {
      "cell_type": "markdown",
      "id": "d6f234e7",
      "metadata": {
        "id": "d6f234e7"
      },
      "source": [
        "Now its time to change date and time to a format more acceptable for modelling. Before that, lets pull some stats required for Cost sheet.\n",
        "Also, it may be noticed that the train data is for 1.5 years (full 2019 till mid of 2020) and test data is for last 6 months of 2020. This way we will be able to build model on 1.5 year of data and test it on future data and hence check model performance in future. We will do the Cost Benifit analysis on the entire data."
      ]
    },
    {
      "cell_type": "code",
      "execution_count": null,
      "id": "7bed0d89",
      "metadata": {
        "id": "7bed0d89"
      },
      "outputs": [],
      "source": [
        "# Total number of months\n",
        "date_fraud = fraud.trans_date\n",
        "date_fraud_test = pd.to_datetime(fraud_test.trans_date)\n",
        "date_fraud = date_fraud.dt.to_period('M')\n",
        "date_fraud_test = date_fraud_test.dt.to_period('M')\n",
        "date = pd.concat([date_fraud, date_fraud_test])\n",
        "print ('total number of records in file: ', date.size)"
      ]
    },
    {
      "cell_type": "code",
      "execution_count": null,
      "id": "77574d1a",
      "metadata": {
        "id": "77574d1a"
      },
      "outputs": [],
      "source": [
        "print ('Total number of months: ', date.value_counts().size)"
      ]
    },
    {
      "cell_type": "code",
      "execution_count": null,
      "id": "ec0a5fc0",
      "metadata": {
        "id": "ec0a5fc0"
      },
      "outputs": [],
      "source": [
        "print ('Average transactions per month: ', round(date.size/date.value_counts().size,0) )"
      ]
    },
    {
      "cell_type": "code",
      "execution_count": null,
      "id": "63836254",
      "metadata": {
        "id": "63836254"
      },
      "outputs": [],
      "source": [
        "# Extracting fraud data\n",
        "temp1 = fraud[['amt', 'is_fraud']]\n",
        "temp2 = fraud_test[['amt', 'is_fraud']]\n",
        "temp = pd.concat([temp1, temp2])\n",
        "temp.shape"
      ]
    },
    {
      "cell_type": "code",
      "execution_count": null,
      "id": "9282f21d",
      "metadata": {
        "id": "9282f21d"
      },
      "outputs": [],
      "source": [
        "# Average frauds per month\n",
        "fraud_temp = temp[temp.is_fraud == 1]\n",
        "print ('Average fraud transactions per month: ', round(fraud_temp.shape[0]/ date.value_counts().size,0))"
      ]
    },
    {
      "cell_type": "code",
      "execution_count": null,
      "id": "46912f63",
      "metadata": {
        "id": "46912f63"
      },
      "outputs": [],
      "source": [
        "# Average amount per fraud transaction\n",
        "print ('Average amount per fraud transaction: ', round(sum(fraud_temp.amt)/ fraud_temp.shape[0], 2))"
      ]
    },
    {
      "cell_type": "code",
      "execution_count": null,
      "id": "9c137887",
      "metadata": {
        "id": "9c137887"
      },
      "outputs": [],
      "source": [
        "# Average amount per fraud transaction\n",
        "print ('max fraud amount : ' , max(fraud_temp.amt))"
      ]
    },
    {
      "cell_type": "code",
      "execution_count": null,
      "id": "b55d71b0",
      "metadata": {
        "id": "b55d71b0"
      },
      "outputs": [],
      "source": [
        "# Fraud Vs trans_time\n",
        "import datetime as dt\n",
        "fraud.trans_date = fraud.trans_date.map(dt.datetime.toordinal)\n",
        "plt.figure(figsize=[25,5])\n",
        "plt.title('Transactions Spread throughout the Day', fontsize= 10, color = 'Red', fontweight = 100)\n",
        "fraud.groupby(['trans_time'])['is_fraud'].sum().plot()\n",
        "plt.show()"
      ]
    },
    {
      "cell_type": "markdown",
      "id": "4831bbb6",
      "metadata": {
        "id": "4831bbb6"
      },
      "source": [
        "So, late nights and early mornings are the most prone time for frauds. Highest frequency of frauds is between 10 pm to 12 am. 12 am to 4:00 am also shows very high frequency of fraud transactions."
      ]
    },
    {
      "cell_type": "code",
      "execution_count": null,
      "id": "54aa6564",
      "metadata": {
        "id": "54aa6564"
      },
      "outputs": [],
      "source": [
        "# Converting trans_time into seconds & ploting the above graph again\n",
        "fraud.trans_time = pd.to_datetime(fraud.trans_time,format='%H:%M:%S')\n",
        "fraud.trans_time = 3600 * pd.DatetimeIndex(fraud.trans_time).hour + 60 * pd.DatetimeIndex(fraud.trans_time).minute + pd.DatetimeIndex(fraud.trans_time).second\n",
        "plt.figure(figsize=[25,5])\n",
        "plt.xticks(np.arange(0,90000,5000))\n",
        "fraud.groupby(['trans_time'])['is_fraud'].sum().plot()\n",
        "plt.show()"
      ]
    },
    {
      "cell_type": "code",
      "execution_count": null,
      "id": "9b4ef713",
      "metadata": {
        "id": "9b4ef713"
      },
      "outputs": [],
      "source": [
        "# Similar data-time changes in test dataset\n",
        "fraud_test['trans_date'] =  pd.to_datetime(fraud_test['trans_date'])\n",
        "fraud_test.trans_date = fraud_test.trans_date.map(dt.datetime.toordinal)\n",
        "fraud_test.trans_time = pd.to_datetime(fraud_test.trans_time,format='%H:%M:%S')\n",
        "fraud_test.trans_time = 3600 * pd.DatetimeIndex(fraud_test.trans_time).hour + 60 * pd.DatetimeIndex(fraud_test.trans_time).minute + pd.DatetimeIndex(fraud_test.trans_time).second"
      ]
    },
    {
      "cell_type": "code",
      "execution_count": null,
      "id": "5d1a55b2",
      "metadata": {
        "id": "5d1a55b2"
      },
      "outputs": [],
      "source": [
        "print ('train : ', fraud.shape)\n",
        "print ('test : ', fraud_test.shape)"
      ]
    },
    {
      "cell_type": "code",
      "execution_count": null,
      "id": "f34cabfa",
      "metadata": {
        "id": "f34cabfa"
      },
      "outputs": [],
      "source": [
        "fraud.info()"
      ]
    },
    {
      "cell_type": "code",
      "execution_count": null,
      "id": "412b93fa",
      "metadata": {
        "id": "412b93fa"
      },
      "outputs": [],
      "source": [
        "fraud_test.info()"
      ]
    },
    {
      "cell_type": "markdown",
      "id": "f59ed30e",
      "metadata": {
        "id": "f59ed30e"
      },
      "source": [
        "### Train Test Split\n",
        "Splitting the data into train & validate datasets. The test dataset provided will be used for final evaluation."
      ]
    },
    {
      "cell_type": "code",
      "execution_count": null,
      "id": "5e8e4afa",
      "metadata": {
        "id": "5e8e4afa"
      },
      "outputs": [],
      "source": [
        "X = fraud.drop('is_fraud', axis=1)\n",
        "X.head()"
      ]
    },
    {
      "cell_type": "code",
      "execution_count": null,
      "id": "61d2137e",
      "metadata": {
        "id": "61d2137e"
      },
      "outputs": [],
      "source": [
        "y = fraud['is_fraud']\n",
        "y.head()"
      ]
    },
    {
      "cell_type": "code",
      "execution_count": null,
      "id": "9c636d30",
      "metadata": {
        "id": "9c636d30"
      },
      "outputs": [],
      "source": [
        "# Splitting the data into train and test such that ration of fraud is same in both\n",
        "from sklearn.model_selection import train_test_split\n",
        "\n",
        "# Handle missing values in 'y' before splitting\n",
        "y = fraud['is_fraud'].dropna()  # Drop rows with NaN in 'is_fraud' column\n",
        "\n",
        "# Update X to match the rows in the modified y\n",
        "X = fraud.loc[y.index].drop('is_fraud', axis=1)\n",
        "\n",
        "X_train, X_test, y_train, y_test = train_test_split(X, y, train_size=0.7, test_size=0.3, stratify=y, random_state=100)"
      ]
    },
    {
      "cell_type": "code",
      "execution_count": null,
      "id": "1d809c69",
      "metadata": {
        "id": "1d809c69"
      },
      "outputs": [],
      "source": [
        "# Inspecting the train and test datasets\n",
        "print ('Train Dataset : ', X_train.shape)\n",
        "print ('Test Dataset : ', X_test.shape)"
      ]
    },
    {
      "cell_type": "code",
      "execution_count": null,
      "id": "ceb248b5",
      "metadata": {
        "id": "ceb248b5"
      },
      "outputs": [],
      "source": [
        "# Creating X_final & y_final from the test dataset provided by Kaggle. This will be used for final evaluation of the model\n",
        "X_final = fraud_test.drop('is_fraud', axis=1)\n",
        "y_final = fraud_test['is_fraud']"
      ]
    },
    {
      "cell_type": "markdown",
      "id": "88bf692f",
      "metadata": {
        "id": "88bf692f"
      },
      "source": [
        "\n",
        "### Data Scaling"
      ]
    },
    {
      "cell_type": "code",
      "execution_count": null,
      "id": "4d77eb39",
      "metadata": {
        "id": "4d77eb39"
      },
      "outputs": [],
      "source": [
        "# Check distribution of few variables\n",
        "plt.figure(figsize=[15,8])\n",
        "plt.subplot(2,2,1)\n",
        "plt.title('Distribution of Amount', fontsize= 10, color = 'Red', fontweight = 100)\n",
        "plt.hist(X_train.amt)\n",
        "plt.subplot(2,2,2)\n",
        "plt.title('Distribution of Age', fontsize= 10, color = 'Red', fontweight = 100)\n",
        "plt.hist(X_train.age)\n",
        "plt.subplot(2,2,3)\n",
        "plt.title('Distribution of Zip', fontsize= 10, color = 'Red', fontweight = 100)\n",
        "plt.hist(X_train.zip)\n",
        "plt.subplot(2,2,4)\n",
        "plt.title('Distribution of trans_date', fontsize= 10, color = 'Red', fontweight = 100)\n",
        "plt.hist(X_train.trans_date)\n",
        "plt.show()"
      ]
    },
    {
      "cell_type": "code",
      "execution_count": null,
      "id": "62962551",
      "metadata": {
        "id": "62962551"
      },
      "outputs": [],
      "source": [
        "X_train.describe()"
      ]
    },
    {
      "cell_type": "code",
      "execution_count": null,
      "id": "7bafb390",
      "metadata": {
        "id": "7bafb390"
      },
      "outputs": [],
      "source": [
        "# Identify the variables to be scaled\n",
        "vars_to_scale = ['merchant', 'category', 'amt', 'city', 'state', 'zip', 'lat', 'long', 'city_pop', 'job', 'unix_time', 'merch_lat', 'merch_long', 'age', 'trans_date', 'trans_time']"
      ]
    },
    {
      "cell_type": "code",
      "execution_count": null,
      "id": "9a378650",
      "metadata": {
        "id": "9a378650"
      },
      "outputs": [],
      "source": [
        "# Lets try various scalers available in Scikit library. At optimum time, will finalize one.\n",
        "# Based on various test results, QuantileTransformer with Gaussian distribution seems best suited.\n",
        "from sklearn.preprocessing import MinMaxScaler\n",
        "from sklearn.preprocessing import StandardScaler\n",
        "from sklearn.preprocessing import PowerTransformer\n",
        "from sklearn.preprocessing import QuantileTransformer\n",
        "from sklearn.preprocessing import RobustScaler\n",
        "#scaler = MinMaxScaler()\n",
        "#scaler = StandardScaler()\n",
        "#scaler = PowerTransformer()\n",
        "scaler = QuantileTransformer(output_distribution='normal')\n",
        "#scaler = RobustScaler()"
      ]
    },
    {
      "cell_type": "code",
      "execution_count": null,
      "id": "766cde73",
      "metadata": {
        "id": "766cde73"
      },
      "outputs": [],
      "source": [
        "# Scaling\n",
        "X_train[vars_to_scale] = scaler.fit_transform(X_train[vars_to_scale])\n",
        "X_test[vars_to_scale] = scaler.transform(X_test[vars_to_scale])\n",
        "X_final[vars_to_scale] = scaler.transform(X_final[vars_to_scale])\n",
        "X_train.describe()"
      ]
    },
    {
      "cell_type": "code",
      "execution_count": null,
      "id": "4a9396fe",
      "metadata": {
        "id": "4a9396fe"
      },
      "outputs": [],
      "source": [
        "# Inspection after scaling\n",
        "X_test.describe()"
      ]
    },
    {
      "cell_type": "code",
      "execution_count": null,
      "id": "94b91628",
      "metadata": {
        "id": "94b91628"
      },
      "outputs": [],
      "source": [
        "# Inspection after scaling\n",
        "X_final.describe()"
      ]
    },
    {
      "cell_type": "code",
      "execution_count": null,
      "id": "9a2056a6",
      "metadata": {
        "id": "9a2056a6"
      },
      "outputs": [],
      "source": [
        "# Lets check the distribution after scaling\n",
        "plt.figure(figsize=[15,8])\n",
        "plt.subplot(2,2,1)\n",
        "plt.title('Distribution of Amount', fontsize= 10, color = 'Red', fontweight = 100)\n",
        "plt.hist(X_train.amt)\n",
        "plt.subplot(2,2,2)\n",
        "plt.title('Distribution of Age', fontsize= 10, color = 'Red', fontweight = 100)\n",
        "plt.hist(X_train.age)\n",
        "plt.subplot(2,2,3)\n",
        "plt.title('Distribution of Zip', fontsize= 10, color = 'Red', fontweight = 100)\n",
        "plt.hist(X_train.zip)\n",
        "plt.subplot(2,2,4)\n",
        "plt.title('Distribution of trans_date', fontsize= 10, color = 'Red', fontweight = 100)\n",
        "plt.hist(X_train.trans_date)\n",
        "plt.show()"
      ]
    },
    {
      "cell_type": "markdown",
      "id": "b958bafa",
      "metadata": {
        "id": "b958bafa"
      },
      "source": [
        "Quite evident that post scaling Skewness in data has been handles and date is more normally distributed."
      ]
    },
    {
      "cell_type": "markdown",
      "id": "e67d6806",
      "metadata": {
        "id": "e67d6806"
      },
      "source": [
        "### Logistic Regression Model\n",
        "Lets start with a Basic Logistic Regression Model and check its Stats."
      ]
    },
    {
      "cell_type": "code",
      "execution_count": null,
      "id": "3b91ede9",
      "metadata": {
        "id": "3b91ede9"
      },
      "outputs": [],
      "source": [
        "# Let's examine any correlation in variables and remove variables with high correlation\n",
        "plt.figure(figsize = (20,20))\n",
        "sns.heatmap(X_train.corr(), annot=True)\n",
        "plt.show()"
      ]
    },
    {
      "cell_type": "code",
      "execution_count": null,
      "id": "93d4b877",
      "metadata": {
        "id": "93d4b877"
      },
      "outputs": [],
      "source": [
        "# There is high correlation between variables long, merch_long and zip. Similarly merch_lat has high correlation with lat.\n",
        "# This correlation will impact Linear Regression model but will be fine for other models. Hence, creating a different train & test dataframe for LR after dropping 'long', 'merch_long', 'merch_lat'.\n",
        "X_train_lr = X_train.drop(['long', 'merch_long', 'merch_lat', 'unix_time'], axis=1)\n",
        "X_test_lr = X_test.drop(['long', 'merch_long', 'merch_lat', 'unix_time'], axis=1)\n",
        "X_final_lr = X_final.drop(['long', 'merch_long', 'merch_lat', 'unix_time'], axis=1)\n",
        "X_train_lr.head()"
      ]
    },
    {
      "cell_type": "code",
      "execution_count": null,
      "id": "3e2ad163",
      "metadata": {
        "id": "3e2ad163"
      },
      "outputs": [],
      "source": [
        "# Let's examine the correlation in variables again\n",
        "plt.figure(figsize = (15,15))\n",
        "sns.heatmap(X_train_lr.corr(), annot=True)\n",
        "plt.show()"
      ]
    },
    {
      "cell_type": "code",
      "execution_count": null,
      "id": "c29ac495",
      "metadata": {
        "id": "c29ac495"
      },
      "outputs": [],
      "source": [
        "# Inspecting the dataset\n",
        "print(X_train_lr.shape)\n",
        "print(X_test_lr.shape)\n",
        "print(X_final_lr.shape)"
      ]
    },
    {
      "cell_type": "code",
      "execution_count": null,
      "id": "0d9ce95e",
      "metadata": {
        "id": "0d9ce95e"
      },
      "outputs": [],
      "source": [
        "# Function to draw ROC curve\n",
        "from sklearn import metrics\n",
        "from sklearn.metrics import precision_recall_curve, confusion_matrix, accuracy_score\n",
        "def draw_roc( actual, probs ):\n",
        "    fpr, tpr, thresholds = metrics.roc_curve( actual, probs,\n",
        "                                              drop_intermediate = False )\n",
        "    auc_score = metrics.roc_auc_score( actual, probs )\n",
        "    plt.figure(figsize=(5, 5))\n",
        "    plt.plot( fpr, tpr, label='ROC curve (area = %0.2f)' % auc_score )\n",
        "    plt.plot([0, 1], [0, 1], 'k--')\n",
        "    plt.xlim([0.0, 1.0])\n",
        "    plt.ylim([0.0, 1.05])\n",
        "    plt.xlabel('False Positive Rate or [1 - True Negative Rate]')\n",
        "    plt.ylabel('True Positive Rate')\n",
        "    plt.title('Receiver operating characteristic example')\n",
        "    plt.legend(loc=\"lower right\")\n",
        "    plt.show()\n",
        "\n",
        "    return None"
      ]
    },
    {
      "cell_type": "code",
      "execution_count": null,
      "id": "08e11d70",
      "metadata": {
        "id": "08e11d70"
      },
      "outputs": [],
      "source": [
        "# Function to return various standard metrices for a model\n",
        "def model_metrics(a, p):\n",
        "  confusion = confusion_matrix(a, p)\n",
        "  TP = confusion[1,1] # true positive\n",
        "  TN = confusion[0,0] # true negatives\n",
        "  FP = confusion[0,1] # false positives\n",
        "  FN = confusion[1,0] # false negatives\n",
        "  print ('Accuracy    : ', metrics.accuracy_score(a, p ))\n",
        "  print ('Sensitivity : ', TP / float(TP+FN))\n",
        "  print ('Specificity : ', TN / float(TN+FP))\n",
        "  print ('Pricision   : ', TP / float(TP + FP))\n",
        "  print ('Recall      : ', TP / float(TP + FN))\n",
        "  print(confusion)\n",
        "\n",
        "  return None"
      ]
    },
    {
      "cell_type": "code",
      "execution_count": null,
      "id": "ec64166c",
      "metadata": {
        "id": "ec64166c"
      },
      "outputs": [],
      "source": [
        "# Function to calculate the train-test stats including cost of a model as cost is one of the factors to pick the final model\n",
        "# Monthly cost of the model. Pass the classifier name here. Also pass 0 & 1\n",
        "# 0 will print the model metrices with 1 will pass all the metrices to the calling routine\n",
        "\n",
        "def cost_train_test(classifier, p):\n",
        "  y_train_pred = classifier.predict(X_train)\n",
        "  y_test_pred = classifier.predict(X_test)\n",
        "  y_final_pred = classifier.predict(X_final)\n",
        "  roc1 = metrics.roc_auc_score( y_train, y_train_pred)\n",
        "  roc2 = metrics.roc_auc_score( y_test, y_test_pred)\n",
        "  roc3 = metrics.roc_auc_score( y_final, y_final_pred)\n",
        "  cm1 = confusion_matrix(y_train, y_train_pred)     # cm1 is confusion matrix of model on imbalanced train dataset\n",
        "  cm2 = confusion_matrix(y_test, y_test_pred)       # cm2 is confusion matrix of model on test dataset\n",
        "  cm3 = 0\n",
        "  cm = cm1 + cm2 + cm3\n",
        "  TP = cm[1,1] # true positive\n",
        "  TN = cm[0,0] # true negatives\n",
        "  FP = cm[0,1] # false positives\n",
        "  FN = cm[1,0] # false negatives\n",
        "  tfpm = round((TP + FP)/ 24, 0)\n",
        "  c1 = 1.5 * tfpm\n",
        "  c2 = round (530.66 * round(FN/24,0), 2)\n",
        "  c3 = round (c1 + c2, 2)\n",
        "  if p == 0:\n",
        "    print(cm)\n",
        "    print ('Average number of transactions per month detected as fraudulent by the model: ', tfpm)\n",
        "    print ('Total cost of providing customer support per month for fraudulent transactions detected by the model: ', c1)\n",
        "    print ('Average number of transactions per month that are fraudulent but not detected by the model: ', round(FN/24,0))\n",
        "    print ('Cost incurred due to fraudulent transactions left undetected by the model: ', c2)\n",
        "    print ('Cost incurred per month after the model is built and deployed: ', c3)\n",
        "    return None\n",
        "\n",
        "  else:\n",
        "    print(cm)\n",
        "    acc = (TP + TN)/ float(TP + TN + FP + FN)\n",
        "    sen = TP / float(TP+FN)\n",
        "    spe = TN / float(TN+FP)\n",
        "    pre =  TP / float(TP + FP)\n",
        "    rec =  TP / float(TP + FN)\n",
        "    return (FP, FN, TP, c3, acc, sen, spe, pre, rec, roc1, roc2, roc3)"
      ]
    },
    {
      "cell_type": "code",
      "execution_count": null,
      "id": "6f997e6b",
      "metadata": {
        "id": "6f997e6b"
      },
      "outputs": [],
      "source": [
        "# Function to calculate the overall stats including cost of a model as cost is one of the factors to pick the final model\n",
        "# Monthly cost of the model. Pass the classifier name here. Also pass 0 & 1\n",
        "# 0 will print the model metrices with 1 will pass all the metrices to the calling routine\n",
        "\n",
        "def cost(classifier, p):\n",
        "  y_train_pred = classifier.predict(X_train)\n",
        "  y_test_pred = classifier.predict(X_test)\n",
        "  y_final_pred = classifier.predict(X_final)\n",
        "  roc1 = metrics.roc_auc_score( y_train, y_train_pred)\n",
        "  roc2 = metrics.roc_auc_score( y_test, y_test_pred)\n",
        "  roc3 = metrics.roc_auc_score( y_final, y_final_pred)\n",
        "  cm1 = confusion_matrix(y_train, y_train_pred)     # cm1 is confusion matrix of model on imbalanced train dataset\n",
        "  cm2 = confusion_matrix(y_test, y_test_pred)       # cm2 is confusion matrix of model on test dataset\n",
        "  cm3 = confusion_matrix(y_final, y_final_pred)     # cm3 is confusion matrix of model on final dataset\n",
        "  cm = cm1 + cm2 + cm3\n",
        "  TP = cm[1,1] # true positive\n",
        "  TN = cm[0,0] # true negatives\n",
        "  FP = cm[0,1] # false positives\n",
        "  FN = cm[1,0] # false negatives\n",
        "  tfpm = round((TP + FP)/ 24, 0)\n",
        "  c1 = 1.5 * tfpm\n",
        "  c2 = round (530.66 * round(FN/24,0), 2)\n",
        "  c3 = round (c1 + c2, 2)\n",
        "  if p == 0:\n",
        "    print(cm)\n",
        "    print ('Average number of transactions per month detected as fraudulent by the model: ', tfpm)\n",
        "    print ('Total cost of providing customer support per month for fraudulent transactions detected by the model: ', c1)\n",
        "    print ('Average number of transactions per month that are fraudulent but not detected by the model: ', round(FN/24,0))\n",
        "    print ('Cost incurred due to fraudulent transactions left undetected by the model: ', c2)\n",
        "    print ('Cost incurred per month after the model is built and deployed: ', c3)\n",
        "    return None\n",
        "\n",
        "  else:\n",
        "    print(cm)\n",
        "    acc = (TP + TN)/ float(TP + TN + FP + FN)\n",
        "    sen = TP / float(TP+FN)\n",
        "    spe = TN / float(TN+FP)\n",
        "    pre =  TP / float(TP + FP)\n",
        "    rec =  TP / float(TP + FN)\n",
        "    return (FP, FN, TP, c3, acc, sen, spe, pre, rec, roc1, roc2, roc3)"
      ]
    },
    {
      "cell_type": "code",
      "execution_count": null,
      "id": "209196ba",
      "metadata": {
        "id": "209196ba"
      },
      "outputs": [],
      "source": [
        "# Logistic regression model\n",
        "import statsmodels.api as sm\n",
        "X_train_sm = sm.add_constant(X_train_lr)\n",
        "lr_model = sm.GLM(y_train,X_train_sm, family = sm.families.Binomial())\n",
        "lr = lr_model.fit()"
      ]
    },
    {
      "cell_type": "code",
      "execution_count": null,
      "id": "a4242713",
      "metadata": {
        "id": "a4242713"
      },
      "outputs": [],
      "source": [
        "# Threshold of 0.5 is arbitrarily taken. Since, this is just a base model, we will evaluate threshold at a later stage.\n",
        "y_train_pred = lr.predict(X_train_sm)\n",
        "y_train_pred = y_train_pred.map(lambda x: 1 if x > 0.5 else 0)"
      ]
    },
    {
      "cell_type": "code",
      "execution_count": null,
      "id": "c3d37e0e",
      "metadata": {
        "id": "c3d37e0e"
      },
      "outputs": [],
      "source": [
        "draw_roc(y_train, y_train_pred)\n",
        "print ('AUC for the LR Model', metrics.roc_auc_score( y_train, y_train_pred))\n",
        "model_metrics(y_train, y_train_pred)"
      ]
    },
    {
      "cell_type": "markdown",
      "id": "51acb615",
      "metadata": {
        "id": "51acb615"
      },
      "source": [
        "- This model has a very high accuracy of 99% but is still not able to detedct any of the Fraud (True Positive). Reason being the data is highly imbalanced.\n",
        "- Lets handle data imbalance before moving. We will use the following techinques:-\n",
        " - Random Under Sampling\n",
        " - Random Over Sampling\n",
        " - SMOTE\n",
        " - ADASYN"
      ]
    },
    {
      "cell_type": "code",
      "execution_count": null,
      "id": "14952507",
      "metadata": {
        "id": "14952507"
      },
      "outputs": [],
      "source": [
        "# Address imbalance using under sampling\n",
        "from imblearn import under_sampling\n",
        "us = under_sampling.RandomUnderSampler(random_state=100)\n",
        "X_train_us, y_train_us = us.fit_resample(X_train_lr, y_train)\n",
        "print (X_train_us.shape)\n",
        "print (y_train_us.shape)\n",
        "print (y_train_us.value_counts())"
      ]
    },
    {
      "cell_type": "code",
      "execution_count": null,
      "id": "57c9f252",
      "metadata": {
        "id": "57c9f252"
      },
      "outputs": [],
      "source": [
        "# Logistic Regression Model\n",
        "X_train_us = sm.add_constant(X_train_us)\n",
        "lr_model = sm.GLM(y_train_us ,X_train_us, family = sm.families.Binomial())\n",
        "lr_us = lr_model.fit()"
      ]
    },
    {
      "cell_type": "code",
      "execution_count": null,
      "id": "1c58e2a0",
      "metadata": {
        "id": "1c58e2a0"
      },
      "outputs": [],
      "source": [
        "# Basic prediction with threshold as 0.5\n",
        "y_train_pred = lr_us.predict(X_train_us)\n",
        "y_train_pred = y_train_pred.map(lambda x: 1 if x > 0.5 else 0)\n",
        "draw_roc(y_train_us, y_train_pred)\n",
        "print ('AUC for the LR Model', metrics.roc_auc_score( y_train_us, y_train_pred))\n",
        "model_metrics(y_train_us, y_train_pred)"
      ]
    },
    {
      "cell_type": "code",
      "execution_count": null,
      "id": "5dc20def",
      "metadata": {
        "id": "5dc20def"
      },
      "outputs": [],
      "source": [
        "# Address imbalance using over sampling\n",
        "from imblearn import over_sampling\n",
        "ro = over_sampling.RandomOverSampler(random_state=100)\n",
        "X_train_ro, y_train_ro = ro.fit_resample(X_train_lr, y_train)\n",
        "print (X_train_ro.shape)\n",
        "print (y_train_ro.shape)\n",
        "print (y_train_ro.value_counts())"
      ]
    },
    {
      "cell_type": "code",
      "execution_count": null,
      "id": "409dd584",
      "metadata": {
        "id": "409dd584"
      },
      "outputs": [],
      "source": [
        "# Logistic Regression Model\n",
        "X_train_ro = sm.add_constant(X_train_ro)\n",
        "lr_model = sm.GLM(y_train_ro ,X_train_ro, family = sm.families.Binomial())\n",
        "lr_ro = lr_model.fit()"
      ]
    },
    {
      "cell_type": "code",
      "execution_count": null,
      "id": "da3d885d",
      "metadata": {
        "id": "da3d885d"
      },
      "outputs": [],
      "source": [
        "# Basic prediction with threshold as 0.5\n",
        "y_train_pred = lr_ro.predict(X_train_ro)\n",
        "y_train_pred = y_train_pred.map(lambda x: 1 if x > 0.5 else 0)\n",
        "draw_roc(y_train_ro, y_train_pred)\n",
        "print ('AUC for the LR Model', metrics.roc_auc_score( y_train_ro, y_train_pred))\n",
        "model_metrics(y_train_ro, y_train_pred)"
      ]
    },
    {
      "cell_type": "code",
      "execution_count": null,
      "id": "deecbf25",
      "metadata": {
        "id": "deecbf25"
      },
      "outputs": [],
      "source": [
        "# Address imbalance using ADASYN\n",
        "ada = over_sampling.ADASYN(random_state=100)\n",
        "X_train_ada, y_train_ada = ada.fit_resample(X_train_lr, y_train)\n",
        "print (X_train_ada.shape)\n",
        "print (y_train_ada.shape)\n",
        "print (y_train_ada.value_counts())"
      ]
    },
    {
      "cell_type": "code",
      "execution_count": null,
      "id": "ad1d0b66",
      "metadata": {
        "id": "ad1d0b66"
      },
      "outputs": [],
      "source": [
        "# Logistic Regression Model\n",
        "X_train_ada = sm.add_constant(X_train_ada)\n",
        "lr_model = sm.GLM(y_train_ada ,X_train_ada, family = sm.families.Binomial())\n",
        "lr_ada = lr_model.fit()"
      ]
    },
    {
      "cell_type": "code",
      "execution_count": null,
      "id": "5c3e866f",
      "metadata": {
        "id": "5c3e866f"
      },
      "outputs": [],
      "source": [
        "# Basic prediction with threshold as 0.5\n",
        "y_train_pred = lr_ada.predict(X_train_ada)\n",
        "y_train_pred = y_train_pred.map(lambda x: 1 if x > 0.5 else 0)\n",
        "draw_roc(y_train_ada, y_train_pred)\n",
        "print ('AUC for the LR Model', metrics.roc_auc_score( y_train_ada, y_train_pred))\n",
        "model_metrics(y_train_ada, y_train_pred)"
      ]
    },
    {
      "cell_type": "code",
      "execution_count": null,
      "id": "8c13981c",
      "metadata": {
        "id": "8c13981c"
      },
      "outputs": [],
      "source": [
        "# Address imbalance using SMOTE\n",
        "from imblearn import over_sampling\n",
        "smte = over_sampling.SMOTE(random_state=100)\n",
        "X_train_smte, y_train_smte = smte.fit_resample(X_train_lr, y_train)\n",
        "print (X_train_smte.shape)\n",
        "print (y_train_smte.shape)\n",
        "print (y_train_smte.value_counts())"
      ]
    },
    {
      "cell_type": "code",
      "execution_count": null,
      "id": "4e9ada41",
      "metadata": {
        "id": "4e9ada41"
      },
      "outputs": [],
      "source": [
        "# Logistic Regression Model\n",
        "X_train_smte = sm.add_constant(X_train_smte)\n",
        "lr_model = sm.GLM(y_train_smte ,X_train_smte, family = sm.families.Binomial())\n",
        "lr_smte = lr_model.fit()\n",
        "X_train_smte.shape"
      ]
    },
    {
      "cell_type": "code",
      "execution_count": null,
      "id": "fe4ee466",
      "metadata": {
        "id": "fe4ee466"
      },
      "outputs": [],
      "source": [
        "# Basic prediction with threshold as 0.5\n",
        "y_train_pred = lr_smte.predict(X_train_smte)\n",
        "y_train_pred = y_train_pred.map(lambda x: 1 if x > 0.5 else 0)\n",
        "draw_roc(y_train_smte, y_train_pred)\n",
        "print ('AUC for the LR Model', metrics.roc_auc_score( y_train_smte, y_train_pred))\n",
        "model_metrics(y_train_smte, y_train_pred)"
      ]
    },
    {
      "cell_type": "markdown",
      "id": "24793a4c",
      "metadata": {
        "id": "24793a4c"
      },
      "source": [
        "Based on the train mertices the model created on the SMOTE and Over Sampled data is slightly better than the rest. Lets evaluate the model created on SMOTE."
      ]
    },
    {
      "cell_type": "code",
      "execution_count": null,
      "id": "7cd35e4f",
      "metadata": {
        "id": "7cd35e4f"
      },
      "outputs": [],
      "source": [
        "# Summary of LR model created on data cured for imbalance using SMOTE\n",
        "lr_smte.summary()"
      ]
    },
    {
      "cell_type": "code",
      "execution_count": null,
      "id": "95648e9f",
      "metadata": {
        "id": "95648e9f"
      },
      "outputs": [],
      "source": [
        "# Check the VIF of the model\n",
        "from statsmodels.stats.outliers_influence import variance_inflation_factor\n",
        "vif = pd.DataFrame()\n",
        "vif['Features'] = X_train_smte.columns\n",
        "vif['VIF'] = [variance_inflation_factor(X_train_smte.values, i) for i in range(X_train_smte.shape[1])]\n",
        "vif['VIF'] = round(vif['VIF'], 2)\n",
        "vif = vif.sort_values(by = \"VIF\", ascending = False)\n",
        "vif.head()"
      ]
    },
    {
      "cell_type": "markdown",
      "id": "d8200baa",
      "metadata": {
        "id": "d8200baa"
      },
      "source": [
        "VIF of all the variables is under 5 and hence no major correlation among variables. Also, the P value of all variables is low. Hence, we can consider this as a final model."
      ]
    },
    {
      "cell_type": "code",
      "execution_count": null,
      "id": "b384bbba",
      "metadata": {
        "id": "b384bbba"
      },
      "outputs": [],
      "source": [
        "# Getting the predicted values on the train set\n",
        "y_train_pred = lr_smte.predict(X_train_smte)"
      ]
    },
    {
      "cell_type": "code",
      "execution_count": null,
      "id": "627a1ec2",
      "metadata": {
        "id": "627a1ec2"
      },
      "outputs": [],
      "source": [
        "# Lets have a dataset with only the index, is_fraud and predicted is_fraud fields\n",
        "lr_fraud_final = pd.DataFrame({'Fraud Index': y_train_smte.index, 'is_fraud':y_train_smte.values, 'is_fraud_Prob':y_train_pred})\n",
        "lr_fraud_final.reset_index(drop=True, inplace=True)\n",
        "lr_fraud_final.head()"
      ]
    },
    {
      "cell_type": "code",
      "execution_count": null,
      "id": "41bae619",
      "metadata": {
        "id": "41bae619"
      },
      "outputs": [],
      "source": [
        "# To find the optimum cutoff, let's create columns with different probability cutoffs\n",
        "numbers = [float(x)/10 for x in range(10)]\n",
        "for i in numbers:\n",
        "    lr_fraud_final[i]= lr_fraud_final.is_fraud_Prob.map(lambda x: 1 if x > i else 0)\n",
        "lr_fraud_final.head()"
      ]
    },
    {
      "cell_type": "code",
      "execution_count": null,
      "id": "0149557f",
      "metadata": {
        "id": "0149557f"
      },
      "outputs": [],
      "source": [
        "# Printing confusion matrix at various cutoff\n",
        "cutoff_df = pd.DataFrame( columns = ['prob','accuracy','sens','spec', 'prec', 'recall'])\n",
        "num = [0.0,0.1,0.2,0.3,0.4,0.5,0.6,0.7,0.8,0.9]\n",
        "for i in num:\n",
        "    cm = metrics.confusion_matrix(lr_fraud_final.is_fraud, lr_fraud_final[i] )\n",
        "    TN = cm[0,0]\n",
        "    TP = cm[1,1]\n",
        "    FP = cm[0,1]\n",
        "    FN = cm[1,0]\n",
        "    accuracy = (TN + TP)/ (TN + TP + FP + FN)\n",
        "    sens = TP/ (FN + TP)\n",
        "    spec = TN/ (TN + FP)\n",
        "    prec = TP/ (TP + FP)\n",
        "    recall = TP/ (TP + FN)\n",
        "    cutoff_df.loc[i] =[ i ,accuracy,sens,spec, prec, recall]\n",
        "print(cutoff_df)"
      ]
    },
    {
      "cell_type": "code",
      "execution_count": null,
      "id": "2c70de8b",
      "metadata": {
        "id": "2c70de8b"
      },
      "outputs": [],
      "source": [
        "# Let's plot accuracy precision and recall for various probabilities.\n",
        "# Recall ensures we have good TP while precision keeps a check on FN\n",
        "cutoff_df.plot.line(x='prob', y=['accuracy','prec','recall'])\n",
        "plt.show()"
      ]
    },
    {
      "cell_type": "code",
      "execution_count": null,
      "id": "61ab7734",
      "metadata": {
        "id": "61ab7734"
      },
      "outputs": [],
      "source": [
        "# Turn-out that 0.5 is optimum cut-off. Let's pull the stats for train & test datasets\n",
        "y_train_pred = lr_smte.predict(X_train_smte)\n",
        "y_train_pred = y_train_pred.map(lambda x: 1 if x > 0.5 else 0)\n",
        "X_test_lr = sm.add_constant(X_test_lr)\n",
        "y_test_pred = lr_smte.predict(X_test_lr)\n",
        "y_test_pred = y_test_pred.map(lambda x: 1 if x > 0.5 else 0)"
      ]
    },
    {
      "cell_type": "code",
      "execution_count": null,
      "id": "09dc91ed",
      "metadata": {
        "id": "09dc91ed"
      },
      "outputs": [],
      "source": [
        "# Model Metrices on training dataset\n",
        "draw_roc(y_train_smte, y_train_pred)\n",
        "print ('AUC for the LR Model', metrics.roc_auc_score( y_train_smte, y_train_pred))\n",
        "model_metrics(y_train_smte, y_train_pred)"
      ]
    },
    {
      "cell_type": "code",
      "execution_count": null,
      "id": "7a83a323",
      "metadata": {
        "id": "7a83a323"
      },
      "outputs": [],
      "source": [
        "# Model Metrices on test dataset\n",
        "draw_roc(y_test, y_test_pred)\n",
        "print ('AUC for the LR Model', metrics.roc_auc_score(y_test, y_test_pred))\n",
        "model_metrics(y_test, y_test_pred)"
      ]
    },
    {
      "cell_type": "markdown",
      "id": "97536543",
      "metadata": {
        "id": "97536543"
      },
      "source": [
        "So the basic Regression model has a moderate AUC, Accuracy & Recall but a very low Precision."
      ]
    },
    {
      "cell_type": "markdown",
      "id": "d75b5723",
      "metadata": {
        "id": "d75b5723"
      },
      "source": [
        "### Descision Tree\n",
        "Lets create a decision tree with all default parameters with Tree Depth set to 10 to control the size of tree for SMOTE and ADASYN train datasets. But before that, lets create dataset for various imbalances techinques that we will be using going forward.\n",
        "Since Decision Trees, XGBOOST & Random Forest are not impacted by correlations among the variables. We will restore the dataset to all the final variables that were scaled.\n",
        "It was noticed that the models build on the dataset with reduced columns were less effective overall."
      ]
    },
    {
      "cell_type": "code",
      "execution_count": null,
      "id": "5197afa6",
      "metadata": {
        "id": "5197afa6"
      },
      "outputs": [],
      "source": [
        "X_train.shape"
      ]
    },
    {
      "cell_type": "code",
      "execution_count": null,
      "id": "3d70d32c",
      "metadata": {
        "id": "3d70d32c"
      },
      "outputs": [],
      "source": [
        "# Dataset for Under Sampling\n",
        "us = under_sampling.RandomUnderSampler(random_state=100)\n",
        "X_train_us, y_train_us = us.fit_resample(X_train, y_train)\n",
        "print (X_train_us.shape)\n",
        "print (y_train_us.shape)\n",
        "print (y_train_us.value_counts())"
      ]
    },
    {
      "cell_type": "code",
      "execution_count": null,
      "id": "8972d8f4",
      "metadata": {
        "id": "8972d8f4"
      },
      "outputs": [],
      "source": [
        "# Dataset for Over Sampling\n",
        "ro = over_sampling.RandomOverSampler(random_state=100)\n",
        "X_train_ro, y_train_ro = ro.fit_resample(X_train, y_train)\n",
        "print (X_train_ro.shape)\n",
        "print (y_train_ro.shape)\n",
        "print (y_train_ro.value_counts())"
      ]
    },
    {
      "cell_type": "code",
      "execution_count": null,
      "id": "530a2cfc",
      "metadata": {
        "id": "530a2cfc"
      },
      "outputs": [],
      "source": [
        "# Dataset for SMOTE\n",
        "smte = over_sampling.SMOTE(random_state=100)\n",
        "X_train_smte, y_train_smte = smte.fit_resample(X_train, y_train)\n",
        "print (X_train_smte.shape)\n",
        "print (y_train_smte.shape)\n",
        "print (y_train_smte.value_counts())"
      ]
    },
    {
      "cell_type": "code",
      "execution_count": null,
      "id": "e543589c",
      "metadata": {
        "id": "e543589c"
      },
      "outputs": [],
      "source": [
        "# Dataset for ADASYN\n",
        "ada = over_sampling.ADASYN(random_state=100)\n",
        "X_train_ada, y_train_ada = ada.fit_resample(X_train, y_train)\n",
        "print (X_train_ada.shape)\n",
        "print (y_train_ada.shape)\n",
        "print (y_train_ada.value_counts())"
      ]
    },
    {
      "cell_type": "code",
      "execution_count": null,
      "id": "af89f061",
      "metadata": {
        "id": "af89f061"
      },
      "outputs": [],
      "source": [
        "# Function to create Decision Tree image\n",
        "from IPython.display import Image\n",
        "from io import StringIO\n",
        "from sklearn.tree import export_graphviz\n",
        "#import pydotplus\n",
        "\n",
        "# function to print the decision graph\n",
        "#def get_dt_graph(dt_classifier):\n",
        "#    dot_data = StringIO()\n",
        "#    export_graphviz(dt_classifier, out_file=dot_data, filled=True,rounded=True,\n",
        "#                    feature_names=X.columns,\n",
        "#                    class_names=['Fraud', \"Not Fraud\"])\n",
        "#    graph = pydotplus.graph_from_dot_data(dot_data.getvalue())\n",
        "#    return graph"
      ]
    },
    {
      "cell_type": "code",
      "execution_count": null,
      "id": "5a046dae",
      "metadata": {
        "id": "5a046dae"
      },
      "outputs": [],
      "source": [
        "# Decision Tree Model with default parameters and under sampled train data\n",
        "from sklearn.tree import DecisionTreeClassifier\n",
        "dt_us = DecisionTreeClassifier(max_depth=10)\n",
        "dt_us.fit(X_train_us, y_train_us)\n",
        "y_train_pred = dt_us.predict(X_train_us)\n",
        "y_test_pred = dt_us.predict(X_test)\n",
        "print ('AUC         : ', metrics.roc_auc_score( y_train_us, y_train_pred))\n",
        "model_metrics(y_train_us, y_train_pred)"
      ]
    },
    {
      "cell_type": "code",
      "execution_count": null,
      "id": "51985e83",
      "metadata": {
        "id": "51985e83"
      },
      "outputs": [],
      "source": [
        "# Test the performance of the model on the real train (imbalanced) dataset\n",
        "y_train_pred = dt_us.predict(X_train)\n",
        "print ('AUC         : ', metrics.roc_auc_score( y_train, y_train_pred))\n",
        "model_metrics(y_train, y_train_pred)"
      ]
    },
    {
      "cell_type": "code",
      "execution_count": null,
      "id": "a94569f4",
      "metadata": {
        "id": "a94569f4"
      },
      "outputs": [],
      "source": [
        "# Test the performance of the model on test dataset\n",
        "y_test_pred = dt_us.predict(X_test)\n",
        "print ('AUC         : ', metrics.roc_auc_score( y_test, y_test_pred))\n",
        "model_metrics(y_test, y_test_pred)"
      ]
    },
    {
      "cell_type": "code",
      "execution_count": null,
      "id": "b74fe70a",
      "metadata": {
        "id": "b74fe70a"
      },
      "outputs": [],
      "source": [
        "# Decision Graph for the above model\n",
        "#gph = get_dt_graph(dt_us)\n",
        "#Image(gph.create_png())"
      ]
    },
    {
      "cell_type": "code",
      "execution_count": null,
      "id": "b21ed9e8",
      "metadata": {
        "id": "b21ed9e8"
      },
      "outputs": [],
      "source": [
        "# Decision Tree Model with default parameters and over sampled train data\n",
        "dt_ro = DecisionTreeClassifier(max_depth=10)\n",
        "dt_ro.fit(X_train_ro, y_train_ro)\n",
        "y_train_pred = dt_ro.predict(X_train_ro)\n",
        "y_test_pred = dt_ro.predict(X_test)\n",
        "draw_roc(y_train_ro, y_train_pred)\n",
        "print ('AUC         : ', metrics.roc_auc_score( y_train_ro, y_train_pred))\n",
        "model_metrics(y_train_ro, y_train_pred)"
      ]
    },
    {
      "cell_type": "code",
      "execution_count": null,
      "id": "9a244170",
      "metadata": {
        "id": "9a244170"
      },
      "outputs": [],
      "source": [
        "# Test the performance of the model on the real train (imbalanced) dataset\n",
        "y_train_pred = dt_ro.predict(X_train)\n",
        "print ('AUC         : ', metrics.roc_auc_score( y_train, y_train_pred))\n",
        "model_metrics(y_train, y_train_pred)"
      ]
    },
    {
      "cell_type": "code",
      "execution_count": null,
      "id": "271f3de0",
      "metadata": {
        "id": "271f3de0"
      },
      "outputs": [],
      "source": [
        "# Test the performance of the model on test dataset\n",
        "y_test_pred = dt_ro.predict(X_test)\n",
        "print ('AUC         : ', metrics.roc_auc_score( y_test, y_test_pred))\n",
        "model_metrics(y_test, y_test_pred)"
      ]
    },
    {
      "cell_type": "code",
      "execution_count": null,
      "id": "bc1df3df",
      "metadata": {
        "id": "bc1df3df"
      },
      "outputs": [],
      "source": [
        "#gph = get_dt_graph(dt_ro)\n",
        "#Image(gph.create_png())"
      ]
    },
    {
      "cell_type": "code",
      "execution_count": null,
      "id": "c2cc0598",
      "metadata": {
        "id": "c2cc0598"
      },
      "outputs": [],
      "source": [
        "# Decision Tree Model with default parameters and SMOTE train data\n",
        "dt_smte = DecisionTreeClassifier(max_depth=10)\n",
        "dt_smte.fit(X_train_smte, y_train_smte)\n",
        "y_train_pred = dt_smte.predict(X_train_smte)\n",
        "y_test_pred = dt_smte.predict(X_test)\n",
        "draw_roc(y_train_smte, y_train_pred)\n",
        "print ('AUC         : ', metrics.roc_auc_score( y_train_smte, y_train_pred))\n",
        "model_metrics(y_train_smte, y_train_pred)"
      ]
    },
    {
      "cell_type": "code",
      "execution_count": null,
      "id": "4f173f80",
      "metadata": {
        "id": "4f173f80"
      },
      "outputs": [],
      "source": [
        "# Test the performance of the model on the real train (imbalanced) dataset\n",
        "y_train_pred = dt_smte.predict(X_train)\n",
        "print ('AUC         : ', metrics.roc_auc_score( y_train, y_train_pred))\n",
        "model_metrics(y_train, y_train_pred)"
      ]
    },
    {
      "cell_type": "code",
      "execution_count": null,
      "id": "b441bb6c",
      "metadata": {
        "id": "b441bb6c"
      },
      "outputs": [],
      "source": [
        "# Test the performance of the model on test dataset\n",
        "y_test_pred = dt_smte.predict(X_test)\n",
        "print ('AUC         : ', metrics.roc_auc_score( y_test, y_test_pred))\n",
        "model_metrics(y_test, y_test_pred)"
      ]
    },
    {
      "cell_type": "code",
      "execution_count": null,
      "id": "35bb0850",
      "metadata": {
        "id": "35bb0850"
      },
      "outputs": [],
      "source": [
        "# Decision Tree Model with default parameters and ADASYN train data\n",
        "dt_ada = DecisionTreeClassifier(max_depth=10)\n",
        "dt_ada.fit(X_train_ada, y_train_ada)\n",
        "y_train_pred = dt_ada.predict(X_train_ada)\n",
        "y_test_pred = dt_ada.predict(X_test)\n",
        "draw_roc(y_train_ada, y_train_pred)\n",
        "print ('AUC         : ', metrics.roc_auc_score( y_train_ada, y_train_pred))\n",
        "model_metrics(y_train_ada, y_train_pred)"
      ]
    },
    {
      "cell_type": "code",
      "execution_count": null,
      "id": "62c950c3",
      "metadata": {
        "id": "62c950c3"
      },
      "outputs": [],
      "source": [
        "# Test the performance of the model on the real train (imbalanced) dataset\n",
        "y_train_pred = dt_ada.predict(X_train)\n",
        "print ('AUC         : ', metrics.roc_auc_score( y_train, y_train_pred))\n",
        "model_metrics(y_train, y_train_pred)"
      ]
    },
    {
      "cell_type": "code",
      "execution_count": null,
      "id": "b40bdf54",
      "metadata": {
        "id": "b40bdf54"
      },
      "outputs": [],
      "source": [
        "# Test the performance of the model on test dataset\n",
        "y_test_pred = dt_ada.predict(X_test)\n",
        "print ('AUC         : ', metrics.roc_auc_score( y_test, y_test_pred))\n",
        "model_metrics(y_test, y_test_pred)"
      ]
    },
    {
      "cell_type": "markdown",
      "id": "61254060",
      "metadata": {
        "id": "61254060"
      },
      "source": [
        "Based on the AUC, cost and other metrices, Decision Tree created on undersampled data seems to be more accurate that rest of the models. Lets create a dataset to store all the important features of a model."
      ]
    },
    {
      "cell_type": "code",
      "execution_count": null,
      "id": "fc7e4030",
      "metadata": {
        "id": "fc7e4030"
      },
      "outputs": [],
      "source": [
        "# Model Selector Dataset to store various attributes of a model (based on train - test result)\n",
        "model_selector_tt = pd.DataFrame( columns = ['model', 'FP','FN','TP','Cost', 'Accuracy', 'Sensitivity', 'Specificity', 'Precision', 'Recall',\n",
        "                                          'ROC - Train', 'ROC - Test', 'ROC - Final'])\n",
        "c = cost_train_test(dt_us, 1)\n",
        "model_selector_tt.loc[0] = ['DT - US - 1', c[0], c[1], c[2], c[3], c[4], c[5], c[6], c[7], c[8], c[9], c[10], c[11]]\n",
        "c = cost_train_test(dt_ro, 1)\n",
        "model_selector_tt.loc[1] = ['DT - RO - 1', c[0], c[1], c[2], c[3], c[4], c[5], c[6], c[7], c[8], c[9], c[10], c[11]]\n",
        "c = cost_train_test(dt_smte, 1)\n",
        "model_selector_tt.loc[2] = ['DT - SMOTE - 1', c[0], c[1], c[2], c[3], c[4], c[5], c[6], c[7], c[8], c[9], c[10], c[11]]\n",
        "c = cost_train_test(dt_ada, 1)\n",
        "model_selector_tt.loc[3] = ['DT - ADA - 1', c[0], c[1], c[2], c[3], c[4], c[5], c[6], c[7], c[8], c[9], c[10], c[11]]\n",
        "model_selector_tt"
      ]
    },
    {
      "cell_type": "code",
      "execution_count": null,
      "id": "b6f43a82",
      "metadata": {
        "id": "b6f43a82"
      },
      "outputs": [],
      "source": [
        "# Model Selector Dataset to store various attributes of a model (based on train - test - final result)\n",
        "model_selector = pd.DataFrame( columns = ['model', 'FP','FN','TP','Cost', 'Accuracy', 'Sensitivity', 'Specificity', 'Precision', 'Recall',\n",
        "                                          'ROC - Train', 'ROC - Test', 'ROC - Final'])\n",
        "c = cost(dt_us, 1)\n",
        "model_selector.loc[0] = ['DT - US - 1', c[0], c[1], c[2], c[3], c[4], c[5], c[6], c[7], c[8], c[9], c[10], c[11]]\n",
        "c = cost(dt_ro, 1)\n",
        "model_selector.loc[1] = ['DT - RO - 1', c[0], c[1], c[2], c[3], c[4], c[5], c[6], c[7], c[8], c[9], c[10], c[11]]\n",
        "c = cost(dt_smte, 1)\n",
        "model_selector.loc[2] = ['DT - SMOTE - 1', c[0], c[1], c[2], c[3], c[4], c[5], c[6], c[7], c[8], c[9], c[10], c[11]]\n",
        "c = cost(dt_ada, 1)\n",
        "model_selector.loc[3] = ['DT - ADA - 1', c[0], c[1], c[2], c[3], c[4], c[5], c[6], c[7], c[8], c[9], c[10], c[11]]\n",
        "model_selector"
      ]
    },
    {
      "cell_type": "markdown",
      "id": "7db71537",
      "metadata": {
        "id": "7db71537"
      },
      "source": [
        "- Let's use the GridSearch CV method to test various parameters on the best model till now.\n",
        "- Also let's define a new metric/ score for model evaluation. This is based on cost of the model. Lower the cost, better its rank."
      ]
    },
    {
      "cell_type": "code",
      "execution_count": null,
      "id": "9faf5282",
      "metadata": {
        "id": "9faf5282"
      },
      "outputs": [],
      "source": [
        "# Lets define a new custom score to be used for various Grid Search CV models. Instead of using Accuracy or Precision,\n",
        "# we will directly use the cost of model. Lower the cose, better the rating.\n",
        "# This way we will reduce score for False Negatives as well as False Posotoves.\n",
        "from sklearn.metrics import make_scorer\n",
        "\n",
        "# Function to calculate Monthly cost of the model\n",
        "def my_score(a, p):\n",
        "  cm = confusion_matrix(a, p)\n",
        "  TP = cm[1,1] # true positive\n",
        "  TN = cm[0,0] # true negatives\n",
        "  FP = cm[0,1] # false positives\n",
        "  FN = cm[1,0] # false negatives\n",
        "  tfpm = round((TP + FP)/ 24, 0)\n",
        "  c1 = 1.5 * tfpm\n",
        "  c2 = round (530.66 * round(FN/24,0), 2)\n",
        "  c3 = c1 + c2\n",
        "\n",
        "  return c3"
      ]
    },
    {
      "cell_type": "code",
      "execution_count": null,
      "id": "6afc5203",
      "metadata": {
        "id": "6afc5203"
      },
      "outputs": [],
      "source": [
        "from sklearn.model_selection import GridSearchCV"
      ]
    },
    {
      "cell_type": "code",
      "execution_count": null,
      "id": "ed525ab4",
      "metadata": {
        "id": "ed525ab4"
      },
      "outputs": [],
      "source": [
        "# Parameter Grid to be tested\n",
        "params = {\n",
        "    'max_depth': [6, 8, 10],\n",
        "    'max_features': [8, 12, 14, 17],\n",
        "    'class_weight': ['balanced'],\n",
        "    'min_samples_leaf': [50, 100, 500, 750],\n",
        "    'random_state':[0, 21, 42, 63, 100]\n",
        "}\n",
        "dt = DecisionTreeClassifier()"
      ]
    },
    {
      "cell_type": "code",
      "execution_count": null,
      "id": "326ab3bf",
      "metadata": {
        "id": "326ab3bf"
      },
      "outputs": [],
      "source": [
        "# Instantiate the grid search model\n",
        "my_scorer = make_scorer(my_score, greater_is_better=False)\n",
        "grid_search_dt_us = GridSearchCV(estimator=dt,\n",
        "                                  param_grid=params,\n",
        "                                  cv=3, n_jobs=-1, verbose=2, scoring = my_scorer)"
      ]
    },
    {
      "cell_type": "code",
      "execution_count": null,
      "id": "664f55fa",
      "metadata": {
        "id": "664f55fa"
      },
      "outputs": [],
      "source": [
        "# Fitting the data as per the grid defined\n",
        "grid_search_dt_us.fit(X_train_us, y_train_us)"
      ]
    },
    {
      "cell_type": "code",
      "execution_count": null,
      "id": "dee2d39f",
      "metadata": {
        "id": "dee2d39f"
      },
      "outputs": [],
      "source": [
        "# Getting the data for all the models hence created\n",
        "score_df = pd.DataFrame(grid_search_dt_us.cv_results_)\n",
        "score_df.sort_values(['rank_test_score'], inplace=True)\n",
        "score_df.head()"
      ]
    },
    {
      "cell_type": "code",
      "execution_count": null,
      "id": "ac739310",
      "metadata": {
        "id": "ac739310"
      },
      "outputs": [],
      "source": [
        "# Getting the best model based on the score\n",
        "dt_best = grid_search_dt_us.best_estimator_\n",
        "dt_best"
      ]
    },
    {
      "cell_type": "code",
      "execution_count": null,
      "id": "ec45676d",
      "metadata": {
        "id": "ec45676d"
      },
      "outputs": [],
      "source": [
        "# Test the performance of best model on train dataset\n",
        "y_train_pred = dt_best.predict(X_train_us)\n",
        "draw_roc(y_train_us, y_train_pred)\n",
        "model_metrics(y_train_us, y_train_pred)"
      ]
    },
    {
      "cell_type": "code",
      "execution_count": null,
      "id": "ffca3518",
      "metadata": {
        "id": "ffca3518"
      },
      "outputs": [],
      "source": [
        "# Test the performance of the model on the real train (imbalanced) dataset\n",
        "y_train_pred = dt_best.predict(X_train)\n",
        "print ('AUC         : ', metrics.roc_auc_score( y_train, y_train_pred))\n",
        "model_metrics(y_train, y_train_pred)"
      ]
    },
    {
      "cell_type": "code",
      "execution_count": null,
      "id": "3944144b",
      "metadata": {
        "id": "3944144b"
      },
      "outputs": [],
      "source": [
        "# Test the performance of the model on test dataset\n",
        "y_test_pred = dt_best.predict(X_test)\n",
        "print ('AUC         : ', metrics.roc_auc_score( y_test, y_test_pred))\n",
        "model_metrics(y_test, y_test_pred)"
      ]
    },
    {
      "cell_type": "code",
      "execution_count": null,
      "id": "a05d5b70",
      "metadata": {
        "id": "a05d5b70"
      },
      "outputs": [],
      "source": [
        "# Model Selector Dataset to store various attributes of a model (based on train - test result)\n",
        "c = cost_train_test(dt_best, 1)\n",
        "model_selector_tt.loc[4] = ['DT - Grid Search US - 1', c[0], c[1], c[2], c[3], c[4], c[5], c[6], c[7], c[8], c[9], c[10], c[11]]\n",
        "model_selector_tt"
      ]
    },
    {
      "cell_type": "code",
      "execution_count": null,
      "id": "f00b25f1",
      "metadata": {
        "id": "f00b25f1"
      },
      "outputs": [],
      "source": [
        "# getting the cost of overall model\n",
        "c = cost(dt_best, 1)\n",
        "# Model Selector Dataset to store various attributes of a model (based on train - test - final result)\n",
        "model_selector.loc[4] = ['DT - Grid Search US - 1', c[0], c[1], c[2], c[3], c[4], c[5], c[6], c[7], c[8], c[9], c[10], c[11]]\n",
        "model_selector"
      ]
    },
    {
      "cell_type": "markdown",
      "id": "89652fa5",
      "metadata": {
        "id": "89652fa5"
      },
      "source": [
        "### XGBOOST"
      ]
    },
    {
      "cell_type": "code",
      "execution_count": null,
      "id": "f8f5dc9f",
      "metadata": {
        "id": "f8f5dc9f"
      },
      "outputs": [],
      "source": [
        "from xgboost import XGBClassifier"
      ]
    },
    {
      "cell_type": "code",
      "execution_count": null,
      "id": "6a87966a",
      "metadata": {
        "id": "6a87966a"
      },
      "outputs": [],
      "source": [
        "# XGBOOST estimator on Undersampled data\n",
        "xgb_us = XGBClassifier(max_depth=10, n_estimators = 10, max_features = 17, random_state=100)\n",
        "xgb_us.fit(X_train_us, y_train_us)"
      ]
    },
    {
      "cell_type": "code",
      "execution_count": null,
      "id": "4a1a107d",
      "metadata": {
        "id": "4a1a107d"
      },
      "outputs": [],
      "source": [
        "# Predection & Stats on Train Dataset\n",
        "y_train_pred = xgb_us.predict(X_train_us)\n",
        "draw_roc(y_train_us, y_train_pred)\n",
        "model_metrics(y_train_us, y_train_pred)"
      ]
    },
    {
      "cell_type": "code",
      "execution_count": null,
      "id": "721a5fa4",
      "metadata": {
        "id": "721a5fa4"
      },
      "outputs": [],
      "source": [
        "# Test the performance of the model on the real train (imbalanced) dataset\n",
        "y_train_pred = xgb_us.predict(X_train)\n",
        "print ('AUC         : ', metrics.roc_auc_score( y_train, y_train_pred))\n",
        "model_metrics(y_train, y_train_pred)"
      ]
    },
    {
      "cell_type": "code",
      "execution_count": null,
      "id": "8e9148c8",
      "metadata": {
        "id": "8e9148c8"
      },
      "outputs": [],
      "source": [
        "# Test the performance of the model on test dataset\n",
        "y_test_pred = xgb_us.predict(X_test)\n",
        "print ('AUC         : ', metrics.roc_auc_score( y_test, y_test_pred))\n",
        "model_metrics(y_test, y_test_pred)"
      ]
    },
    {
      "cell_type": "code",
      "execution_count": null,
      "id": "c65e486d",
      "metadata": {
        "id": "c65e486d"
      },
      "outputs": [],
      "source": [
        "# Model Selector Dataset to store various attributes of a model (based on train - test result)\n",
        "c = cost_train_test(xgb_us, 1)\n",
        "model_selector_tt.loc[5] = ['XGB - US - 1', c[0], c[1], c[2], c[3], c[4], c[5], c[6], c[7], c[8], c[9], c[10], c[11]]\n",
        "model_selector_tt"
      ]
    },
    {
      "cell_type": "code",
      "execution_count": null,
      "id": "88113a7c",
      "metadata": {
        "id": "88113a7c"
      },
      "outputs": [],
      "source": [
        "# Model Selector Dataset to store various attributes of a model (based on train - test - final result)\n",
        "c = cost(xgb_us, 1)\n",
        "model_selector.loc[5] = ['XGB - US - 1', c[0], c[1], c[2], c[3], c[4], c[5], c[6], c[7], c[8], c[9], c[10], c[11]]\n",
        "model_selector"
      ]
    },
    {
      "cell_type": "code",
      "execution_count": null,
      "id": "ef29f5fe",
      "metadata": {
        "id": "ef29f5fe"
      },
      "outputs": [],
      "source": [
        "# XGBOOST estimator on Oversampled data\n",
        "xgb_ro = XGBClassifier(max_depth=10, n_estimators = 10, max_features = 17, random_state=41)\n",
        "xgb_ro.fit(X_train_ro, y_train_ro)"
      ]
    },
    {
      "cell_type": "code",
      "execution_count": null,
      "id": "69e7e8a1",
      "metadata": {
        "id": "69e7e8a1"
      },
      "outputs": [],
      "source": [
        "# Predection & Stats on Train Dataset\n",
        "y_train_pred = xgb_ro.predict(X_train_ro)\n",
        "print ('AUC         : ', metrics.roc_auc_score( y_train_ro, y_train_pred))\n",
        "model_metrics(y_train_ro, y_train_pred)"
      ]
    },
    {
      "cell_type": "code",
      "execution_count": null,
      "id": "2a593bf1",
      "metadata": {
        "id": "2a593bf1"
      },
      "outputs": [],
      "source": [
        "# Test the performance of the model on the real train (imbalanced) dataset\n",
        "y_train_pred = xgb_ro.predict(X_train)\n",
        "print ('AUC         : ', metrics.roc_auc_score( y_train, y_train_pred))\n",
        "model_metrics(y_train, y_train_pred)"
      ]
    },
    {
      "cell_type": "code",
      "execution_count": null,
      "id": "bd098480",
      "metadata": {
        "id": "bd098480"
      },
      "outputs": [],
      "source": [
        "# Test the performance of the model on test dataset\n",
        "y_test_pred = xgb_ro.predict(X_test)\n",
        "print ('AUC         : ', metrics.roc_auc_score( y_test, y_test_pred))\n",
        "model_metrics(y_test, y_test_pred)"
      ]
    },
    {
      "cell_type": "code",
      "execution_count": null,
      "id": "48093799",
      "metadata": {
        "id": "48093799"
      },
      "outputs": [],
      "source": [
        "# Model Selector Dataset to store various attributes of a model (based on train - test result)\n",
        "c = cost_train_test(xgb_ro, 1)\n",
        "model_selector_tt.loc[6] = ['DT - ADA - 1', c[0], c[1], c[2], c[3], c[4], c[5], c[6], c[7], c[8], c[9], c[10], c[11]]\n",
        "model_selector_tt"
      ]
    },
    {
      "cell_type": "code",
      "execution_count": null,
      "id": "cff163c4",
      "metadata": {
        "id": "cff163c4"
      },
      "outputs": [],
      "source": [
        "# Model Selector Dataset to store various attributes of a model (based on train - test - final result)\n",
        "c = cost(xgb_ro, 1)\n",
        "model_selector.loc[6] = ['DT - ADA - 1', c[0], c[1], c[2], c[3], c[4], c[5], c[6], c[7], c[8], c[9], c[10], c[11]]\n",
        "model_selector"
      ]
    },
    {
      "cell_type": "code",
      "execution_count": null,
      "id": "97c0f548",
      "metadata": {
        "id": "97c0f548"
      },
      "outputs": [],
      "source": [
        "# XGBOOST estimator on SMOTE\n",
        "xgb_smte = XGBClassifier(max_depth=10, n_estimators = 10, max_features = 17, random_state=41)\n",
        "xgb_smte.fit(X_train_smte, y_train_smte)"
      ]
    },
    {
      "cell_type": "code",
      "execution_count": null,
      "id": "409382a4",
      "metadata": {
        "id": "409382a4"
      },
      "outputs": [],
      "source": [
        "# Predection & Stats on Train Dataset\n",
        "y_train_pred = xgb_smte.predict(X_train_smte)\n",
        "print ('AUC         : ', metrics.roc_auc_score( y_train_smte, y_train_pred))\n",
        "model_metrics(y_train_smte, y_train_pred)"
      ]
    },
    {
      "cell_type": "code",
      "execution_count": null,
      "id": "41ea3855",
      "metadata": {
        "id": "41ea3855"
      },
      "outputs": [],
      "source": [
        "# Test the performance of the model on the real train (imbalanced) dataset\n",
        "y_train_pred = xgb_smte.predict(X_train)\n",
        "print ('AUC         : ', metrics.roc_auc_score( y_train, y_train_pred))\n",
        "model_metrics(y_train, y_train_pred)"
      ]
    },
    {
      "cell_type": "code",
      "execution_count": null,
      "id": "656aa05b",
      "metadata": {
        "id": "656aa05b"
      },
      "outputs": [],
      "source": [
        "# Test the performance of the model on test dataset\n",
        "y_test_pred = xgb_smte.predict(X_test)\n",
        "print ('AUC         : ', metrics.roc_auc_score( y_test, y_test_pred))\n",
        "model_metrics(y_test, y_test_pred)"
      ]
    },
    {
      "cell_type": "code",
      "execution_count": null,
      "id": "d309fb68",
      "metadata": {
        "id": "d309fb68"
      },
      "outputs": [],
      "source": [
        "# Model Selector Dataset to store various attributes of a model (based on train - test result)\n",
        "c = cost_train_test(xgb_smte, 1)\n",
        "model_selector_tt.loc[7] = ['XGB - Smote - 1', c[0], c[1], c[2], c[3], c[4], c[5], c[6], c[7], c[8], c[9], c[10], c[11]]\n",
        "model_selector_tt"
      ]
    },
    {
      "cell_type": "code",
      "execution_count": null,
      "id": "2d71e532",
      "metadata": {
        "id": "2d71e532"
      },
      "outputs": [],
      "source": [
        "# Model Selector Dataset to store various attributes of a model (based on train - test - final result)\n",
        "c = cost(xgb_smte, 1)\n",
        "model_selector.loc[7] = ['XGB - Smote - 1', c[0], c[1], c[2], c[3], c[4], c[5], c[6], c[7], c[8], c[9], c[10], c[11]]\n",
        "model_selector"
      ]
    },
    {
      "cell_type": "code",
      "execution_count": null,
      "id": "a371113a",
      "metadata": {
        "id": "a371113a"
      },
      "outputs": [],
      "source": [
        "# XGBOOST estimator on ADASYN\n",
        "xgb_ada = XGBClassifier(loss = 'exponential', max_depth=8, n_estimators = 10, max_features = 14, random_state=63)\n",
        "xgb_ada.fit(X_train_ada, y_train_ada)"
      ]
    },
    {
      "cell_type": "code",
      "execution_count": null,
      "id": "5cfcc544",
      "metadata": {
        "id": "5cfcc544"
      },
      "outputs": [],
      "source": [
        "# Predection & Stats on Train Dataset\n",
        "y_train_pred = xgb_ada.predict(X_train_ada)\n",
        "print ('AUC         : ', metrics.roc_auc_score( y_train_ada, y_train_pred))\n",
        "model_metrics(y_train_ada, y_train_pred)"
      ]
    },
    {
      "cell_type": "code",
      "execution_count": null,
      "id": "ca825a57",
      "metadata": {
        "id": "ca825a57"
      },
      "outputs": [],
      "source": [
        "# Test the performance of the model on the real train (imbalanced) dataset\n",
        "y_train_pred = xgb_ada.predict(X_train)\n",
        "print ('AUC         : ', metrics.roc_auc_score( y_train, y_train_pred))\n",
        "model_metrics(y_train, y_train_pred)"
      ]
    },
    {
      "cell_type": "code",
      "execution_count": null,
      "id": "c3093a81",
      "metadata": {
        "id": "c3093a81"
      },
      "outputs": [],
      "source": [
        "# Test the performance of the model on test dataset\n",
        "y_test_pred = xgb_ada.predict(X_test)\n",
        "print ('AUC         : ', metrics.roc_auc_score( y_test, y_test_pred))\n",
        "model_metrics(y_test, y_test_pred)"
      ]
    },
    {
      "cell_type": "code",
      "execution_count": null,
      "id": "1cd7c756",
      "metadata": {
        "id": "1cd7c756"
      },
      "outputs": [],
      "source": [
        "# Model Selector Dataset to store various attributes of a model (based on train - test result)\n",
        "c = cost_train_test(xgb_ada, 1)\n",
        "model_selector_tt.loc[8] = ['XGB - ADA - 1', c[0], c[1], c[2], c[3], c[4], c[5], c[6], c[7], c[8], c[9], c[10], c[11]]\n",
        "model_selector_tt"
      ]
    },
    {
      "cell_type": "code",
      "execution_count": null,
      "id": "1f035406",
      "metadata": {
        "id": "1f035406"
      },
      "outputs": [],
      "source": [
        "# Model Selector Dataset to store various attributes of a model (based on train - test - final result)\n",
        "c = cost(xgb_ada, 1)\n",
        "model_selector.loc[8] = ['XGB - ADA - 1', c[0], c[1], c[2], c[3], c[4], c[5], c[6], c[7], c[8], c[9], c[10], c[11]]\n",
        "model_selector"
      ]
    },
    {
      "cell_type": "markdown",
      "id": "6a7cfb13",
      "metadata": {
        "id": "6a7cfb13"
      },
      "source": [
        "XGBOOST seems to have reduced the count of False Positives and cost better than Decision tree. It has also increased the count of True Positives. Among various models of XGBOOST, the one on over sampled data seems best. Lets try GridSearch CV to test various parameters on random oversampled data."
      ]
    },
    {
      "cell_type": "code",
      "execution_count": null,
      "id": "dfb2a0a1",
      "metadata": {
        "id": "dfb2a0a1"
      },
      "outputs": [],
      "source": [
        "params = {\n",
        "    'learning_rate': [0.1, 0.5, 0.9],\n",
        "    'max_depth': [8, 10],\n",
        "    'n_estimators': [10, 15],\n",
        "    'max_features': [14],\n",
        "    'class_weight': ['balanced']\n",
        "}"
      ]
    },
    {
      "cell_type": "code",
      "execution_count": null,
      "id": "e6f0a6dc",
      "metadata": {
        "id": "e6f0a6dc"
      },
      "outputs": [],
      "source": [
        "# XGB - GridSearch CV on Oversampled data\n",
        "xgb_ro = XGBClassifier()\n",
        "my_scorer = make_scorer(my_score, greater_is_better=False)\n",
        "grid_search_xgb_ro = GridSearchCV(estimator=xgb_ro,\n",
        "                                    param_grid=params,\n",
        "                                    cv=3, n_jobs=-1, verbose=1, scoring = my_scorer)\n",
        "grid_search_xgb_ro.fit(X_train_ro, y_train_ro)"
      ]
    },
    {
      "cell_type": "code",
      "execution_count": null,
      "id": "c50d14b1",
      "metadata": {
        "id": "c50d14b1"
      },
      "outputs": [],
      "source": [
        "# Getting the data for all the models hence created\n",
        "score_df = pd.DataFrame(grid_search_xgb_ro.cv_results_)\n",
        "score_df.sort_values(['rank_test_score'], inplace=True)"
      ]
    },
    {
      "cell_type": "code",
      "execution_count": null,
      "id": "011476e8",
      "metadata": {
        "id": "011476e8"
      },
      "outputs": [],
      "source": [
        "# Getting the best model based on the score\n",
        "dt_best = grid_search_xgb_ro.best_estimator_\n",
        "dt_best"
      ]
    },
    {
      "cell_type": "code",
      "execution_count": null,
      "id": "e672cbdc",
      "metadata": {
        "id": "e672cbdc"
      },
      "outputs": [],
      "source": [
        "# Test the performance of best model on train dataset\n",
        "y_train_pred = dt_best.predict(X_train_ro)\n",
        "print ('AUC         : ', metrics.roc_auc_score( y_train_ro, y_train_pred))\n",
        "model_metrics(y_train_ro, y_train_pred)"
      ]
    },
    {
      "cell_type": "code",
      "execution_count": null,
      "id": "ff29cd00",
      "metadata": {
        "id": "ff29cd00"
      },
      "outputs": [],
      "source": [
        "# Test the performance of the model on the real train (imbalanced) dataset\n",
        "y_train_pred = dt_best.predict(X_train)\n",
        "print ('AUC         : ', metrics.roc_auc_score( y_train, y_train_pred))\n",
        "model_metrics(y_train, y_train_pred)"
      ]
    },
    {
      "cell_type": "code",
      "execution_count": null,
      "id": "7ea31f54",
      "metadata": {
        "id": "7ea31f54"
      },
      "outputs": [],
      "source": [
        "# Test the performance of the model on test dataset\n",
        "y_test_pred = dt_best.predict(X_test)\n",
        "print ('AUC         : ', metrics.roc_auc_score( y_test, y_test_pred))\n",
        "model_metrics(y_test, y_test_pred)"
      ]
    },
    {
      "cell_type": "code",
      "execution_count": null,
      "id": "bac21701",
      "metadata": {
        "id": "bac21701"
      },
      "outputs": [],
      "source": [
        "# Model Selector Dataset to store various attributes of a model (based on train - test result)\n",
        "c = cost_train_test(dt_best, 1)\n",
        "model_selector_tt.loc[9] = ['XGB - Grid Search - RO - 1', c[0], c[1], c[2], c[3], c[4], c[5], c[6], c[7], c[8], c[9], c[10], c[11]]\n",
        "model_selector_tt"
      ]
    },
    {
      "cell_type": "code",
      "execution_count": null,
      "id": "5e442f6e",
      "metadata": {
        "id": "5e442f6e"
      },
      "outputs": [],
      "source": [
        "# Model Selector Dataset to store various attributes of a model (based on train - test - final result)\n",
        "c = cost(dt_best, 1)\n",
        "model_selector.loc[9] = ['XGB - Grid Search - RO - 1', c[0], c[1], c[2], c[3], c[4], c[5], c[6], c[7], c[8], c[9], c[10], c[11]]\n",
        "model_selector"
      ]
    },
    {
      "cell_type": "code",
      "execution_count": null,
      "id": "c4825610",
      "metadata": {
        "id": "c4825610"
      },
      "outputs": [],
      "source": [
        "# Checking the best parameters derived for XGB on under sampled data\n",
        "xgb_us = XGBClassifier(learning_rate=0.7, max_depth=10, n_estimators=20)\n",
        "xgb_us.fit(X_train_us, y_train_us)"
      ]
    },
    {
      "cell_type": "code",
      "execution_count": null,
      "id": "90325b7a",
      "metadata": {
        "id": "90325b7a"
      },
      "outputs": [],
      "source": [
        "# Predection & Stats on Train Dataset\n",
        "y_train_pred = xgb_us.predict(X_train_us)\n",
        "print ('AUC         : ', metrics.roc_auc_score( y_train_us, y_train_pred))\n",
        "model_metrics(y_train_us, y_train_pred)"
      ]
    },
    {
      "cell_type": "markdown",
      "id": "cb49eba7",
      "metadata": {
        "id": "cb49eba7"
      },
      "source": [
        "This is very interesting. The model seems to have worked perfectly.Lets check its performance on test datasets."
      ]
    },
    {
      "cell_type": "code",
      "execution_count": null,
      "id": "8f36930f",
      "metadata": {
        "id": "8f36930f"
      },
      "outputs": [],
      "source": [
        "# Test the performance of the model on the real train (imbalanced) dataset\n",
        "y_train_pred = xgb_us.predict(X_train)\n",
        "print ('AUC         : ', metrics.roc_auc_score( y_train, y_train_pred))\n",
        "model_metrics(y_train, y_train_pred)"
      ]
    },
    {
      "cell_type": "code",
      "execution_count": null,
      "id": "e8a31c41",
      "metadata": {
        "id": "e8a31c41"
      },
      "outputs": [],
      "source": [
        "# Test the performance of the model on test dataset\n",
        "y_test_pred = xgb_us.predict(X_test)\n",
        "print ('AUC         : ', metrics.roc_auc_score( y_test, y_test_pred))\n",
        "model_metrics(y_test, y_test_pred)"
      ]
    },
    {
      "cell_type": "code",
      "execution_count": null,
      "id": "d6850c13",
      "metadata": {
        "id": "d6850c13"
      },
      "outputs": [],
      "source": [
        "# Train Test stats of the model\n",
        "c = cost_train_test(xgb_us, 0)"
      ]
    },
    {
      "cell_type": "code",
      "execution_count": null,
      "id": "e3f2a622",
      "metadata": {
        "id": "e3f2a622"
      },
      "outputs": [],
      "source": [
        "# Overall stats for the model\n",
        "c = cost(xgb_us, 0)"
      ]
    },
    {
      "cell_type": "markdown",
      "id": "182919ae",
      "metadata": {
        "id": "182919ae"
      },
      "source": [
        "The model has worked well to identify true positives. However, a lot of transactions were incorrectly classified as Fraud.This happened because undersampling removed non fraud data to balance the data."
      ]
    },
    {
      "cell_type": "code",
      "execution_count": null,
      "id": "e1784abd",
      "metadata": {
        "id": "e1784abd"
      },
      "outputs": [],
      "source": [
        "# Model Selector Dataset to store various attributes of a model (based on train - test result)\n",
        "c = cost_train_test(xgb_us, 1)\n",
        "model_selector_tt.loc[10] = ['XGB - US - 2', c[0], c[1], c[2], c[3], c[4], c[5], c[6], c[7], c[8], c[9], c[10], c[11]]\n",
        "model_selector_tt"
      ]
    },
    {
      "cell_type": "code",
      "execution_count": null,
      "id": "a7d14530",
      "metadata": {
        "id": "a7d14530"
      },
      "outputs": [],
      "source": [
        "# Model Selector Dataset to store various attributes of a model (based on train - test - final result)\n",
        "c = cost(xgb_us, 1)\n",
        "model_selector.loc[10] = ['XGB - US - 2', c[0], c[1], c[2], c[3], c[4], c[5], c[6], c[7], c[8], c[9], c[10], c[11]]\n",
        "model_selector"
      ]
    },
    {
      "cell_type": "code",
      "execution_count": null,
      "id": "c9688733",
      "metadata": {
        "id": "c9688733"
      },
      "outputs": [],
      "source": [
        "# Slight modification in best parameters for Over Sampled Data\n",
        "xgb_ro = XGBClassifier(learning_rate=0.5, max_depth=10, n_estimators=15, max_features = 14)\n",
        "xgb_ro.fit(X_train_ro, y_train_ro)"
      ]
    },
    {
      "cell_type": "code",
      "execution_count": null,
      "id": "bcb67791",
      "metadata": {
        "id": "bcb67791"
      },
      "outputs": [],
      "source": [
        "# Predection & Stats on Train Dataset\n",
        "y_train_pred = xgb_ro.predict(X_train_ro)\n",
        "print ('AUC         : ', metrics.roc_auc_score( y_train_ro, y_train_pred))\n",
        "model_metrics(y_train_ro, y_train_pred)"
      ]
    },
    {
      "cell_type": "code",
      "execution_count": null,
      "id": "9b7cbd3e",
      "metadata": {
        "id": "9b7cbd3e"
      },
      "outputs": [],
      "source": [
        "# Test the performance of the model on the real train (imbalanced) dataset\n",
        "y_train_pred = xgb_ro.predict(X_train)\n",
        "print ('AUC         : ', metrics.roc_auc_score( y_train, y_train_pred))\n",
        "model_metrics(y_train, y_train_pred)"
      ]
    },
    {
      "cell_type": "code",
      "execution_count": null,
      "id": "65ad0fd8",
      "metadata": {
        "id": "65ad0fd8"
      },
      "outputs": [],
      "source": [
        "# Test the performance of the model on test dataset\n",
        "y_test_pred = xgb_ro.predict(X_test)\n",
        "print ('AUC         : ', metrics.roc_auc_score( y_test, y_test_pred))\n",
        "model_metrics(y_test, y_test_pred)"
      ]
    },
    {
      "cell_type": "code",
      "execution_count": null,
      "id": "d1ed5db7",
      "metadata": {
        "id": "d1ed5db7"
      },
      "outputs": [],
      "source": [
        "# Model Selector Dataset to store various attributes of a model (based on train - test result)\n",
        "c = cost_train_test(xgb_ro, 1)\n",
        "model_selector_tt.loc[11] = ['XGB - RO - 2', c[0], c[1], c[2], c[3], c[4], c[5], c[6], c[7], c[8], c[9], c[10], c[11]]\n",
        "model_selector_tt"
      ]
    },
    {
      "cell_type": "code",
      "execution_count": null,
      "id": "00d53384",
      "metadata": {
        "id": "00d53384"
      },
      "outputs": [],
      "source": [
        "# Model Selector Dataset to store various attributes of a model (based on train - test - final result)\n",
        "c = cost(xgb_ro, 1)\n",
        "model_selector.loc[11] = ['XGB - RO - 2', c[0], c[1], c[2], c[3], c[4], c[5], c[6], c[7], c[8], c[9], c[10], c[11]]\n",
        "model_selector"
      ]
    },
    {
      "cell_type": "code",
      "execution_count": null,
      "id": "296fbd8a",
      "metadata": {
        "id": "296fbd8a"
      },
      "outputs": [],
      "source": [
        "# Checking the best parameters derived for XGB on SMOTE data\n",
        "xgb_smte = XGBClassifier(learning_rate=0.5, max_depth=10, max_features=14, n_estimators=15)\n",
        "xgb_smte.fit(X_train_smte, y_train_smte)"
      ]
    },
    {
      "cell_type": "code",
      "execution_count": null,
      "id": "7175c155",
      "metadata": {
        "id": "7175c155"
      },
      "outputs": [],
      "source": [
        "# Predection & Stats on Train Dataset\n",
        "y_train_pred = xgb_smte.predict(X_train_smte)\n",
        "print ('AUC         : ', metrics.roc_auc_score( y_train_smte, y_train_pred))\n",
        "model_metrics(y_train_smte, y_train_pred)"
      ]
    },
    {
      "cell_type": "code",
      "execution_count": null,
      "id": "7d90ed7f",
      "metadata": {
        "id": "7d90ed7f"
      },
      "outputs": [],
      "source": [
        "# Test the performance of the model on the real train (imbalanced) dataset\n",
        "y_train_pred = xgb_smte.predict(X_train)\n",
        "print ('AUC         : ', metrics.roc_auc_score( y_train, y_train_pred))\n",
        "model_metrics(y_train, y_train_pred)"
      ]
    },
    {
      "cell_type": "code",
      "execution_count": null,
      "id": "dcd69468",
      "metadata": {
        "id": "dcd69468"
      },
      "outputs": [],
      "source": [
        "# Test the performance of the model on test dataset\n",
        "y_test_pred = xgb_smte.predict(X_test)\n",
        "print ('AUC         : ', metrics.roc_auc_score( y_test, y_test_pred))\n",
        "model_metrics(y_test, y_test_pred)"
      ]
    },
    {
      "cell_type": "code",
      "execution_count": null,
      "id": "4a63619d",
      "metadata": {
        "id": "4a63619d"
      },
      "outputs": [],
      "source": [
        "# Model Selector Dataset to store various attributes of a model (based on train - test result)\n",
        "c = cost_train_test(xgb_smte, 1)\n",
        "model_selector_tt.loc[12] = ['XGB - SMTE - 2', c[0], c[1], c[2], c[3], c[4], c[5], c[6], c[7], c[8], c[9], c[10], c[11]]\n",
        "model_selector_tt"
      ]
    },
    {
      "cell_type": "code",
      "execution_count": null,
      "id": "a339246a",
      "metadata": {
        "id": "a339246a"
      },
      "outputs": [],
      "source": [
        "# Model Selector Dataset to store various attributes of a model (based on train - test - final result)\n",
        "c = cost(xgb_smte, 1)\n",
        "model_selector.loc[12] = ['XGB - SMTE - 2', c[0], c[1], c[2], c[3], c[4], c[5], c[6], c[7], c[8], c[9], c[10], c[11]]\n",
        "model_selector"
      ]
    },
    {
      "cell_type": "code",
      "execution_count": null,
      "id": "28984c8c",
      "metadata": {
        "id": "28984c8c"
      },
      "outputs": [],
      "source": [
        "# Checking the best parameters derived for XGB on ADASYN data\n",
        "xgb_ada = XGBClassifier(learning_rate=0.5, max_depth=10, n_estimators = 15, max_features = 14)\n",
        "xgb_ada.fit(X_train_ada, y_train_ada)"
      ]
    },
    {
      "cell_type": "code",
      "execution_count": null,
      "id": "b05e22c3",
      "metadata": {
        "id": "b05e22c3"
      },
      "outputs": [],
      "source": [
        "# Predection & Stats on Train Dataset\n",
        "y_train_pred = xgb_ada.predict(X_train_ada)\n",
        "print ('AUC         : ', metrics.roc_auc_score( y_train_ada, y_train_pred))\n",
        "model_metrics(y_train_ada, y_train_pred)"
      ]
    },
    {
      "cell_type": "code",
      "execution_count": null,
      "id": "e27e0302",
      "metadata": {
        "id": "e27e0302"
      },
      "outputs": [],
      "source": [
        "# Test the performance of the model on the real train (imbalanced) dataset\n",
        "y_train_pred = xgb_ada.predict(X_train)\n",
        "print ('AUC         : ', metrics.roc_auc_score( y_train, y_train_pred))\n",
        "model_metrics(y_train, y_train_pred)"
      ]
    },
    {
      "cell_type": "code",
      "execution_count": null,
      "id": "c108df43",
      "metadata": {
        "id": "c108df43"
      },
      "outputs": [],
      "source": [
        "# Test the performance of the model on test dataset\n",
        "y_test_pred = xgb_ada.predict(X_test)\n",
        "print ('AUC         : ', metrics.roc_auc_score( y_test, y_test_pred))\n",
        "model_metrics(y_test, y_test_pred)"
      ]
    },
    {
      "cell_type": "code",
      "execution_count": null,
      "id": "2f87f9c5",
      "metadata": {
        "id": "2f87f9c5"
      },
      "outputs": [],
      "source": [
        "# Model Selector Dataset to store various attributes of a model (based on train - test result)\n",
        "c = cost_train_test(xgb_ada, 1)\n",
        "model_selector_tt.loc[13] = ['XGB - ADA - 2', c[0], c[1], c[2], c[3], c[4], c[5], c[6], c[7], c[8], c[9], c[10], c[11]]\n",
        "model_selector_tt"
      ]
    },
    {
      "cell_type": "code",
      "execution_count": null,
      "id": "5458f43b",
      "metadata": {
        "id": "5458f43b"
      },
      "outputs": [],
      "source": [
        "# Model Selector Dataset to store various attributes of a model (based on train - test - final result)\n",
        "c = cost(xgb_ada, 1)\n",
        "model_selector.loc[13] = ['XGB - ADA - 2', c[0], c[1], c[2], c[3], c[4], c[5], c[6], c[7], c[8], c[9], c[10], c[11]]\n",
        "model_selector"
      ]
    },
    {
      "cell_type": "markdown",
      "id": "ecca704f",
      "metadata": {
        "id": "ecca704f"
      },
      "source": [
        "### Random Forest"
      ]
    },
    {
      "cell_type": "code",
      "execution_count": null,
      "id": "6282c57f",
      "metadata": {
        "id": "6282c57f"
      },
      "outputs": [],
      "source": [
        "from sklearn.ensemble import RandomForestClassifier"
      ]
    },
    {
      "cell_type": "code",
      "execution_count": null,
      "id": "729de218",
      "metadata": {
        "id": "729de218"
      },
      "outputs": [],
      "source": [
        "# Will start from the feature values that worked best till now\n",
        "# Random Forest on Under Sampled data\n",
        "rf_us = RandomForestClassifier(n_estimators=20, max_depth=10, bootstrap=True, oob_score=True, n_jobs=-1)\n",
        "rf_us.fit(X_train_us, y_train_us)"
      ]
    },
    {
      "cell_type": "code",
      "execution_count": null,
      "id": "63a01792",
      "metadata": {
        "id": "63a01792"
      },
      "outputs": [],
      "source": [
        "# Predection & Stats on Train Dataset\n",
        "y_train_pred = rf_us.predict(X_train_us)\n",
        "print ('AUC         : ', metrics.roc_auc_score( y_train_us, y_train_pred))\n",
        "model_metrics(y_train_us, y_train_pred)"
      ]
    },
    {
      "cell_type": "code",
      "execution_count": null,
      "id": "7959a732",
      "metadata": {
        "id": "7959a732"
      },
      "outputs": [],
      "source": [
        "# Test the performance of the model on the real train (imbalanced) dataset\n",
        "y_train_pred = rf_us.predict(X_train)\n",
        "print ('AUC         : ', metrics.roc_auc_score( y_train, y_train_pred))\n",
        "model_metrics(y_train, y_train_pred)"
      ]
    },
    {
      "cell_type": "code",
      "execution_count": null,
      "id": "694331d5",
      "metadata": {
        "id": "694331d5"
      },
      "outputs": [],
      "source": [
        "# Test the performance of the model on test dataset\n",
        "y_test_pred = rf_us.predict(X_test)\n",
        "print ('AUC         : ', metrics.roc_auc_score( y_test, y_test_pred))\n",
        "model_metrics(y_test, y_test_pred)"
      ]
    },
    {
      "cell_type": "code",
      "execution_count": null,
      "id": "efd11792",
      "metadata": {
        "id": "efd11792"
      },
      "outputs": [],
      "source": [
        "# Model Selector Dataset to store various attributes of a model (based on train - test result)\n",
        "c = cost_train_test(rf_us, 1)\n",
        "model_selector_tt.loc[14] = ['RF - US - 1', c[0], c[1], c[2], c[3], c[4], c[5], c[6], c[7], c[8], c[9], c[10], c[11]]\n",
        "model_selector_tt"
      ]
    },
    {
      "cell_type": "code",
      "execution_count": null,
      "id": "4f9622c0",
      "metadata": {
        "id": "4f9622c0"
      },
      "outputs": [],
      "source": [
        "# Model Selector Dataset to store various attributes of a model (based on train - test - final result)\n",
        "c = cost(rf_us, 1)\n",
        "model_selector.loc[14] = ['RF - US - 1', c[0], c[1], c[2], c[3], c[4], c[5], c[6], c[7], c[8], c[9], c[10], c[11]]\n",
        "model_selector"
      ]
    },
    {
      "cell_type": "code",
      "execution_count": null,
      "id": "7ff90359",
      "metadata": {
        "id": "7ff90359"
      },
      "outputs": [],
      "source": [
        "# Random Forest on Over Sampled data\n",
        "rf_ro = RandomForestClassifier(n_estimators=10, max_depth=10, max_features = 12, bootstrap=True, oob_score=True, n_jobs=-1, random_state=0)\n",
        "rf_ro.fit(X_train_ro, y_train_ro)"
      ]
    },
    {
      "cell_type": "code",
      "execution_count": null,
      "id": "afb119ca",
      "metadata": {
        "id": "afb119ca"
      },
      "outputs": [],
      "source": [
        "# Predection & Stats on Train Dataset\n",
        "y_train_pred = rf_ro.predict(X_train_ro)\n",
        "print ('AUC         : ', metrics.roc_auc_score( y_train_ro, y_train_pred))\n",
        "model_metrics(y_train_ro, y_train_pred)"
      ]
    },
    {
      "cell_type": "code",
      "execution_count": null,
      "id": "44af7afa",
      "metadata": {
        "id": "44af7afa"
      },
      "outputs": [],
      "source": [
        "# Test the performance of the model on the real train (imbalanced) dataset\n",
        "y_train_pred = rf_ro.predict(X_train)\n",
        "print ('AUC         : ', metrics.roc_auc_score( y_train, y_train_pred))\n",
        "model_metrics(y_train, y_train_pred)"
      ]
    },
    {
      "cell_type": "code",
      "execution_count": null,
      "id": "aed56fec",
      "metadata": {
        "id": "aed56fec"
      },
      "outputs": [],
      "source": [
        "# Test the performance of the model on test dataset\n",
        "y_test_pred = rf_ro.predict(X_test)\n",
        "print ('AUC         : ', metrics.roc_auc_score( y_test, y_test_pred))\n",
        "model_metrics(y_test, y_test_pred)"
      ]
    },
    {
      "cell_type": "code",
      "execution_count": null,
      "id": "43db111b",
      "metadata": {
        "id": "43db111b"
      },
      "outputs": [],
      "source": [
        "# Model Selector Dataset to store various attributes of a model (based on train - test result)\n",
        "c = cost_train_test(rf_ro, 1)\n",
        "model_selector_tt.loc[15] = ['RF - RO - 1', c[0], c[1], c[2], c[3], c[4], c[5], c[6], c[7], c[8], c[9], c[10], c[11]]\n",
        "model_selector_tt"
      ]
    },
    {
      "cell_type": "code",
      "execution_count": null,
      "id": "fcfe64e4",
      "metadata": {
        "id": "fcfe64e4"
      },
      "outputs": [],
      "source": [
        "# Model Selector Dataset to store various attributes of a model (based on train - test - final result)\n",
        "c = cost(rf_ro, 1)\n",
        "model_selector.loc[15] = ['RF - RO - 1', c[0], c[1], c[2], c[3], c[4], c[5], c[6], c[7], c[8], c[9], c[10], c[11]]\n",
        "model_selector"
      ]
    },
    {
      "cell_type": "code",
      "execution_count": null,
      "id": "1d8df80b",
      "metadata": {
        "id": "1d8df80b"
      },
      "outputs": [],
      "source": [
        "# Random Forest on SMOTE data\n",
        "rf_smte = RandomForestClassifier(n_estimators=10, max_depth=12, max_features = 12, bootstrap=True, oob_score=True, n_jobs=-1, random_state=63)\n",
        "rf_smte.fit(X_train_smte, y_train_smte)"
      ]
    },
    {
      "cell_type": "code",
      "execution_count": null,
      "id": "ab93a884",
      "metadata": {
        "id": "ab93a884"
      },
      "outputs": [],
      "source": [
        "# Predection & Stats on Train Dataset\n",
        "y_train_pred = rf_smte.predict(X_train_smte)\n",
        "print ('AUC         : ', metrics.roc_auc_score( y_train_smte, y_train_pred))\n",
        "model_metrics(y_train_smte, y_train_pred)"
      ]
    },
    {
      "cell_type": "code",
      "execution_count": null,
      "id": "451858f7",
      "metadata": {
        "id": "451858f7"
      },
      "outputs": [],
      "source": [
        "# Test the performance of the model on the real train (imbalanced) dataset\n",
        "y_train_pred = rf_smte.predict(X_train)\n",
        "print ('AUC         : ', metrics.roc_auc_score( y_train, y_train_pred))\n",
        "model_metrics(y_train, y_train_pred)"
      ]
    },
    {
      "cell_type": "code",
      "execution_count": null,
      "id": "9678776d",
      "metadata": {
        "id": "9678776d"
      },
      "outputs": [],
      "source": [
        "# Test the performance of the model on test dataset\n",
        "y_test_pred = rf_smte.predict(X_test)\n",
        "print ('AUC         : ', metrics.roc_auc_score( y_test, y_test_pred))\n",
        "model_metrics(y_test, y_test_pred)"
      ]
    },
    {
      "cell_type": "code",
      "execution_count": null,
      "id": "d0e61726",
      "metadata": {
        "id": "d0e61726"
      },
      "outputs": [],
      "source": [
        "# Model Selector Dataset to store various attributes of a model (based on train - test result)\n",
        "c = cost_train_test(rf_smte, 1)\n",
        "model_selector_tt.loc[16] = ['RF - SMTE - 1', c[0], c[1], c[2], c[3], c[4], c[5], c[6], c[7], c[8], c[9], c[10], c[11]]\n",
        "model_selector_tt"
      ]
    },
    {
      "cell_type": "code",
      "execution_count": null,
      "id": "8a2b6e89",
      "metadata": {
        "id": "8a2b6e89"
      },
      "outputs": [],
      "source": [
        "# Model Selector Dataset to store various attributes of a model (based on train - test - final result)\n",
        "c = cost(rf_smte, 1)\n",
        "model_selector.loc[16] = ['RF - SMTE - 1', c[0], c[1], c[2], c[3], c[4], c[5], c[6], c[7], c[8], c[9], c[10], c[11]]\n",
        "model_selector"
      ]
    },
    {
      "cell_type": "code",
      "execution_count": null,
      "id": "f52f578c",
      "metadata": {
        "id": "f52f578c"
      },
      "outputs": [],
      "source": [
        "# Random Forest on ADASYN data\n",
        "rf_ada = RandomForestClassifier(n_estimators=15, max_depth=10, max_features = 14, bootstrap=True, oob_score=True, n_jobs=-1, random_state=63)\n",
        "rf_ada.fit(X_train_ada, y_train_ada)\n"
      ]
    },
    {
      "cell_type": "code",
      "execution_count": null,
      "id": "6e63c5d8",
      "metadata": {
        "id": "6e63c5d8"
      },
      "outputs": [],
      "source": [
        "# Predection & Stats on Train Dataset\n",
        "y_train_pred = rf_ada.predict(X_train_ada)\n",
        "print ('AUC         : ', metrics.roc_auc_score( y_train_ada, y_train_pred))\n",
        "model_metrics(y_train_ada, y_train_pred)"
      ]
    },
    {
      "cell_type": "code",
      "execution_count": null,
      "id": "9e7cb3bc",
      "metadata": {
        "id": "9e7cb3bc"
      },
      "outputs": [],
      "source": [
        "# Test the performance of the model on the real train (imbalanced) dataset\n",
        "y_train_pred = rf_ada.predict(X_train)\n",
        "print ('AUC         : ', metrics.roc_auc_score( y_train, y_train_pred))\n",
        "model_metrics(y_train, y_train_pred)"
      ]
    },
    {
      "cell_type": "code",
      "execution_count": null,
      "id": "eeb40c59",
      "metadata": {
        "id": "eeb40c59"
      },
      "outputs": [],
      "source": [
        "# Test the performance of the model on test dataset\n",
        "y_test_pred = rf_ada.predict(X_test)\n",
        "print ('AUC         : ', metrics.roc_auc_score( y_test, y_test_pred))\n",
        "model_metrics(y_test, y_test_pred)"
      ]
    },
    {
      "cell_type": "code",
      "execution_count": null,
      "id": "8b88be27",
      "metadata": {
        "id": "8b88be27"
      },
      "outputs": [],
      "source": [
        "# Model Selector Dataset to store various attributes of a model (based on train - test result)\n",
        "c = cost_train_test(rf_ada, 1)\n",
        "model_selector_tt.loc[17] = ['RF - ADA - 1', c[0], c[1], c[2], c[3], c[4], c[5], c[6], c[7], c[8], c[9], c[10], c[11]]\n",
        "model_selector_tt"
      ]
    },
    {
      "cell_type": "code",
      "execution_count": null,
      "id": "8eb6a2a8",
      "metadata": {
        "id": "8eb6a2a8"
      },
      "outputs": [],
      "source": [
        "# Model Selector Dataset to store various attributes of a model (based on train - test - final result)\n",
        "c = cost(rf_ada, 1)\n",
        "model_selector.loc[17] = ['RF - ADA - 1', c[0], c[1], c[2], c[3], c[4], c[5], c[6], c[7], c[8], c[9], c[10], c[11]]\n",
        "model_selector"
      ]
    },
    {
      "cell_type": "code",
      "execution_count": null,
      "id": "bafcdca0",
      "metadata": {
        "id": "bafcdca0"
      },
      "outputs": [],
      "source": [
        "# Parameter tuining using GridSearch CV\n",
        "params = {\n",
        "    'max_depth': [8, 10],\n",
        "    'n_estimators': [10, 15],\n",
        "    'max_features': [12, 14],\n",
        "#    'min_samples_split': [50, 100],\n",
        "#    'min_samples_leaf':  [50, 100],\n",
        "#    'max_leaf_nodes': [200, 250, 300],\n",
        "    'random_state':[21, 41]\n",
        "}"
      ]
    },
    {
      "cell_type": "code",
      "execution_count": null,
      "id": "c7846c96",
      "metadata": {
        "id": "c7846c96"
      },
      "outputs": [],
      "source": [
        "# Random Forest with GridSearch CV on Over Sampled data\n",
        "rf_ro = RandomForestClassifier()\n",
        "y_scorer = make_scorer(my_score, greater_is_better=False)\n",
        "grid_search_rf_ro = GridSearchCV(estimator=rf_ro,\n",
        "                                    param_grid=params,\n",
        "                                    cv=2, n_jobs=-1, verbose=1, scoring = my_scorer)\n",
        "grid_search_rf_ro.fit(X_train_ro, y_train_ro)"
      ]
    },
    {
      "cell_type": "code",
      "execution_count": null,
      "id": "762edeef",
      "metadata": {
        "id": "762edeef"
      },
      "outputs": [],
      "source": [
        "# Getting the data for all the models hence created\n",
        "score_df = pd.DataFrame(grid_search_rf_ro.cv_results_)\n",
        "score_df.sort_values(['rank_test_score'], inplace=True)\n",
        "score_df.head()"
      ]
    },
    {
      "cell_type": "code",
      "execution_count": null,
      "id": "53719151",
      "metadata": {
        "id": "53719151"
      },
      "outputs": [],
      "source": [
        "# Getting the best model based on the score\n",
        "dt_best = grid_search_rf_ro.best_estimator_\n",
        "dt_best"
      ]
    },
    {
      "cell_type": "code",
      "execution_count": null,
      "id": "78728a39",
      "metadata": {
        "id": "78728a39"
      },
      "outputs": [],
      "source": [
        "# Predection & Stats on Train Dataset\n",
        "y_train_pred = dt_best.predict(X_train_ro)\n",
        "print ('AUC         : ', metrics.roc_auc_score( y_train_ro, y_train_pred))\n",
        "model_metrics(y_train_ro, y_train_pred)"
      ]
    },
    {
      "cell_type": "code",
      "execution_count": null,
      "id": "4ca2ae6b",
      "metadata": {
        "id": "4ca2ae6b"
      },
      "outputs": [],
      "source": [
        "# Test the performance of the model on the real train (imbalanced) dataset\n",
        "y_train_pred = dt_best.predict(X_train)\n",
        "print ('AUC         : ', metrics.roc_auc_score( y_train, y_train_pred))\n",
        "model_metrics(y_train, y_train_pred)"
      ]
    },
    {
      "cell_type": "code",
      "execution_count": null,
      "id": "e40cedd5",
      "metadata": {
        "id": "e40cedd5"
      },
      "outputs": [],
      "source": [
        "# Test the performance of the model on test dataset\n",
        "y_test_pred = dt_best.predict(X_test)\n",
        "print ('AUC         : ', metrics.roc_auc_score( y_test, y_test_pred))\n",
        "model_metrics(y_test, y_test_pred)"
      ]
    },
    {
      "cell_type": "code",
      "execution_count": null,
      "id": "4c9cb0a1",
      "metadata": {
        "id": "4c9cb0a1"
      },
      "outputs": [],
      "source": [
        "# Model Selector Dataset to store various attributes of a model (based on train - test result)\n",
        "c = cost_train_test(dt_best, 1)\n",
        "model_selector_tt.loc[18] = ['RF - Grid Search - RO - 1', c[0], c[1], c[2], c[3], c[4], c[5], c[6], c[7], c[8], c[9], c[10], c[11]]\n",
        "model_selector_tt"
      ]
    },
    {
      "cell_type": "code",
      "execution_count": null,
      "id": "cee885f7",
      "metadata": {
        "id": "cee885f7"
      },
      "outputs": [],
      "source": [
        "# Model Selector Dataset to store various attributes of a model (based on train - test - final result)\n",
        "c = cost(dt_best, 1)\n",
        "model_selector.loc[18] = ['RF - Grid Search - RO - 1', c[0], c[1], c[2], c[3], c[4], c[5], c[6], c[7], c[8], c[9], c[10], c[11]]\n",
        "model_selector"
      ]
    },
    {
      "cell_type": "code",
      "execution_count": null,
      "id": "a0a79a17",
      "metadata": {
        "id": "a0a79a17"
      },
      "outputs": [],
      "source": [
        "# Slight modifications on the best parameters obtained\n",
        "rf_ro = RandomForestClassifier(n_estimators=10, max_depth=12, max_features = 10, random_state=42, bootstrap=True, oob_score=True, n_jobs=-1)\n",
        "rf_ro.fit(X_train_ro, y_train_ro)"
      ]
    },
    {
      "cell_type": "code",
      "execution_count": null,
      "id": "fbdfa56e",
      "metadata": {
        "id": "fbdfa56e"
      },
      "outputs": [],
      "source": [
        "# Predection & Stats on Train Dataset\n",
        "y_train_pred = rf_ro.predict(X_train_ro)\n",
        "print ('AUC         : ', metrics.roc_auc_score( y_train_ro, y_train_pred))\n",
        "model_metrics(y_train_ro, y_train_pred)"
      ]
    },
    {
      "cell_type": "code",
      "execution_count": null,
      "id": "988fd28f",
      "metadata": {
        "id": "988fd28f"
      },
      "outputs": [],
      "source": [
        "# Test the performance of the model on the real train (imbalanced) dataset\n",
        "y_train_pred = rf_ro.predict(X_train)\n",
        "print ('AUC         : ', metrics.roc_auc_score( y_train, y_train_pred))\n",
        "model_metrics(y_train, y_train_pred)"
      ]
    },
    {
      "cell_type": "code",
      "execution_count": null,
      "id": "ce7037b2",
      "metadata": {
        "id": "ce7037b2"
      },
      "outputs": [],
      "source": [
        "# Test the performance of the model on test dataset\n",
        "y_test_pred = rf_ro.predict(X_test)\n",
        "print ('AUC         : ', metrics.roc_auc_score( y_test, y_test_pred))\n",
        "model_metrics(y_test, y_test_pred)"
      ]
    },
    {
      "cell_type": "code",
      "execution_count": null,
      "id": "1e20a7d3",
      "metadata": {
        "id": "1e20a7d3"
      },
      "outputs": [],
      "source": [
        "# Model Selector Dataset to store various attributes of a model (based on train - test result)\n",
        "c = cost_train_test(rf_ro, 1)\n",
        "model_selector_tt.loc[19] = ['RF - RO - 2', c[0], c[1], c[2], c[3], c[4], c[5], c[6], c[7], c[8], c[9], c[10], c[11]]\n",
        "model_selector_tt"
      ]
    },
    {
      "cell_type": "code",
      "execution_count": null,
      "id": "40412632",
      "metadata": {
        "id": "40412632"
      },
      "outputs": [],
      "source": [
        "# Model Selector Dataset to store various attributes of a model (based on train - test - final result)\n",
        "c = cost(rf_ro, 1)\n",
        "model_selector.loc[19] = ['RF - RO - 2', c[0], c[1], c[2], c[3], c[4], c[5], c[6], c[7], c[8], c[9], c[10], c[11]]\n",
        "model_selector"
      ]
    },
    {
      "cell_type": "markdown",
      "id": "46c7a3c5",
      "metadata": {
        "id": "46c7a3c5"
      },
      "source": [
        "### Model Selection\n",
        "- Now that we have multiple models ranging in recall, precision & cost; let's try to pick the one which is best.\n",
        "- The best model for our case will be the one which identifies maximum Frauds (high TP), leaves very less Frauds undetected (low FN) and less incorrectly identified frauds (less FP).\n",
        "- Based on the above, we will use the metrices of Precision and Recall and also the custom metric for Price to pick the best suited model.\n",
        "- Higher recall will ensure that the model allowed very few actual fraud cases let go. Most of them were captured.\n",
        "- High precision would ensure we only identify actual frauds as fraud. Identifying a legitimate transaction as fraud would lower the precision. However, there is a trade-off between Precision & Recall and hence we compromised a bit on Precision to get better Recall."
      ]
    },
    {
      "cell_type": "code",
      "execution_count": null,
      "id": "f0fcb1b2",
      "metadata": {
        "id": "f0fcb1b2"
      },
      "outputs": [],
      "source": [
        "# Top train-test models in terms of Precision\n",
        "best_prec_tt = model_selector_tt[(model_selector_tt.Precision >= 0.55)]\n",
        "best_prec_tt.sort_values(['Precision'], ascending=False)"
      ]
    },
    {
      "cell_type": "code",
      "execution_count": null,
      "id": "4a11cf02",
      "metadata": {
        "id": "4a11cf02"
      },
      "outputs": [],
      "source": [
        "# Top train-test models in terms of Recall\n",
        "best_recall_tt = model_selector_tt[(model_selector_tt.Recall >= 0.97)]\n",
        "best_recall_tt.sort_values(['Recall'], ascending=False)"
      ]
    },
    {
      "cell_type": "markdown",
      "id": "70339897",
      "metadata": {
        "id": "70339897"
      },
      "source": [
        "Based on the train-test metrices, only model 11 (XGB - RO - 2) seems to have high recall & precision. Lets see the same lists for overall metrices."
      ]
    },
    {
      "cell_type": "code",
      "execution_count": null,
      "id": "ef78d27b",
      "metadata": {
        "id": "ef78d27b"
      },
      "outputs": [],
      "source": [
        "# Top overall models in terms of Precision\n",
        "best_prec = model_selector[(model_selector.Precision >= 0.50)]\n",
        "best_prec.sort_values(['Precision'], ascending=False)"
      ]
    },
    {
      "cell_type": "code",
      "execution_count": null,
      "id": "57b19bdd",
      "metadata": {
        "id": "57b19bdd"
      },
      "outputs": [],
      "source": [
        "# Top overall models in terms of Recall\n",
        "best_recall = model_selector[(model_selector.Recall >= 0.95)]\n",
        "best_recall.sort_values(['Recall'], ascending=False)"
      ]
    },
    {
      "cell_type": "markdown",
      "id": "bea0aa96",
      "metadata": {
        "id": "bea0aa96"
      },
      "source": [
        "- Clearly for model 11 (XGB - RO - 2), the overall ranking in terms of recall has fallen but it is still the top model to have both - high Precision and Recall. Rest of the models seems to trade-off one metric for other.\n",
        "- There are models with better Precision or better Recall than this model, but this one seems best when we see both these measures.\n",
        "- Let's define a cutoff of Precision and Recall to see how many models qualify both."
      ]
    },
    {
      "cell_type": "code",
      "execution_count": null,
      "id": "aab6ad2f",
      "metadata": {
        "id": "aab6ad2f"
      },
      "outputs": [],
      "source": [
        "# Select the best model in terms of Precision & Recall from the Train-Test metrics dataset\n",
        "best_tt = model_selector_tt[(model_selector_tt.Precision >= 0.55) & (model_selector_tt.Recall >=.95)]\n",
        "best_tt"
      ]
    },
    {
      "cell_type": "code",
      "execution_count": null,
      "id": "8e0e28a4",
      "metadata": {
        "id": "8e0e28a4"
      },
      "outputs": [],
      "source": [
        "# Select the best model in terms of Precision & Recall from the Train-Test metrics dataset\n",
        "best_overall = model_selector[(model_selector.Precision >= 0.55) & (model_selector.Recall >=.95)]\n",
        "best_overall"
      ]
    },
    {
      "cell_type": "markdown",
      "id": "bd6f6031",
      "metadata": {
        "id": "bd6f6031"
      },
      "source": [
        "While there are couple of models with both high recall and precision during TRIAN-Test, only model 11 (XGB - RO - 2) has retained it overall."
      ]
    },
    {
      "cell_type": "code",
      "execution_count": null,
      "id": "1e952b8b",
      "metadata": {
        "id": "1e952b8b"
      },
      "outputs": [],
      "source": [
        "# Scaling the cost field & keeping only the most needed measures. We have only selected high Accuracy and ROC models. Hence, dropping thoese 2 fields also.\n",
        "model_selector['cost_scaled'] = model_selector['Cost']/100000"
      ]
    },
    {
      "cell_type": "code",
      "execution_count": null,
      "id": "6948889c",
      "metadata": {
        "id": "6948889c"
      },
      "outputs": [],
      "source": [
        "# Check the relation between Cost and False Positive cases (we want both to be less)\n",
        "plt.figure(figsize = (15,5))\n",
        "plt.title('Cost Vs False Positives')\n",
        "plt.xticks(np.arange(0,21,1))\n",
        "plt.plot(model_selector.Cost, 'g')\n",
        "plt.plot(model_selector.FP, 'r')\n",
        "plt.show()"
      ]
    },
    {
      "cell_type": "markdown",
      "id": "50c0b78e",
      "metadata": {
        "id": "50c0b78e"
      },
      "source": [
        "Based on above graph, model 11 (XGB - RO - 2) seems to do justice with Cost Vs FP comparison also."
      ]
    },
    {
      "cell_type": "code",
      "execution_count": null,
      "id": "8bda0b05",
      "metadata": {
        "id": "8bda0b05"
      },
      "outputs": [],
      "source": [
        "# Check the relation between Precision and Recall\n",
        "plt.figure(figsize = (15,5))\n",
        "plt.title('Precision Vs Recall')\n",
        "plt.xticks(np.arange(0,21,1))\n",
        "plt.plot(model_selector.Precision, 'g')\n",
        "plt.plot(model_selector.Recall/2, 'r')\n",
        "plt.show()"
      ]
    },
    {
      "cell_type": "markdown",
      "id": "6c3b1b2f",
      "metadata": {
        "id": "6c3b1b2f"
      },
      "source": [
        "- Based on the above analysis, model 'XGB - RO - 2' seems to be best suited for the job. It has low incorrect fraud tagging and still not so high cost. It also has comparative Precision and Recall.\n",
        "- Let's try some more modification to see if we can get even better."
      ]
    },
    {
      "cell_type": "code",
      "execution_count": null,
      "id": "8d936ac1",
      "metadata": {
        "id": "8d936ac1"
      },
      "outputs": [],
      "source": [
        "# Parameter grid for GridSearch CV method\n",
        "params = {\n",
        "    'learning_rate': [0.5],\n",
        "    'max_depth': [10],\n",
        "    'n_estimators': [15],\n",
        "    'max_features': [14],\n",
        "    'min_samples_leaf': [1, 2, 3, 4, 5],\n",
        "    'max_leaf_nodes': [5, 10, 15]\n",
        "#    'random_state': [41, 63],\n",
        "}"
      ]
    },
    {
      "cell_type": "code",
      "execution_count": null,
      "id": "b7a44dc2",
      "metadata": {
        "id": "b7a44dc2"
      },
      "outputs": [],
      "source": [
        "# XGB on Over Sampled data with parameter tuining\n",
        "xgb_ro = XGBClassifier()\n",
        "my_scorer = make_scorer(my_score, greater_is_better=False)\n",
        "grid_search_xgb_ro = GridSearchCV(estimator=xgb_ro,\n",
        "                                    param_grid=params,\n",
        "                                    cv=3, n_jobs=-1, verbose=1, scoring = my_scorer)\n",
        "grid_search_xgb_ro.fit(X_train_ro, y_train_ro)"
      ]
    },
    {
      "cell_type": "code",
      "execution_count": null,
      "id": "56bf01f2",
      "metadata": {
        "id": "56bf01f2"
      },
      "outputs": [],
      "source": [
        "# Getting the data for all the models hence created\n",
        "score_df = pd.DataFrame(grid_search_xgb_ro.cv_results_)\n",
        "score_df.sort_values(['rank_test_score'], inplace=True)"
      ]
    },
    {
      "cell_type": "code",
      "execution_count": null,
      "id": "d920b8a7",
      "metadata": {
        "id": "d920b8a7"
      },
      "outputs": [],
      "source": [
        "# Getting the best model based on the score\n",
        "dt_best = grid_search_xgb_ro.best_estimator_\n",
        "dt_best"
      ]
    },
    {
      "cell_type": "code",
      "execution_count": null,
      "id": "1ae7d63d",
      "metadata": {
        "id": "1ae7d63d"
      },
      "outputs": [],
      "source": [
        "# Test the performance of best model on train dataset\n",
        "y_train_pred = dt_best.predict(X_train_ro)\n",
        "draw_roc(y_train_ro, y_train_pred)\n",
        "model_metrics(y_train_ro, y_train_pred)"
      ]
    },
    {
      "cell_type": "code",
      "execution_count": null,
      "id": "a5d151e0",
      "metadata": {
        "id": "a5d151e0"
      },
      "outputs": [],
      "source": [
        "# Test the performance of the model on the real train (imbalanced) dataset\n",
        "y_train_pred = dt_best.predict(X_train)\n",
        "print ('AUC         : ', metrics.roc_auc_score( y_train, y_train_pred))\n",
        "model_metrics(y_train, y_train_pred)"
      ]
    },
    {
      "cell_type": "code",
      "execution_count": null,
      "id": "34a0b48c",
      "metadata": {
        "id": "34a0b48c"
      },
      "outputs": [],
      "source": [
        "# Test the performance of the model on test dataset\n",
        "y_test_pred = dt_best.predict(X_test)\n",
        "print ('AUC         : ', metrics.roc_auc_score( y_test, y_test_pred))\n",
        "model_metrics(y_test, y_test_pred)"
      ]
    },
    {
      "cell_type": "code",
      "execution_count": null,
      "id": "3f5bd43e",
      "metadata": {
        "id": "3f5bd43e"
      },
      "outputs": [],
      "source": [
        "# Train-Test Metrices\n",
        "c = cost_train_test(dt_best, 0)"
      ]
    },
    {
      "cell_type": "code",
      "execution_count": null,
      "id": "40d6a4d5",
      "metadata": {
        "id": "40d6a4d5"
      },
      "outputs": [],
      "source": [
        "# Overall Metrices\n",
        "c = cost(dt_best, 0)"
      ]
    },
    {
      "cell_type": "markdown",
      "id": "07f12e68",
      "metadata": {
        "id": "07f12e68"
      },
      "source": [
        "Even with hyper parameter tuining the result remains the same So, we will finalize the model 11."
      ]
    },
    {
      "cell_type": "markdown",
      "id": "5ed84827",
      "metadata": {
        "id": "5ed84827"
      },
      "source": [
        "### Final Model"
      ]
    },
    {
      "cell_type": "code",
      "execution_count": null,
      "id": "dffc2b00",
      "metadata": {
        "id": "dffc2b00"
      },
      "outputs": [],
      "source": [
        "# four best models that balances TP, FP, FN and Cost\n",
        "final_models = model_selector[(model_selector.index == 9) |\n",
        "                              (model_selector.index == 10) |\n",
        "                              (model_selector.index == 11) |\n",
        "                              (model_selector.index == 13)\n",
        "                              ]\n",
        "final_models"
      ]
    },
    {
      "cell_type": "markdown",
      "id": "e41ead15",
      "metadata": {
        "id": "e41ead15"
      },
      "source": [
        "Out of the four best models, 'XGB - RO - 2' keeps the true positive comparatively high while keeping a check on false negatives (missed frauds). The model also keeps a tab on incorrectly identified frauds. In process the cost is also comparable. Hence, this is the model to be recommended."
      ]
    },
    {
      "cell_type": "markdown",
      "id": "d44ff2a6",
      "metadata": {
        "id": "d44ff2a6"
      },
      "source": [
        "A quick recap of the final model"
      ]
    },
    {
      "cell_type": "code",
      "execution_count": null,
      "id": "06fd163b",
      "metadata": {
        "id": "06fd163b"
      },
      "outputs": [],
      "source": [
        "# Final Model\n",
        "xgb_ro = XGBClassifier(learning_rate=0.5, max_depth=10, n_estimators=15, max_features = 14)\n",
        "xgb_ro.fit(X_train_ro, y_train_ro)"
      ]
    },
    {
      "cell_type": "code",
      "execution_count": null,
      "id": "b1f824b8",
      "metadata": {
        "id": "b1f824b8"
      },
      "outputs": [],
      "source": [
        "# Model performance on train data\n",
        "y_train_pred = xgb_ro.predict(X_train_ro)\n",
        "draw_roc(y_train_ro, y_train_pred)\n",
        "model_metrics(y_train_ro, y_train_pred)"
      ]
    },
    {
      "cell_type": "code",
      "execution_count": null,
      "id": "b0d6c878",
      "metadata": {
        "id": "b0d6c878"
      },
      "outputs": [],
      "source": [
        "# Test the performance of the model on the real train (imbalanced) dataset\n",
        "y_train_pred = xgb_ro.predict(X_train)\n",
        "print ('AUC         : ', metrics.roc_auc_score( y_train, y_train_pred))\n",
        "model_metrics(y_train, y_train_pred)"
      ]
    },
    {
      "cell_type": "code",
      "execution_count": null,
      "id": "40b7816c",
      "metadata": {
        "id": "40b7816c"
      },
      "outputs": [],
      "source": [
        "# Model performance on test data\n",
        "y_test_pred = xgb_ro.predict(X_test)\n",
        "draw_roc(y_test, y_test_pred)\n",
        "model_metrics(y_test, y_test_pred)"
      ]
    },
    {
      "cell_type": "code",
      "execution_count": null,
      "id": "1f22e3af",
      "metadata": {
        "id": "1f22e3af"
      },
      "outputs": [],
      "source": [
        "# Model performance on final data\n",
        "y_final_pred = xgb_ro.predict(X_final)\n",
        "draw_roc(y_final, y_final_pred)\n",
        "model_metrics(y_final, y_final_pred)"
      ]
    },
    {
      "cell_type": "code",
      "execution_count": null,
      "id": "8a2c3e82",
      "metadata": {
        "id": "8a2c3e82"
      },
      "outputs": [],
      "source": [
        "# Extracting the features significance\n",
        "imp_df = pd.DataFrame({\n",
        "    \"Varname\": X_train_smte.columns,\n",
        "    \"Imp\": xgb_ro.feature_importances_})\n",
        "\n",
        "imp_df.sort_values(by=\"Imp\", ascending=False)"
      ]
    },
    {
      "cell_type": "code",
      "execution_count": null,
      "id": "5ec54a0e",
      "metadata": {
        "id": "5ec54a0e"
      },
      "outputs": [],
      "source": [
        "# Finally the financials of this model\n",
        "c = cost(xgb_ro, 0)"
      ]
    }
  ],
  "metadata": {
    "colab": {
      "provenance": [],
      "include_colab_link": true
    },
    "kernelspec": {
      "display_name": "Python 3",
      "language": "python",
      "name": "python3"
    },
    "language_info": {
      "codemirror_mode": {
        "name": "ipython",
        "version": 3
      },
      "file_extension": ".py",
      "mimetype": "text/x-python",
      "name": "python",
      "nbconvert_exporter": "python",
      "pygments_lexer": "ipython3",
      "version": "3.7.12"
    },
    "papermill": {
      "default_parameters": {},
      "duration": 6013.259775,
      "end_time": "2022-04-28T21:04:14.382390",
      "environment_variables": {},
      "exception": null,
      "input_path": "__notebook__.ipynb",
      "output_path": "__notebook__.ipynb",
      "parameters": {},
      "start_time": "2022-04-28T19:24:01.122615",
      "version": "2.3.4"
    }
  },
  "nbformat": 4,
  "nbformat_minor": 5
}